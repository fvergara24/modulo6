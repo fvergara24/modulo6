{
 "cells": [
  {
   "cell_type": "markdown",
   "metadata": {},
   "source": [
    "# NLP\n",
    "\n",
    "A lo largo del notebook vamos a trabajar con el siguiente dataset:\n",
    "\n",
    "https://www.kaggle.com/rmisra/news-headlines-dataset-for-sarcasm-detection/\n",
    "\n",
    "El objetivo es que se familiaricen con algunas herramientas típicas del Procesamiento del Lenguaje Natural (NLP por sus siglas en inglés).\n",
    "\n",
    "La biblioteca fundamental que vamos a usar es NLTK. Probablemente tengan que instalarla. Para ello, pongan `conda install nltk` en la terminal."
   ]
  },
  {
   "cell_type": "markdown",
   "metadata": {},
   "source": [
    "## 1. Carga de datos\n",
    "\n",
    "Lo primero que tienen que hacer es fijarse en qué formato están los datos. ¿De qué se trata es formato?¿Cómo se abre? Si googlean, van a ver que hay muchas formas de abrir archivos JSON con Python. Como venimos trabajando con Pandas, googleen \"Open JSON with Pandas\". Prueben esa función. Si les tira un error en el primer intento, googleen el error. Les aseguramos que la respuesta está muy a mano y es muy accesible, no tienen que hacer nada raro."
   ]
  },
  {
   "cell_type": "code",
   "execution_count": 1,
   "metadata": {},
   "outputs": [
    {
     "name": "stderr",
     "output_type": "stream",
     "text": [
      "[nltk_data] Downloading package punkt to\n",
      "[nltk_data]     C:\\Users\\lopez\\AppData\\Roaming\\nltk_data...\n",
      "[nltk_data]   Package punkt is already up-to-date!\n",
      "[nltk_data] Downloading package stopwords to\n",
      "[nltk_data]     C:\\Users\\lopez\\AppData\\Roaming\\nltk_data...\n",
      "[nltk_data]   Package stopwords is already up-to-date!\n"
     ]
    },
    {
     "data": {
      "text/plain": [
       "True"
      ]
     },
     "execution_count": 1,
     "metadata": {},
     "output_type": "execute_result"
    }
   ],
   "source": [
    "import itertools\n",
    "\n",
    "import numpy as np\n",
    "import pandas as pd\n",
    "\n",
    "import matplotlib.pyplot as plt\n",
    "import seaborn as sns\n",
    "sns.set()\n",
    "\n",
    "import nltk\n",
    "\n",
    "# Esto sirve para configurar NLTK. La primera vez puede tardar un poco\n",
    "nltk.download('punkt')\n",
    "nltk.download('stopwords')"
   ]
  },
  {
   "cell_type": "code",
   "execution_count": 2,
   "metadata": {},
   "outputs": [
    {
     "data": {
      "text/html": [
       "<div>\n",
       "<style scoped>\n",
       "    .dataframe tbody tr th:only-of-type {\n",
       "        vertical-align: middle;\n",
       "    }\n",
       "\n",
       "    .dataframe tbody tr th {\n",
       "        vertical-align: top;\n",
       "    }\n",
       "\n",
       "    .dataframe thead th {\n",
       "        text-align: right;\n",
       "    }\n",
       "</style>\n",
       "<table border=\"1\" class=\"dataframe\">\n",
       "  <thead>\n",
       "    <tr style=\"text-align: right;\">\n",
       "      <th></th>\n",
       "      <th>article_link</th>\n",
       "      <th>headline</th>\n",
       "      <th>is_sarcastic</th>\n",
       "    </tr>\n",
       "  </thead>\n",
       "  <tbody>\n",
       "    <tr>\n",
       "      <th>0</th>\n",
       "      <td>https://www.huffingtonpost.com/entry/versace-b...</td>\n",
       "      <td>former versace store clerk sues over secret 'b...</td>\n",
       "      <td>0</td>\n",
       "    </tr>\n",
       "    <tr>\n",
       "      <th>1</th>\n",
       "      <td>https://www.huffingtonpost.com/entry/roseanne-...</td>\n",
       "      <td>the 'roseanne' revival catches up to our thorn...</td>\n",
       "      <td>0</td>\n",
       "    </tr>\n",
       "    <tr>\n",
       "      <th>2</th>\n",
       "      <td>https://local.theonion.com/mom-starting-to-fea...</td>\n",
       "      <td>mom starting to fear son's web series closest ...</td>\n",
       "      <td>1</td>\n",
       "    </tr>\n",
       "    <tr>\n",
       "      <th>3</th>\n",
       "      <td>https://politics.theonion.com/boehner-just-wan...</td>\n",
       "      <td>boehner just wants wife to listen, not come up...</td>\n",
       "      <td>1</td>\n",
       "    </tr>\n",
       "    <tr>\n",
       "      <th>4</th>\n",
       "      <td>https://www.huffingtonpost.com/entry/jk-rowlin...</td>\n",
       "      <td>j.k. rowling wishes snape happy birthday in th...</td>\n",
       "      <td>0</td>\n",
       "    </tr>\n",
       "  </tbody>\n",
       "</table>\n",
       "</div>"
      ],
      "text/plain": [
       "                                        article_link  \\\n",
       "0  https://www.huffingtonpost.com/entry/versace-b...   \n",
       "1  https://www.huffingtonpost.com/entry/roseanne-...   \n",
       "2  https://local.theonion.com/mom-starting-to-fea...   \n",
       "3  https://politics.theonion.com/boehner-just-wan...   \n",
       "4  https://www.huffingtonpost.com/entry/jk-rowlin...   \n",
       "\n",
       "                                            headline  is_sarcastic  \n",
       "0  former versace store clerk sues over secret 'b...             0  \n",
       "1  the 'roseanne' revival catches up to our thorn...             0  \n",
       "2  mom starting to fear son's web series closest ...             1  \n",
       "3  boehner just wants wife to listen, not come up...             1  \n",
       "4  j.k. rowling wishes snape happy birthday in th...             0  "
      ]
     },
     "execution_count": 2,
     "metadata": {},
     "output_type": "execute_result"
    }
   ],
   "source": [
    "dataset = pd.read_json('../DataSets/Sarcasm_Headlines_Dataset.json', lines= True)\n",
    "dataset.head()"
   ]
  },
  {
   "cell_type": "markdown",
   "metadata": {},
   "source": [
    "¿Qué forma tiene el dataset?¿Cuántas instancias?¿Cuáles son sus columnas?¿Cuántos titulares hay de cada tipo?¿Podemos hablar ya de *features*?"
   ]
  },
  {
   "cell_type": "code",
   "execution_count": 3,
   "metadata": {},
   "outputs": [
    {
     "data": {
      "text/plain": [
       "(26709, 3)"
      ]
     },
     "execution_count": 3,
     "metadata": {},
     "output_type": "execute_result"
    }
   ],
   "source": [
    "dataset.shape"
   ]
  },
  {
   "cell_type": "code",
   "execution_count": 4,
   "metadata": {},
   "outputs": [
    {
     "name": "stderr",
     "output_type": "stream",
     "text": [
      "C:\\Users\\lopez\\miniconda3\\envs\\datascience\\lib\\site-packages\\seaborn\\_decorators.py:36: FutureWarning: Pass the following variable as a keyword arg: x. From version 0.12, the only valid positional argument will be `data`, and passing other arguments without an explicit keyword will result in an error or misinterpretation.\n",
      "  warnings.warn(\n"
     ]
    },
    {
     "data": {
      "image/png": "[encoded data removed]",
      "text/plain": [
       "<Figure size 432x288 with 1 Axes>"
      ]
     },
     "metadata": {},
     "output_type": "display_data"
    }
   ],
   "source": [
    "sns.countplot(dataset.is_sarcastic)\n",
    "plt.show()"
   ]
  },
  {
   "cell_type": "markdown",
   "metadata": {},
   "source": [
    "## 2. Breve exploración del dataset\n",
    "\n",
    "Elegir una instancia del dataset al azar y seleccionar el *headline*."
   ]
  },
  {
   "cell_type": "code",
   "execution_count": 5,
   "metadata": {},
   "outputs": [
    {
     "name": "stdout",
     "output_type": "stream",
     "text": [
      "12289 turn your scraps of summer fruit into the most gorgeous ice cubes\n"
     ]
    }
   ],
   "source": [
    "index_random = np.random.randint(0,high = dataset.shape[0])\n",
    "titular = dataset.iloc[index_random].headline\n",
    "print(index_random, titular)"
   ]
  },
  {
   "cell_type": "markdown",
   "metadata": {},
   "source": [
    "¿Les parece que es sarcástico?¿Qué características del texto les hace creer - o no - eso? Comprobar si es sarcástico o no imprimiendo en la celda de abajo el valor correspondiente del dataset. (Como la mayoría de los titulares están en inglés y encima refieren a política local, no se preocupen si es una tarea difícil)."
   ]
  },
  {
   "cell_type": "code",
   "execution_count": 6,
   "metadata": {},
   "outputs": [
    {
     "name": "stdout",
     "output_type": "stream",
     "text": [
      "12289 0\n"
     ]
    }
   ],
   "source": [
    "print(index_random, dataset.iloc[index_random].is_sarcastic)"
   ]
  },
  {
   "cell_type": "markdown",
   "metadata": {},
   "source": [
    "## 3. NLTK\n",
    "\n",
    "Si es difícil para algunos humanos detectar el sarcasmo, probablemente también lo sea para una computadora. De todas formas, se puede hacer el intento. Para ello, es necesario extraer características de cada texto que nos sirvan para ir apuntando al objetivo. Elegir un titular que les llame la atención y probar las siguientes herramientas:\n",
    "\n",
    "### Tokenización\n",
    "\n",
    "¿Qué es y para qué sirve?¿Cuáles de todas las formas de tokenización presentadas les parece más útil para este problema?\n",
    "\n",
    "1. `sent_tokenize`"
   ]
  },
  {
   "cell_type": "code",
   "execution_count": 8,
   "metadata": {},
   "outputs": [
    {
     "data": {
      "text/plain": [
       "str"
      ]
     },
     "execution_count": 8,
     "metadata": {},
     "output_type": "execute_result"
    }
   ],
   "source": [
    "type(titular)"
   ]
  },
  {
   "cell_type": "code",
   "execution_count": 9,
   "metadata": {},
   "outputs": [
    {
     "data": {
      "text/plain": [
       "['turn your scraps of summer fruit into the most gorgeous ice cubes']"
      ]
     },
     "execution_count": 9,
     "metadata": {},
     "output_type": "execute_result"
    }
   ],
   "source": [
    "titular_st = nltk.tokenize.sent_tokenize(titular)\n",
    "titular_st"
   ]
  },
  {
   "cell_type": "markdown",
   "metadata": {},
   "source": [
    "2. word_tokenize"
   ]
  },
  {
   "cell_type": "code",
   "execution_count": 10,
   "metadata": {},
   "outputs": [
    {
     "data": {
      "text/plain": [
       "['turn',\n",
       " 'your',\n",
       " 'scraps',\n",
       " 'of',\n",
       " 'summer',\n",
       " 'fruit',\n",
       " 'into',\n",
       " 'the',\n",
       " 'most',\n",
       " 'gorgeous',\n",
       " 'ice',\n",
       " 'cubes']"
      ]
     },
     "execution_count": 10,
     "metadata": {},
     "output_type": "execute_result"
    }
   ],
   "source": [
    "titular_wt = nltk.tokenize.word_tokenize(titular)\n",
    "titular_wt"
   ]
  },
  {
   "cell_type": "code",
   "execution_count": 11,
   "metadata": {},
   "outputs": [
    {
     "data": {
      "text/plain": [
       "'  el    día    de    ayer    fue    el    día    más    lluvioso    del    año    !    !       '"
      ]
     },
     "execution_count": 11,
     "metadata": {},
     "output_type": "execute_result"
    }
   ],
   "source": [
    "import re\n",
    "titular_wt = nltk.tokenize.word_tokenize(\"El día de ayer fue el día más lluvioso del año!!.\".lower())\n",
    "re.sub(\"[^a-zA-Z!ñíá]\",\" \",str(titular_wt))"
   ]
  },
  {
   "cell_type": "markdown",
   "metadata": {},
   "source": [
    "### Normalización\n",
    "\n",
    "¿Qué es y para qué sirve? Notar que varias formas de normalización ya vienen aplicadas en el dataset.\n",
    "\n",
    "1. Stopwords\n",
    "\n",
    "Importar los `stopwords` del inglés e imprimirlos."
   ]
  },
  {
   "cell_type": "code",
   "execution_count": 12,
   "metadata": {
    "scrolled": true
   },
   "outputs": [
    {
     "data": {
      "text/plain": [
       "['de',\n",
       " 'la',\n",
       " 'que',\n",
       " 'el',\n",
       " 'en',\n",
       " 'y',\n",
       " 'a',\n",
       " 'los',\n",
       " 'del',\n",
       " 'se',\n",
       " 'las',\n",
       " 'por',\n",
       " 'un',\n",
       " 'para',\n",
       " 'con',\n",
       " 'no',\n",
       " 'una',\n",
       " 'su',\n",
       " 'al',\n",
       " 'lo',\n",
       " 'como',\n",
       " 'más',\n",
       " 'pero',\n",
       " 'sus',\n",
       " 'le',\n",
       " 'ya',\n",
       " 'o',\n",
       " 'este',\n",
       " 'sí',\n",
       " 'porque',\n",
       " 'esta',\n",
       " 'entre',\n",
       " 'cuando',\n",
       " 'muy',\n",
       " 'sin',\n",
       " 'sobre',\n",
       " 'también',\n",
       " 'me',\n",
       " 'hasta',\n",
       " 'hay',\n",
       " 'donde',\n",
       " 'quien',\n",
       " 'desde',\n",
       " 'todo',\n",
       " 'nos',\n",
       " 'durante',\n",
       " 'todos',\n",
       " 'uno',\n",
       " 'les',\n",
       " 'ni',\n",
       " 'contra',\n",
       " 'otros',\n",
       " 'ese',\n",
       " 'eso',\n",
       " 'ante',\n",
       " 'ellos',\n",
       " 'e',\n",
       " 'esto',\n",
       " 'mí',\n",
       " 'antes',\n",
       " 'algunos',\n",
       " 'qué',\n",
       " 'unos',\n",
       " 'yo',\n",
       " 'otro',\n",
       " 'otras',\n",
       " 'otra',\n",
       " 'él',\n",
       " 'tanto',\n",
       " 'esa',\n",
       " 'estos',\n",
       " 'mucho',\n",
       " 'quienes',\n",
       " 'nada',\n",
       " 'muchos',\n",
       " 'cual',\n",
       " 'poco',\n",
       " 'ella',\n",
       " 'estar',\n",
       " 'estas',\n",
       " 'algunas',\n",
       " 'algo',\n",
       " 'nosotros',\n",
       " 'mi',\n",
       " 'mis',\n",
       " 'tú',\n",
       " 'te',\n",
       " 'ti',\n",
       " 'tu',\n",
       " 'tus',\n",
       " 'ellas',\n",
       " 'nosotras',\n",
       " 'vosotros',\n",
       " 'vosotras',\n",
       " 'os',\n",
       " 'mío',\n",
       " 'mía',\n",
       " 'míos',\n",
       " 'mías',\n",
       " 'tuyo',\n",
       " 'tuya',\n",
       " 'tuyos',\n",
       " 'tuyas',\n",
       " 'suyo',\n",
       " 'suya',\n",
       " 'suyos',\n",
       " 'suyas',\n",
       " 'nuestro',\n",
       " 'nuestra',\n",
       " 'nuestros',\n",
       " 'nuestras',\n",
       " 'vuestro',\n",
       " 'vuestra',\n",
       " 'vuestros',\n",
       " 'vuestras',\n",
       " 'esos',\n",
       " 'esas',\n",
       " 'estoy',\n",
       " 'estás',\n",
       " 'está',\n",
       " 'estamos',\n",
       " 'estáis',\n",
       " 'están',\n",
       " 'esté',\n",
       " 'estés',\n",
       " 'estemos',\n",
       " 'estéis',\n",
       " 'estén',\n",
       " 'estaré',\n",
       " 'estarás',\n",
       " 'estará',\n",
       " 'estaremos',\n",
       " 'estaréis',\n",
       " 'estarán',\n",
       " 'estaría',\n",
       " 'estarías',\n",
       " 'estaríamos',\n",
       " 'estaríais',\n",
       " 'estarían',\n",
       " 'estaba',\n",
       " 'estabas',\n",
       " 'estábamos',\n",
       " 'estabais',\n",
       " 'estaban',\n",
       " 'estuve',\n",
       " 'estuviste',\n",
       " 'estuvo',\n",
       " 'estuvimos',\n",
       " 'estuvisteis',\n",
       " 'estuvieron',\n",
       " 'estuviera',\n",
       " 'estuvieras',\n",
       " 'estuviéramos',\n",
       " 'estuvierais',\n",
       " 'estuvieran',\n",
       " 'estuviese',\n",
       " 'estuvieses',\n",
       " 'estuviésemos',\n",
       " 'estuvieseis',\n",
       " 'estuviesen',\n",
       " 'estando',\n",
       " 'estado',\n",
       " 'estada',\n",
       " 'estados',\n",
       " 'estadas',\n",
       " 'estad',\n",
       " 'he',\n",
       " 'has',\n",
       " 'ha',\n",
       " 'hemos',\n",
       " 'habéis',\n",
       " 'han',\n",
       " 'haya',\n",
       " 'hayas',\n",
       " 'hayamos',\n",
       " 'hayáis',\n",
       " 'hayan',\n",
       " 'habré',\n",
       " 'habrás',\n",
       " 'habrá',\n",
       " 'habremos',\n",
       " 'habréis',\n",
       " 'habrán',\n",
       " 'habría',\n",
       " 'habrías',\n",
       " 'habríamos',\n",
       " 'habríais',\n",
       " 'habrían',\n",
       " 'había',\n",
       " 'habías',\n",
       " 'habíamos',\n",
       " 'habíais',\n",
       " 'habían',\n",
       " 'hube',\n",
       " 'hubiste',\n",
       " 'hubo',\n",
       " 'hubimos',\n",
       " 'hubisteis',\n",
       " 'hubieron',\n",
       " 'hubiera',\n",
       " 'hubieras',\n",
       " 'hubiéramos',\n",
       " 'hubierais',\n",
       " 'hubieran',\n",
       " 'hubiese',\n",
       " 'hubieses',\n",
       " 'hubiésemos',\n",
       " 'hubieseis',\n",
       " 'hubiesen',\n",
       " 'habiendo',\n",
       " 'habido',\n",
       " 'habida',\n",
       " 'habidos',\n",
       " 'habidas',\n",
       " 'soy',\n",
       " 'eres',\n",
       " 'es',\n",
       " 'somos',\n",
       " 'sois',\n",
       " 'son',\n",
       " 'sea',\n",
       " 'seas',\n",
       " 'seamos',\n",
       " 'seáis',\n",
       " 'sean',\n",
       " 'seré',\n",
       " 'serás',\n",
       " 'será',\n",
       " 'seremos',\n",
       " 'seréis',\n",
       " 'serán',\n",
       " 'sería',\n",
       " 'serías',\n",
       " 'seríamos',\n",
       " 'seríais',\n",
       " 'serían',\n",
       " 'era',\n",
       " 'eras',\n",
       " 'éramos',\n",
       " 'erais',\n",
       " 'eran',\n",
       " 'fui',\n",
       " 'fuiste',\n",
       " 'fue',\n",
       " 'fuimos',\n",
       " 'fuisteis',\n",
       " 'fueron',\n",
       " 'fuera',\n",
       " 'fueras',\n",
       " 'fuéramos',\n",
       " 'fuerais',\n",
       " 'fueran',\n",
       " 'fuese',\n",
       " 'fueses',\n",
       " 'fuésemos',\n",
       " 'fueseis',\n",
       " 'fuesen',\n",
       " 'sintiendo',\n",
       " 'sentido',\n",
       " 'sentida',\n",
       " 'sentidos',\n",
       " 'sentidas',\n",
       " 'siente',\n",
       " 'sentid',\n",
       " 'tengo',\n",
       " 'tienes',\n",
       " 'tiene',\n",
       " 'tenemos',\n",
       " 'tenéis',\n",
       " 'tienen',\n",
       " 'tenga',\n",
       " 'tengas',\n",
       " 'tengamos',\n",
       " 'tengáis',\n",
       " 'tengan',\n",
       " 'tendré',\n",
       " 'tendrás',\n",
       " 'tendrá',\n",
       " 'tendremos',\n",
       " 'tendréis',\n",
       " 'tendrán',\n",
       " 'tendría',\n",
       " 'tendrías',\n",
       " 'tendríamos',\n",
       " 'tendríais',\n",
       " 'tendrían',\n",
       " 'tenía',\n",
       " 'tenías',\n",
       " 'teníamos',\n",
       " 'teníais',\n",
       " 'tenían',\n",
       " 'tuve',\n",
       " 'tuviste',\n",
       " 'tuvo',\n",
       " 'tuvimos',\n",
       " 'tuvisteis',\n",
       " 'tuvieron',\n",
       " 'tuviera',\n",
       " 'tuvieras',\n",
       " 'tuviéramos',\n",
       " 'tuvierais',\n",
       " 'tuvieran',\n",
       " 'tuviese',\n",
       " 'tuvieses',\n",
       " 'tuviésemos',\n",
       " 'tuvieseis',\n",
       " 'tuviesen',\n",
       " 'teniendo',\n",
       " 'tenido',\n",
       " 'tenida',\n",
       " 'tenidos',\n",
       " 'tenidas',\n",
       " 'tened']"
      ]
     },
     "execution_count": 12,
     "metadata": {},
     "output_type": "execute_result"
    }
   ],
   "source": [
    "stopwords = nltk.corpus.stopwords.words('spanish')\n",
    "stopwords = [palabra for palabra in stopwords if 'not' not in palabra]\n",
    "stopwords"
   ]
  },
  {
   "cell_type": "markdown",
   "metadata": {},
   "source": [
    "¿Les parece conveniente aplicar todos los stopwords que aparecen en esa lista?\n",
    "\n",
    "Eliminar del titular elegido los stopwords."
   ]
  },
  {
   "cell_type": "code",
   "execution_count": 13,
   "metadata": {},
   "outputs": [
    {
     "data": {
      "text/plain": [
       "['día', 'ayer', 'día', 'lluvioso', 'año', '!', '!', '.']"
      ]
     },
     "execution_count": 13,
     "metadata": {},
     "output_type": "execute_result"
    }
   ],
   "source": [
    "titular_wt_sin_sw = [word for word in titular_wt if word not in stopwords]\n",
    "titular_wt_sin_sw"
   ]
  },
  {
   "cell_type": "markdown",
   "metadata": {},
   "source": [
    "¿Cuál o cuáles palabras se fueron?"
   ]
  },
  {
   "cell_type": "markdown",
   "metadata": {},
   "source": [
    "### Frecuencia de palabras\n",
    "\n",
    "Dado el titular ya tokenizado por palabras y sin stopwords, usar `nltk` para extrar la frecuencia con que aparece cada palabras. ¿Tiene sentido esto para titulares?"
   ]
  },
  {
   "cell_type": "code",
   "execution_count": 14,
   "metadata": {},
   "outputs": [
    {
     "data": {
      "text/plain": [
       "['día', 'ayer', 'día', 'lluvioso', 'año', '!', '!', '.']"
      ]
     },
     "execution_count": 14,
     "metadata": {},
     "output_type": "execute_result"
    }
   ],
   "source": [
    "titular_wt_sin_sw"
   ]
  },
  {
   "cell_type": "code",
   "execution_count": 15,
   "metadata": {},
   "outputs": [
    {
     "data": {
      "text/plain": [
       "FreqDist({'día': 2, '!': 2, 'ayer': 1, 'lluvioso': 1, 'año': 1, '.': 1})"
      ]
     },
     "execution_count": 15,
     "metadata": {},
     "output_type": "execute_result"
    }
   ],
   "source": [
    "freq = nltk.FreqDist(titular_wt_sin_sw)\n",
    "freq"
   ]
  },
  {
   "cell_type": "code",
   "execution_count": 16,
   "metadata": {},
   "outputs": [
    {
     "data": {
      "text/plain": [
       "nltk.probability.FreqDist"
      ]
     },
     "execution_count": 16,
     "metadata": {},
     "output_type": "execute_result"
    }
   ],
   "source": [
    "type(freq)"
   ]
  },
  {
   "cell_type": "markdown",
   "metadata": {},
   "source": [
    "### Dataset Completo\n",
    "\n",
    "Antes de pasar a extraer features de cada instancia del Dataset, podemos hacer un pequeño análisis del dataset en su conjunto. Por ejemplo, una opción es agrupar todos los titulares por tipo y extraer de cada clase las palabras más frecuentes. Para ello:\n",
    "\n",
    "1. Agrupar los titulares por tipo. Crear un dataframe para cada uno. Recuerden usar máscaras.\n",
    "2. Crear una lista vacia y agregar en esa lista todos los titulares (por tipo/dataframe creado) ya tokenizados (usar el `RegexpTokenizer`) y filtrado por `stopwords`.\n",
    "3. Usar el `FreqDist` en esa lista que acaban de llenar. Llevar lo que devuelve `FreqDist` a un Dataframe. Ordenar por frecuencia en que aparece cada palabra.\n",
    "4. Hacer un `barplot` o similar para visualizar.\n",
    "5. ¿Qué palabras filtrarían, aparte de las que aparecen en `stopwords`? Crear una lista vacía y agregarlas a mano. Agregar en el código que realizaron una línea (similar a la que usan con `stopwords`) para que también filtre por esas palabras.\n",
    "6. Volver a visualizar.\n",
    "\n",
    "#### No-Sarcasmo"
   ]
  },
  {
   "cell_type": "code",
   "execution_count": 17,
   "metadata": {},
   "outputs": [],
   "source": [
    "stopwords = nltk.corpus.stopwords.words('english')\n",
    "filtrar = []\n",
    "if True:\n",
    "    filtrar.append(\"u\")\n",
    "    filtrar.append(\"new\")"
   ]
  },
  {
   "cell_type": "code",
   "execution_count": 18,
   "metadata": {},
   "outputs": [
    {
     "data": {
      "text/html": [
       "<div>\n",
       "<style scoped>\n",
       "    .dataframe tbody tr th:only-of-type {\n",
       "        vertical-align: middle;\n",
       "    }\n",
       "\n",
       "    .dataframe tbody tr th {\n",
       "        vertical-align: top;\n",
       "    }\n",
       "\n",
       "    .dataframe thead th {\n",
       "        text-align: right;\n",
       "    }\n",
       "</style>\n",
       "<table border=\"1\" class=\"dataframe\">\n",
       "  <thead>\n",
       "    <tr style=\"text-align: right;\">\n",
       "      <th></th>\n",
       "      <th>article_link</th>\n",
       "      <th>headline</th>\n",
       "      <th>is_sarcastic</th>\n",
       "    </tr>\n",
       "  </thead>\n",
       "  <tbody>\n",
       "    <tr>\n",
       "      <th>0</th>\n",
       "      <td>https://www.huffingtonpost.com/entry/versace-b...</td>\n",
       "      <td>former versace store clerk sues over secret 'b...</td>\n",
       "      <td>0</td>\n",
       "    </tr>\n",
       "    <tr>\n",
       "      <th>1</th>\n",
       "      <td>https://www.huffingtonpost.com/entry/roseanne-...</td>\n",
       "      <td>the 'roseanne' revival catches up to our thorn...</td>\n",
       "      <td>0</td>\n",
       "    </tr>\n",
       "    <tr>\n",
       "      <th>4</th>\n",
       "      <td>https://www.huffingtonpost.com/entry/jk-rowlin...</td>\n",
       "      <td>j.k. rowling wishes snape happy birthday in th...</td>\n",
       "      <td>0</td>\n",
       "    </tr>\n",
       "    <tr>\n",
       "      <th>5</th>\n",
       "      <td>https://www.huffingtonpost.com/entry/advancing...</td>\n",
       "      <td>advancing the world's women</td>\n",
       "      <td>0</td>\n",
       "    </tr>\n",
       "    <tr>\n",
       "      <th>6</th>\n",
       "      <td>https://www.huffingtonpost.com/entry/how-meat-...</td>\n",
       "      <td>the fascinating case for eating lab-grown meat</td>\n",
       "      <td>0</td>\n",
       "    </tr>\n",
       "  </tbody>\n",
       "</table>\n",
       "</div>"
      ],
      "text/plain": [
       "                                        article_link  \\\n",
       "0  https://www.huffingtonpost.com/entry/versace-b...   \n",
       "1  https://www.huffingtonpost.com/entry/roseanne-...   \n",
       "4  https://www.huffingtonpost.com/entry/jk-rowlin...   \n",
       "5  https://www.huffingtonpost.com/entry/advancing...   \n",
       "6  https://www.huffingtonpost.com/entry/how-meat-...   \n",
       "\n",
       "                                            headline  is_sarcastic  \n",
       "0  former versace store clerk sues over secret 'b...             0  \n",
       "1  the 'roseanne' revival catches up to our thorn...             0  \n",
       "4  j.k. rowling wishes snape happy birthday in th...             0  \n",
       "5                        advancing the world's women             0  \n",
       "6     the fascinating case for eating lab-grown meat             0  "
      ]
     },
     "execution_count": 18,
     "metadata": {},
     "output_type": "execute_result"
    }
   ],
   "source": [
    "dataset_no_sarcasmo = dataset[dataset.is_sarcastic==0]\n",
    "dataset_no_sarcasmo.head()"
   ]
  },
  {
   "cell_type": "code",
   "execution_count": 19,
   "metadata": {},
   "outputs": [],
   "source": [
    "todos_titulares_no_sarcasmo = []\n",
    "for i in range(dataset_no_sarcasmo.shape[0]):\n",
    "    titular = dataset_no_sarcasmo.iloc[i].headline\n",
    "    titular = nltk.tokenize.RegexpTokenizer(\"[\\w]+\").tokenize(titular)\n",
    "    titular = [word for word in titular if word not in stopwords]\n",
    "    titular = [word for word in titular if word not in filtrar]\n",
    "\n",
    "    todos_titulares_no_sarcasmo.append(titular)"
   ]
  },
  {
   "cell_type": "code",
   "execution_count": 20,
   "metadata": {},
   "outputs": [
    {
     "data": {
      "text/plain": [
       "['former',\n",
       " 'versace',\n",
       " 'store',\n",
       " 'clerk',\n",
       " 'sues',\n",
       " 'secret',\n",
       " 'black',\n",
       " 'code',\n",
       " 'minority',\n",
       " 'shoppers']"
      ]
     },
     "execution_count": 20,
     "metadata": {},
     "output_type": "execute_result"
    }
   ],
   "source": [
    "todos_titulares_no_sarcasmo = list(itertools.chain(*todos_titulares_no_sarcasmo))\n",
    "todos_titulares_no_sarcasmo[0:10]"
   ]
  },
  {
   "cell_type": "code",
   "execution_count": 21,
   "metadata": {},
   "outputs": [
    {
     "data": {
      "text/plain": [
       "['h', 'o', 'l', 'a', ' ', 'm', 'u', 'n', 'd', 'o']"
      ]
     },
     "execution_count": 21,
     "metadata": {},
     "output_type": "execute_result"
    }
   ],
   "source": [
    "list(itertools.chain(*('hola mundo')))"
   ]
  },
  {
   "cell_type": "code",
   "execution_count": 22,
   "metadata": {},
   "outputs": [
    {
     "data": {
      "text/plain": [
       "FreqDist({'trump': 1446, 'donald': 458, 'says': 349, 'women': 317, 'one': 268, 'year': 244, 'first': 242, 'world': 241, 'man': 241, 'people': 241, ...})"
      ]
     },
     "execution_count": 22,
     "metadata": {},
     "output_type": "execute_result"
    }
   ],
   "source": [
    "freq_no_sarcasmo = nltk.FreqDist(todos_titulares_no_sarcasmo)\n",
    "freq_no_sarcasmo"
   ]
  },
  {
   "cell_type": "code",
   "execution_count": 23,
   "metadata": {},
   "outputs": [
    {
     "data": {
      "text/html": [
       "<div>\n",
       "<style scoped>\n",
       "    .dataframe tbody tr th:only-of-type {\n",
       "        vertical-align: middle;\n",
       "    }\n",
       "\n",
       "    .dataframe tbody tr th {\n",
       "        vertical-align: top;\n",
       "    }\n",
       "\n",
       "    .dataframe thead th {\n",
       "        text-align: right;\n",
       "    }\n",
       "</style>\n",
       "<table border=\"1\" class=\"dataframe\">\n",
       "  <thead>\n",
       "    <tr style=\"text-align: right;\">\n",
       "      <th></th>\n",
       "      <th>Word</th>\n",
       "      <th>Frequency</th>\n",
       "    </tr>\n",
       "  </thead>\n",
       "  <tbody>\n",
       "    <tr>\n",
       "      <th>0</th>\n",
       "      <td>former</td>\n",
       "      <td>82</td>\n",
       "    </tr>\n",
       "    <tr>\n",
       "      <th>1</th>\n",
       "      <td>versace</td>\n",
       "      <td>1</td>\n",
       "    </tr>\n",
       "    <tr>\n",
       "      <th>2</th>\n",
       "      <td>store</td>\n",
       "      <td>14</td>\n",
       "    </tr>\n",
       "    <tr>\n",
       "      <th>3</th>\n",
       "      <td>clerk</td>\n",
       "      <td>5</td>\n",
       "    </tr>\n",
       "    <tr>\n",
       "      <th>4</th>\n",
       "      <td>sues</td>\n",
       "      <td>15</td>\n",
       "    </tr>\n",
       "  </tbody>\n",
       "</table>\n",
       "</div>"
      ],
      "text/plain": [
       "      Word  Frequency\n",
       "0   former         82\n",
       "1  versace          1\n",
       "2    store         14\n",
       "3    clerk          5\n",
       "4     sues         15"
      ]
     },
     "execution_count": 23,
     "metadata": {},
     "output_type": "execute_result"
    }
   ],
   "source": [
    "df_no_sarcasmo = pd.DataFrame(list(freq_no_sarcasmo.items()), columns = [\"Word\",\"Frequency\"])\n",
    "df_no_sarcasmo.head()"
   ]
  },
  {
   "cell_type": "code",
   "execution_count": 24,
   "metadata": {},
   "outputs": [
    {
     "data": {
      "text/html": [
       "<div>\n",
       "<style scoped>\n",
       "    .dataframe tbody tr th:only-of-type {\n",
       "        vertical-align: middle;\n",
       "    }\n",
       "\n",
       "    .dataframe tbody tr th {\n",
       "        vertical-align: top;\n",
       "    }\n",
       "\n",
       "    .dataframe thead th {\n",
       "        text-align: right;\n",
       "    }\n",
       "</style>\n",
       "<table border=\"1\" class=\"dataframe\">\n",
       "  <thead>\n",
       "    <tr style=\"text-align: right;\">\n",
       "      <th></th>\n",
       "      <th>Word</th>\n",
       "      <th>Frequency</th>\n",
       "    </tr>\n",
       "  </thead>\n",
       "  <tbody>\n",
       "    <tr>\n",
       "      <th>46</th>\n",
       "      <td>trump</td>\n",
       "      <td>1446</td>\n",
       "    </tr>\n",
       "    <tr>\n",
       "      <th>229</th>\n",
       "      <td>donald</td>\n",
       "      <td>458</td>\n",
       "    </tr>\n",
       "    <tr>\n",
       "      <th>421</th>\n",
       "      <td>says</td>\n",
       "      <td>349</td>\n",
       "    </tr>\n",
       "    <tr>\n",
       "      <th>29</th>\n",
       "      <td>women</td>\n",
       "      <td>317</td>\n",
       "    </tr>\n",
       "    <tr>\n",
       "      <th>258</th>\n",
       "      <td>one</td>\n",
       "      <td>268</td>\n",
       "    </tr>\n",
       "    <tr>\n",
       "      <th>305</th>\n",
       "      <td>year</td>\n",
       "      <td>244</td>\n",
       "    </tr>\n",
       "    <tr>\n",
       "      <th>284</th>\n",
       "      <td>first</td>\n",
       "      <td>242</td>\n",
       "    </tr>\n",
       "    <tr>\n",
       "      <th>28</th>\n",
       "      <td>world</td>\n",
       "      <td>241</td>\n",
       "    </tr>\n",
       "    <tr>\n",
       "      <th>52</th>\n",
       "      <td>man</td>\n",
       "      <td>241</td>\n",
       "    </tr>\n",
       "    <tr>\n",
       "      <th>343</th>\n",
       "      <td>people</td>\n",
       "      <td>241</td>\n",
       "    </tr>\n",
       "    <tr>\n",
       "      <th>114</th>\n",
       "      <td>obama</td>\n",
       "      <td>235</td>\n",
       "    </tr>\n",
       "    <tr>\n",
       "      <th>340</th>\n",
       "      <td>day</td>\n",
       "      <td>226</td>\n",
       "    </tr>\n",
       "    <tr>\n",
       "      <th>594</th>\n",
       "      <td>make</td>\n",
       "      <td>217</td>\n",
       "    </tr>\n",
       "    <tr>\n",
       "      <th>353</th>\n",
       "      <td>gop</td>\n",
       "      <td>215</td>\n",
       "    </tr>\n",
       "    <tr>\n",
       "      <th>132</th>\n",
       "      <td>like</td>\n",
       "      <td>213</td>\n",
       "    </tr>\n",
       "    <tr>\n",
       "      <th>369</th>\n",
       "      <td>5</td>\n",
       "      <td>212</td>\n",
       "    </tr>\n",
       "    <tr>\n",
       "      <th>6</th>\n",
       "      <td>black</td>\n",
       "      <td>208</td>\n",
       "    </tr>\n",
       "    <tr>\n",
       "      <th>749</th>\n",
       "      <td>get</td>\n",
       "      <td>207</td>\n",
       "    </tr>\n",
       "    <tr>\n",
       "      <th>198</th>\n",
       "      <td>life</td>\n",
       "      <td>203</td>\n",
       "    </tr>\n",
       "    <tr>\n",
       "      <th>1143</th>\n",
       "      <td>clinton</td>\n",
       "      <td>203</td>\n",
       "    </tr>\n",
       "    <tr>\n",
       "      <th>1405</th>\n",
       "      <td>white</td>\n",
       "      <td>189</td>\n",
       "    </tr>\n",
       "    <tr>\n",
       "      <th>352</th>\n",
       "      <td>house</td>\n",
       "      <td>188</td>\n",
       "    </tr>\n",
       "    <tr>\n",
       "      <th>293</th>\n",
       "      <td>time</td>\n",
       "      <td>187</td>\n",
       "    </tr>\n",
       "    <tr>\n",
       "      <th>1149</th>\n",
       "      <td>watch</td>\n",
       "      <td>186</td>\n",
       "    </tr>\n",
       "    <tr>\n",
       "      <th>106</th>\n",
       "      <td>could</td>\n",
       "      <td>186</td>\n",
       "    </tr>\n",
       "    <tr>\n",
       "      <th>283</th>\n",
       "      <td>america</td>\n",
       "      <td>183</td>\n",
       "    </tr>\n",
       "    <tr>\n",
       "      <th>489</th>\n",
       "      <td>police</td>\n",
       "      <td>176</td>\n",
       "    </tr>\n",
       "    <tr>\n",
       "      <th>580</th>\n",
       "      <td>need</td>\n",
       "      <td>174</td>\n",
       "    </tr>\n",
       "    <tr>\n",
       "      <th>71</th>\n",
       "      <td>hillary</td>\n",
       "      <td>171</td>\n",
       "    </tr>\n",
       "    <tr>\n",
       "      <th>1142</th>\n",
       "      <td>bill</td>\n",
       "      <td>170</td>\n",
       "    </tr>\n",
       "  </tbody>\n",
       "</table>\n",
       "</div>"
      ],
      "text/plain": [
       "         Word  Frequency\n",
       "46      trump       1446\n",
       "229    donald        458\n",
       "421      says        349\n",
       "29      women        317\n",
       "258       one        268\n",
       "305      year        244\n",
       "284     first        242\n",
       "28      world        241\n",
       "52        man        241\n",
       "343    people        241\n",
       "114     obama        235\n",
       "340       day        226\n",
       "594      make        217\n",
       "353       gop        215\n",
       "132      like        213\n",
       "369         5        212\n",
       "6       black        208\n",
       "749       get        207\n",
       "198      life        203\n",
       "1143  clinton        203\n",
       "1405    white        189\n",
       "352     house        188\n",
       "293      time        187\n",
       "1149    watch        186\n",
       "106     could        186\n",
       "283   america        183\n",
       "489    police        176\n",
       "580      need        174\n",
       "71    hillary        171\n",
       "1142     bill        170"
      ]
     },
     "execution_count": 24,
     "metadata": {},
     "output_type": "execute_result"
    }
   ],
   "source": [
    "df_no_sarcasmo.sort_values('Frequency',ascending=False, inplace = True)\n",
    "df_no_sarcasmo.head(30)"
   ]
  },
  {
   "cell_type": "code",
   "execution_count": 25,
   "metadata": {},
   "outputs": [
    {
     "data": {
      "text/html": [
       "<div>\n",
       "<style scoped>\n",
       "    .dataframe tbody tr th:only-of-type {\n",
       "        vertical-align: middle;\n",
       "    }\n",
       "\n",
       "    .dataframe tbody tr th {\n",
       "        vertical-align: top;\n",
       "    }\n",
       "\n",
       "    .dataframe thead th {\n",
       "        text-align: right;\n",
       "    }\n",
       "</style>\n",
       "<table border=\"1\" class=\"dataframe\">\n",
       "  <thead>\n",
       "    <tr style=\"text-align: right;\">\n",
       "      <th></th>\n",
       "      <th>Word</th>\n",
       "      <th>Frequency</th>\n",
       "    </tr>\n",
       "  </thead>\n",
       "  <tbody>\n",
       "    <tr>\n",
       "      <th>0</th>\n",
       "      <td>trump</td>\n",
       "      <td>1446</td>\n",
       "    </tr>\n",
       "    <tr>\n",
       "      <th>1</th>\n",
       "      <td>donald</td>\n",
       "      <td>458</td>\n",
       "    </tr>\n",
       "    <tr>\n",
       "      <th>2</th>\n",
       "      <td>says</td>\n",
       "      <td>349</td>\n",
       "    </tr>\n",
       "    <tr>\n",
       "      <th>3</th>\n",
       "      <td>women</td>\n",
       "      <td>317</td>\n",
       "    </tr>\n",
       "    <tr>\n",
       "      <th>4</th>\n",
       "      <td>one</td>\n",
       "      <td>268</td>\n",
       "    </tr>\n",
       "  </tbody>\n",
       "</table>\n",
       "</div>"
      ],
      "text/plain": [
       "     Word  Frequency\n",
       "0   trump       1446\n",
       "1  donald        458\n",
       "2    says        349\n",
       "3   women        317\n",
       "4     one        268"
      ]
     },
     "execution_count": 25,
     "metadata": {},
     "output_type": "execute_result"
    }
   ],
   "source": [
    "df_no_sarcasmo.reset_index(drop = True, inplace=True)\n",
    "df_no_sarcasmo.head()"
   ]
  },
  {
   "cell_type": "code",
   "execution_count": 26,
   "metadata": {},
   "outputs": [
    {
     "data": {
      "image/png": "[encoded data removed]",
      "text/plain": [
       "<Figure size 1080x576 with 1 Axes>"
      ]
     },
     "metadata": {},
     "output_type": "display_data"
    }
   ],
   "source": [
    "plt.figure(figsize = (15,8))\n",
    "plot = sns.barplot(x  = df_no_sarcasmo.iloc[:30].Word, y = df_no_sarcasmo.iloc[:30].Frequency)\n",
    "for item in plot.get_xticklabels():\n",
    "    item.set_rotation(90)\n",
    "plt.show()"
   ]
  },
  {
   "cell_type": "markdown",
   "metadata": {},
   "source": [
    "#### Sarcasmo"
   ]
  },
  {
   "cell_type": "code",
   "execution_count": 27,
   "metadata": {},
   "outputs": [
    {
     "data": {
      "text/html": [
       "<div>\n",
       "<style scoped>\n",
       "    .dataframe tbody tr th:only-of-type {\n",
       "        vertical-align: middle;\n",
       "    }\n",
       "\n",
       "    .dataframe tbody tr th {\n",
       "        vertical-align: top;\n",
       "    }\n",
       "\n",
       "    .dataframe thead th {\n",
       "        text-align: right;\n",
       "    }\n",
       "</style>\n",
       "<table border=\"1\" class=\"dataframe\">\n",
       "  <thead>\n",
       "    <tr style=\"text-align: right;\">\n",
       "      <th></th>\n",
       "      <th>article_link</th>\n",
       "      <th>headline</th>\n",
       "      <th>is_sarcastic</th>\n",
       "    </tr>\n",
       "  </thead>\n",
       "  <tbody>\n",
       "    <tr>\n",
       "      <th>2</th>\n",
       "      <td>https://local.theonion.com/mom-starting-to-fea...</td>\n",
       "      <td>mom starting to fear son's web series closest ...</td>\n",
       "      <td>1</td>\n",
       "    </tr>\n",
       "    <tr>\n",
       "      <th>3</th>\n",
       "      <td>https://politics.theonion.com/boehner-just-wan...</td>\n",
       "      <td>boehner just wants wife to listen, not come up...</td>\n",
       "      <td>1</td>\n",
       "    </tr>\n",
       "    <tr>\n",
       "      <th>8</th>\n",
       "      <td>https://politics.theonion.com/top-snake-handle...</td>\n",
       "      <td>top snake handler leaves sinking huckabee camp...</td>\n",
       "      <td>1</td>\n",
       "    </tr>\n",
       "    <tr>\n",
       "      <th>15</th>\n",
       "      <td>https://entertainment.theonion.com/nuclear-bom...</td>\n",
       "      <td>nuclear bomb detonates during rehearsal for 's...</td>\n",
       "      <td>1</td>\n",
       "    </tr>\n",
       "    <tr>\n",
       "      <th>16</th>\n",
       "      <td>https://www.theonion.com/cosby-lawyer-asks-why...</td>\n",
       "      <td>cosby lawyer asks why accusers didn't come for...</td>\n",
       "      <td>1</td>\n",
       "    </tr>\n",
       "  </tbody>\n",
       "</table>\n",
       "</div>"
      ],
      "text/plain": [
       "                                         article_link  \\\n",
       "2   https://local.theonion.com/mom-starting-to-fea...   \n",
       "3   https://politics.theonion.com/boehner-just-wan...   \n",
       "8   https://politics.theonion.com/top-snake-handle...   \n",
       "15  https://entertainment.theonion.com/nuclear-bom...   \n",
       "16  https://www.theonion.com/cosby-lawyer-asks-why...   \n",
       "\n",
       "                                             headline  is_sarcastic  \n",
       "2   mom starting to fear son's web series closest ...             1  \n",
       "3   boehner just wants wife to listen, not come up...             1  \n",
       "8   top snake handler leaves sinking huckabee camp...             1  \n",
       "15  nuclear bomb detonates during rehearsal for 's...             1  \n",
       "16  cosby lawyer asks why accusers didn't come for...             1  "
      ]
     },
     "execution_count": 27,
     "metadata": {},
     "output_type": "execute_result"
    }
   ],
   "source": [
    "dataset_sarcasmo = dataset[dataset.is_sarcastic==1]\n",
    "dataset_sarcasmo.head()"
   ]
  },
  {
   "cell_type": "code",
   "execution_count": 28,
   "metadata": {},
   "outputs": [],
   "source": [
    "todos_titulares_sarcasmo = []\n",
    "for i in range(dataset_sarcasmo.shape[0]):\n",
    "    titular = dataset_sarcasmo.iloc[i].headline\n",
    "    titular = nltk.tokenize.RegexpTokenizer(\"[\\w]+\").tokenize(titular)\n",
    "    titular = [word for word in titular if word not in stopwords]\n",
    "    titular = [word for word in titular if word not in filtrar]\n",
    "    todos_titulares_sarcasmo.append(titular)"
   ]
  },
  {
   "cell_type": "code",
   "execution_count": 29,
   "metadata": {},
   "outputs": [],
   "source": [
    "todos_titulares_sarcasmo = list(itertools.chain(*todos_titulares_sarcasmo))"
   ]
  },
  {
   "cell_type": "code",
   "execution_count": 30,
   "metadata": {},
   "outputs": [
    {
     "data": {
      "text/plain": [
       "['mom',\n",
       " 'starting',\n",
       " 'fear',\n",
       " 'son',\n",
       " 'web',\n",
       " 'series',\n",
       " 'closest',\n",
       " 'thing',\n",
       " 'grandchild',\n",
       " 'boehner']"
      ]
     },
     "execution_count": 30,
     "metadata": {},
     "output_type": "execute_result"
    }
   ],
   "source": [
    "todos_titulares_sarcasmo[0:10]"
   ]
  },
  {
   "cell_type": "code",
   "execution_count": 31,
   "metadata": {},
   "outputs": [
    {
     "data": {
      "text/plain": [
       "['H', 'O', 'L', 'A', ' ', 'M', 'U', 'N', 'D', 'O', '!', '!', '!']"
      ]
     },
     "execution_count": 31,
     "metadata": {},
     "output_type": "execute_result"
    }
   ],
   "source": [
    "list(itertools.chain(*('HOLA MUNDO!!!')))"
   ]
  },
  {
   "cell_type": "code",
   "execution_count": 32,
   "metadata": {},
   "outputs": [
    {
     "data": {
      "text/plain": [
       "FreqDist({'man': 1154, 'area': 480, 'report': 426, 'nation': 339, 'woman': 319, 'year': 308, 'one': 273, 'old': 267, 'time': 252, 'day': 245, ...})"
      ]
     },
     "execution_count": 32,
     "metadata": {},
     "output_type": "execute_result"
    }
   ],
   "source": [
    "freq_sarcasmo = nltk.FreqDist(todos_titulares_sarcasmo)\n",
    "freq_sarcasmo"
   ]
  },
  {
   "cell_type": "code",
   "execution_count": 33,
   "metadata": {},
   "outputs": [
    {
     "data": {
      "text/html": [
       "<div>\n",
       "<style scoped>\n",
       "    .dataframe tbody tr th:only-of-type {\n",
       "        vertical-align: middle;\n",
       "    }\n",
       "\n",
       "    .dataframe tbody tr th {\n",
       "        vertical-align: top;\n",
       "    }\n",
       "\n",
       "    .dataframe thead th {\n",
       "        text-align: right;\n",
       "    }\n",
       "</style>\n",
       "<table border=\"1\" class=\"dataframe\">\n",
       "  <thead>\n",
       "    <tr style=\"text-align: right;\">\n",
       "      <th></th>\n",
       "      <th>Word</th>\n",
       "      <th>Frequency</th>\n",
       "    </tr>\n",
       "  </thead>\n",
       "  <tbody>\n",
       "    <tr>\n",
       "      <th>0</th>\n",
       "      <td>mom</td>\n",
       "      <td>117</td>\n",
       "    </tr>\n",
       "    <tr>\n",
       "      <th>1</th>\n",
       "      <td>starting</td>\n",
       "      <td>32</td>\n",
       "    </tr>\n",
       "    <tr>\n",
       "      <th>2</th>\n",
       "      <td>fear</td>\n",
       "      <td>16</td>\n",
       "    </tr>\n",
       "    <tr>\n",
       "      <th>3</th>\n",
       "      <td>son</td>\n",
       "      <td>71</td>\n",
       "    </tr>\n",
       "    <tr>\n",
       "      <th>4</th>\n",
       "      <td>web</td>\n",
       "      <td>7</td>\n",
       "    </tr>\n",
       "  </tbody>\n",
       "</table>\n",
       "</div>"
      ],
      "text/plain": [
       "       Word  Frequency\n",
       "0       mom        117\n",
       "1  starting         32\n",
       "2      fear         16\n",
       "3       son         71\n",
       "4       web          7"
      ]
     },
     "execution_count": 33,
     "metadata": {},
     "output_type": "execute_result"
    }
   ],
   "source": [
    "df_sarcasmo = pd.DataFrame(list(freq_sarcasmo.items()), columns = [\"Word\",\"Frequency\"])\n",
    "df_sarcasmo.head()"
   ]
  },
  {
   "cell_type": "code",
   "execution_count": 34,
   "metadata": {},
   "outputs": [
    {
     "data": {
      "text/html": [
       "<div>\n",
       "<style scoped>\n",
       "    .dataframe tbody tr th:only-of-type {\n",
       "        vertical-align: middle;\n",
       "    }\n",
       "\n",
       "    .dataframe tbody tr th {\n",
       "        vertical-align: top;\n",
       "    }\n",
       "\n",
       "    .dataframe thead th {\n",
       "        text-align: right;\n",
       "    }\n",
       "</style>\n",
       "<table border=\"1\" class=\"dataframe\">\n",
       "  <thead>\n",
       "    <tr style=\"text-align: right;\">\n",
       "      <th></th>\n",
       "      <th>Word</th>\n",
       "      <th>Frequency</th>\n",
       "    </tr>\n",
       "  </thead>\n",
       "  <tbody>\n",
       "    <tr>\n",
       "      <th>30</th>\n",
       "      <td>man</td>\n",
       "      <td>1154</td>\n",
       "    </tr>\n",
       "    <tr>\n",
       "      <th>182</th>\n",
       "      <td>area</td>\n",
       "      <td>480</td>\n",
       "    </tr>\n",
       "    <tr>\n",
       "      <th>157</th>\n",
       "      <td>report</td>\n",
       "      <td>426</td>\n",
       "    </tr>\n",
       "    <tr>\n",
       "      <th>56</th>\n",
       "      <td>nation</td>\n",
       "      <td>339</td>\n",
       "    </tr>\n",
       "    <tr>\n",
       "      <th>183</th>\n",
       "      <td>woman</td>\n",
       "      <td>319</td>\n",
       "    </tr>\n",
       "  </tbody>\n",
       "</table>\n",
       "</div>"
      ],
      "text/plain": [
       "       Word  Frequency\n",
       "30      man       1154\n",
       "182    area        480\n",
       "157  report        426\n",
       "56   nation        339\n",
       "183   woman        319"
      ]
     },
     "execution_count": 34,
     "metadata": {},
     "output_type": "execute_result"
    }
   ],
   "source": [
    "df_sarcasmo.sort_values('Frequency',ascending=False, inplace = True)\n",
    "df_sarcasmo.head()"
   ]
  },
  {
   "cell_type": "code",
   "execution_count": 35,
   "metadata": {},
   "outputs": [
    {
     "data": {
      "text/html": [
       "<div>\n",
       "<style scoped>\n",
       "    .dataframe tbody tr th:only-of-type {\n",
       "        vertical-align: middle;\n",
       "    }\n",
       "\n",
       "    .dataframe tbody tr th {\n",
       "        vertical-align: top;\n",
       "    }\n",
       "\n",
       "    .dataframe thead th {\n",
       "        text-align: right;\n",
       "    }\n",
       "</style>\n",
       "<table border=\"1\" class=\"dataframe\">\n",
       "  <thead>\n",
       "    <tr style=\"text-align: right;\">\n",
       "      <th></th>\n",
       "      <th>Word</th>\n",
       "      <th>Frequency</th>\n",
       "    </tr>\n",
       "  </thead>\n",
       "  <tbody>\n",
       "    <tr>\n",
       "      <th>0</th>\n",
       "      <td>man</td>\n",
       "      <td>1154</td>\n",
       "    </tr>\n",
       "    <tr>\n",
       "      <th>1</th>\n",
       "      <td>area</td>\n",
       "      <td>480</td>\n",
       "    </tr>\n",
       "    <tr>\n",
       "      <th>2</th>\n",
       "      <td>report</td>\n",
       "      <td>426</td>\n",
       "    </tr>\n",
       "    <tr>\n",
       "      <th>3</th>\n",
       "      <td>nation</td>\n",
       "      <td>339</td>\n",
       "    </tr>\n",
       "    <tr>\n",
       "      <th>4</th>\n",
       "      <td>woman</td>\n",
       "      <td>319</td>\n",
       "    </tr>\n",
       "  </tbody>\n",
       "</table>\n",
       "</div>"
      ],
      "text/plain": [
       "     Word  Frequency\n",
       "0     man       1154\n",
       "1    area        480\n",
       "2  report        426\n",
       "3  nation        339\n",
       "4   woman        319"
      ]
     },
     "execution_count": 35,
     "metadata": {},
     "output_type": "execute_result"
    }
   ],
   "source": [
    "df_sarcasmo.reset_index(drop = True, inplace=True)\n",
    "df_sarcasmo.head()"
   ]
  },
  {
   "cell_type": "code",
   "execution_count": 36,
   "metadata": {},
   "outputs": [
    {
     "data": {
      "image/png": "[encoded data removed]",
      "text/plain": [
       "<Figure size 1080x576 with 1 Axes>"
      ]
     },
     "metadata": {},
     "output_type": "display_data"
    }
   ],
   "source": [
    "plt.figure(figsize = (15,8))\n",
    "plot = sns.barplot(x  = df_sarcasmo.iloc[:30].Word, y = df_sarcasmo.iloc[:30].Frequency)\n",
    "for item in plot.get_xticklabels():\n",
    "    item.set_rotation(90)\n",
    "plt.show()"
   ]
  },
  {
   "cell_type": "markdown",
   "metadata": {},
   "source": [
    "## 4. Stemming\n",
    "Por razones gramaticales muchas palabras pueden escribirse de manera distinta (debido a conjugación, género, número) pero tener el mismo significado para el texto. Por ejemplo si decimos \"jugar\", \"jugando\" o \"juega\", debido a la como estan conjugadas, la computadora las tratará como palabras distintas, pero en términos de significado, todas estan relacionadas al verbo Jugar. Muchas veces nos va a convenir unir todas estos términos en uno solo.\n",
    "\n",
    "Una de las manera de hacer esto es por \"STEMMING\". El Stemming es un proceso eurístico que recorta la terminación de las palabras, agrupándolas por su raiz. Reduzcamos la cantidad de palabras diferentes en nuestro dataset utilizando este proceso."
   ]
  },
  {
   "cell_type": "markdown",
   "metadata": {},
   "source": [
    "a. Importar nuevamente el dataset completo"
   ]
  },
  {
   "cell_type": "code",
   "execution_count": 37,
   "metadata": {
    "scrolled": true
   },
   "outputs": [
    {
     "data": {
      "text/html": [
       "<div>\n",
       "<style scoped>\n",
       "    .dataframe tbody tr th:only-of-type {\n",
       "        vertical-align: middle;\n",
       "    }\n",
       "\n",
       "    .dataframe tbody tr th {\n",
       "        vertical-align: top;\n",
       "    }\n",
       "\n",
       "    .dataframe thead th {\n",
       "        text-align: right;\n",
       "    }\n",
       "</style>\n",
       "<table border=\"1\" class=\"dataframe\">\n",
       "  <thead>\n",
       "    <tr style=\"text-align: right;\">\n",
       "      <th></th>\n",
       "      <th>article_link</th>\n",
       "      <th>headline</th>\n",
       "      <th>is_sarcastic</th>\n",
       "    </tr>\n",
       "  </thead>\n",
       "  <tbody>\n",
       "    <tr>\n",
       "      <th>0</th>\n",
       "      <td>https://www.huffingtonpost.com/entry/versace-b...</td>\n",
       "      <td>former versace store clerk sues over secret 'b...</td>\n",
       "      <td>0</td>\n",
       "    </tr>\n",
       "    <tr>\n",
       "      <th>1</th>\n",
       "      <td>https://www.huffingtonpost.com/entry/roseanne-...</td>\n",
       "      <td>the 'roseanne' revival catches up to our thorn...</td>\n",
       "      <td>0</td>\n",
       "    </tr>\n",
       "    <tr>\n",
       "      <th>2</th>\n",
       "      <td>https://local.theonion.com/mom-starting-to-fea...</td>\n",
       "      <td>mom starting to fear son's web series closest ...</td>\n",
       "      <td>1</td>\n",
       "    </tr>\n",
       "    <tr>\n",
       "      <th>3</th>\n",
       "      <td>https://politics.theonion.com/boehner-just-wan...</td>\n",
       "      <td>boehner just wants wife to listen, not come up...</td>\n",
       "      <td>1</td>\n",
       "    </tr>\n",
       "    <tr>\n",
       "      <th>4</th>\n",
       "      <td>https://www.huffingtonpost.com/entry/jk-rowlin...</td>\n",
       "      <td>j.k. rowling wishes snape happy birthday in th...</td>\n",
       "      <td>0</td>\n",
       "    </tr>\n",
       "  </tbody>\n",
       "</table>\n",
       "</div>"
      ],
      "text/plain": [
       "                                        article_link  \\\n",
       "0  https://www.huffingtonpost.com/entry/versace-b...   \n",
       "1  https://www.huffingtonpost.com/entry/roseanne-...   \n",
       "2  https://local.theonion.com/mom-starting-to-fea...   \n",
       "3  https://politics.theonion.com/boehner-just-wan...   \n",
       "4  https://www.huffingtonpost.com/entry/jk-rowlin...   \n",
       "\n",
       "                                            headline  is_sarcastic  \n",
       "0  former versace store clerk sues over secret 'b...             0  \n",
       "1  the 'roseanne' revival catches up to our thorn...             0  \n",
       "2  mom starting to fear son's web series closest ...             1  \n",
       "3  boehner just wants wife to listen, not come up...             1  \n",
       "4  j.k. rowling wishes snape happy birthday in th...             0  "
      ]
     },
     "execution_count": 37,
     "metadata": {},
     "output_type": "execute_result"
    }
   ],
   "source": [
    "dataset = pd.read_json('../DataSets/Sarcasm_Headlines_Dataset.json', lines= True)\n",
    "dataset.head()"
   ]
  },
  {
   "cell_type": "markdown",
   "metadata": {},
   "source": [
    "b, Tomar del `dataset` solo las columnas de interes"
   ]
  },
  {
   "cell_type": "code",
   "execution_count": 38,
   "metadata": {
    "scrolled": true
   },
   "outputs": [
    {
     "data": {
      "text/html": [
       "<div>\n",
       "<style scoped>\n",
       "    .dataframe tbody tr th:only-of-type {\n",
       "        vertical-align: middle;\n",
       "    }\n",
       "\n",
       "    .dataframe tbody tr th {\n",
       "        vertical-align: top;\n",
       "    }\n",
       "\n",
       "    .dataframe thead th {\n",
       "        text-align: right;\n",
       "    }\n",
       "</style>\n",
       "<table border=\"1\" class=\"dataframe\">\n",
       "  <thead>\n",
       "    <tr style=\"text-align: right;\">\n",
       "      <th></th>\n",
       "      <th>headline</th>\n",
       "      <th>is_sarcastic</th>\n",
       "    </tr>\n",
       "  </thead>\n",
       "  <tbody>\n",
       "    <tr>\n",
       "      <th>0</th>\n",
       "      <td>former versace store clerk sues over secret 'b...</td>\n",
       "      <td>0</td>\n",
       "    </tr>\n",
       "    <tr>\n",
       "      <th>1</th>\n",
       "      <td>the 'roseanne' revival catches up to our thorn...</td>\n",
       "      <td>0</td>\n",
       "    </tr>\n",
       "    <tr>\n",
       "      <th>2</th>\n",
       "      <td>mom starting to fear son's web series closest ...</td>\n",
       "      <td>1</td>\n",
       "    </tr>\n",
       "    <tr>\n",
       "      <th>3</th>\n",
       "      <td>boehner just wants wife to listen, not come up...</td>\n",
       "      <td>1</td>\n",
       "    </tr>\n",
       "    <tr>\n",
       "      <th>4</th>\n",
       "      <td>j.k. rowling wishes snape happy birthday in th...</td>\n",
       "      <td>0</td>\n",
       "    </tr>\n",
       "  </tbody>\n",
       "</table>\n",
       "</div>"
      ],
      "text/plain": [
       "                                            headline  is_sarcastic\n",
       "0  former versace store clerk sues over secret 'b...             0\n",
       "1  the 'roseanne' revival catches up to our thorn...             0\n",
       "2  mom starting to fear son's web series closest ...             1\n",
       "3  boehner just wants wife to listen, not come up...             1\n",
       "4  j.k. rowling wishes snape happy birthday in th...             0"
      ]
     },
     "execution_count": 38,
     "metadata": {},
     "output_type": "execute_result"
    }
   ],
   "source": [
    "dataset=pd.concat([dataset.headline,dataset.is_sarcastic],axis=1)\n",
    "dataset.dropna(axis=0,inplace=True)  # Si hay alguna nan, tiramos esa instancia\n",
    "dataset.head()"
   ]
  },
  {
   "cell_type": "markdown",
   "metadata": {},
   "source": [
    "c. Antes de realizar el proceso de Stemming, vamos a normalizar el texto con lo que ya estuvimos viendo. Le agregamos en este caso el uso de la libreria `re`, que nos permite sacar del texto todos los caracteres que no sean palabras. Notemos que hay veces que no conviene quitar estos caracteres ya que, por ejemplo, no podremos distiguir preguntas (?) o exclamaciones (!)."
   ]
  },
  {
   "cell_type": "code",
   "execution_count": 39,
   "metadata": {},
   "outputs": [],
   "source": [
    "# Importamos esta libreria que nos permite reemplzar caracteres\n",
    "import re\n",
    "\n",
    "# Importamos la función que nos permite Stemmizar de nltk y definimos el stemmer\n",
    "from nltk.stem import PorterStemmer\n",
    "stemmer = PorterStemmer()\n",
    "\n",
    "# Traemos nuevamente las stopwords\n",
    "stopwords = nltk.corpus.stopwords.words('english')\n",
    "#stopword.remove('no')\n",
    "#stopword.remove('not')"
   ]
  },
  {
   "cell_type": "code",
   "execution_count": 40,
   "metadata": {},
   "outputs": [],
   "source": [
    "# Recorremos todos los titulos y le vamos aplicando la Normalizacion y luega el Stemming a cada uno\n",
    "titular_list=[]\n",
    "for titular in dataset.headline:\n",
    "    # Vamos a reemplzar los caracteres que no sean leras por espacios\n",
    "    \n",
    "    # Pasamos todo a minúsculas\n",
    "    \n",
    "    # Tokenizamos para separar las palabras del titular\n",
    "    \n",
    "    # Eliminamos las palabras de menos de 3 letras\n",
    "    \n",
    "    # Sacamos las Stopwords\n",
    "    \n",
    "    \n",
    "    ## Hasta acá Normalizamos, ahora a stemmizar\n",
    "    \n",
    "    # Aplicamos la funcion para buscar la raiz de las palabras\n",
    "    titular=''\n",
    "    # Por ultimo volvemos a unir el titular\n",
    "    titular=\" \".join(titular)\n",
    "    \n",
    "    # Vamos armando una lista con todos los titulares\n",
    "    titular_list.append(titular)\n",
    "    #dataset[\"titular_normalizado\"] = titular_list\n"
   ]
  },
  {
   "cell_type": "markdown",
   "metadata": {},
   "source": [
    "d. Agregamos al dataset una columna llamado `titular_stem` que contenga los titulares stemmizados"
   ]
  },
  {
   "cell_type": "markdown",
   "metadata": {},
   "source": [
    "Armamos un nuevo dataset llamado `dataset_stem` que contenga solo las columnas `titular_stem` e `is_sarcastic`"
   ]
  },
  {
   "cell_type": "markdown",
   "metadata": {},
   "source": [
    "## 5. Lemmatization\n",
    "\n",
    "Otra manera de llevar distintas palabras a un raíz común en la que comparten un significado es mediante el procezo de 'Lemmatizar' el texto. Es similar al 'Stemming' pero un poco más educado, ya que intenta realizar el proceso teniendo en cuenta cuál es el rol que la palabra cumple en el texto. Esto quiere decir que su accionar será distinto si la palabra a lemmantizar está actuando como verbo, sustantivo, etc. \n",
    "\n",
    "Para usar las funciones que ofrece `nltk` para lemmantizar, tendremos primero que descargar la libreria `Wordnet` que se encuentra en la solapa 'corpora' y las librerias 'maxent_treebank_pos_' y 'averaged_perceptron_tagger' que se encuentra en la solapa 'Models'. Para eso ejecute la siguiente celda:"
   ]
  },
  {
   "cell_type": "code",
   "execution_count": 44,
   "metadata": {},
   "outputs": [
    {
     "name": "stdout",
     "output_type": "stream",
     "text": [
      "showing info https://raw.githubusercontent.com/nltk/nltk_data/gh-pages/index.xml\n"
     ]
    },
    {
     "data": {
      "text/plain": [
       "True"
      ]
     },
     "execution_count": 44,
     "metadata": {},
     "output_type": "execute_result"
    }
   ],
   "source": [
    "nltk.download()"
   ]
  },
  {
   "cell_type": "code",
   "execution_count": 45,
   "metadata": {},
   "outputs": [],
   "source": [
    "# Importamos esta libreria que nos permite reemplzar caracteres\n",
    "import re\n",
    "\n",
    "# Importamos el lemmatizar de NLTK, y creamos el objeto\n",
    "from nltk.stem import WordNetLemmatizer\n",
    "wordnet_lemmatizer = WordNetLemmatizer()"
   ]
  },
  {
   "cell_type": "markdown",
   "metadata": {},
   "source": [
    "Veamos cómo actúa el lemmatizer sobre una frase de ejemplo."
   ]
  },
  {
   "cell_type": "code",
   "execution_count": 46,
   "metadata": {},
   "outputs": [
    {
     "name": "stdout",
     "output_type": "stream",
     "text": [
      "Word                Lemma               \n",
      "he                  he                  \n",
      "was                 wa                  \n",
      "running             running             \n",
      "and                 and                 \n",
      "eating              eating              \n",
      "at                  at                  \n",
      "same                same                \n",
      "time                time                \n",
      "he                  he                  \n",
      "has                 ha                  \n",
      "bad                 bad                 \n",
      "habit               habit               \n",
      "of                  of                  \n",
      "swimming            swimming            \n",
      "after               after               \n",
      "playing             playing             \n",
      "long                long                \n",
      "hours               hour                \n",
      "in                  in                  \n",
      "the                 the                 \n",
      "sun                 sun                 \n"
     ]
    }
   ],
   "source": [
    "# Oracion que usaremos como ejemplo\n",
    "frase = \"He was running and eating at same time. He has bad habit of swimming after playing long hours in the Sun.\"\n",
    "\n",
    "# Hay que regularizar el texto. Dejar solo letra, pasar a minúsculas y tokenizar:\n",
    "\n",
    "# Sacamos todo lo que no sean letras\n",
    "frase = re.sub(\"[^a-zA-Z]\",\" \",str(frase))\n",
    "# Pasamos a minúsculas\n",
    "frase = frase.lower()\n",
    "# Tokenizamos\n",
    "frase_tokens = nltk.word_tokenize(frase)\n",
    "\n",
    "# Veamos como cambians las palabras al lemmatizar\n",
    "print(\"{0:20}{1:20}\".format(\"Word\",\"Lemma\"))\n",
    "for palabra in frase_tokens:\n",
    "    print (\"{0:20}{1:20}\".format(palabra,wordnet_lemmatizer.lemmatize(palabra)))"
   ]
  },
  {
   "cell_type": "markdown",
   "metadata": {},
   "source": [
    "¿Les sorprende lo que paso? No cambiaron casi nada (solo se fueron las \"s\" del final). El problema es que precisamos darle información extra al Lemmatizer, decirle qué rol está cumpliendo la palabra en la oración. Si se fijan en la documentación, esto se hace pasandole un argumento extra a la función llamado POS (Part Of Speech).\n",
    "\n",
    "Hay distintos metodos que intentan averiguar el rol que cumple una palabra en una oración. Nosotros vamos a utilizar uno que viene incorporado en NLTK llamado pos_tag."
   ]
  },
  {
   "cell_type": "code",
   "execution_count": 47,
   "metadata": {},
   "outputs": [
    {
     "name": "stdout",
     "output_type": "stream",
     "text": [
      "[('he', 'PRP'), ('was', 'VBD'), ('running', 'VBG'), ('and', 'CC'), ('eating', 'VBG'), ('at', 'IN'), ('same', 'JJ'), ('time', 'NN'), ('he', 'PRP'), ('has', 'VBZ'), ('bad', 'JJ'), ('habit', 'NN'), ('of', 'IN'), ('swimming', 'NN'), ('after', 'IN'), ('playing', 'VBG'), ('long', 'JJ'), ('hours', 'NNS'), ('in', 'IN'), ('the', 'DT'), ('sun', 'NN')]\n"
     ]
    }
   ],
   "source": [
    "print(nltk.pos_tag(frase_tokens))"
   ]
  },
  {
   "cell_type": "markdown",
   "metadata": {},
   "source": [
    "Las etiquetas refieren al tipo de palabra. Vamos a definir una función para traducir estas etiquetas a los valores de POS que entiende 'wordnet_lemmatizer'."
   ]
  },
  {
   "cell_type": "code",
   "execution_count": 48,
   "metadata": {},
   "outputs": [],
   "source": [
    "from nltk.corpus import wordnet\n",
    "\n",
    "def get_wordnet_pos(word):\n",
    "    \"\"\"Map POS tag to first character lemmatize() accepts\"\"\"\n",
    "    tag = nltk.pos_tag([word])[0][1][0].upper()\n",
    "    tag_dict = {\"J\": wordnet.ADJ,\n",
    "                \"N\": wordnet.NOUN,\n",
    "                \"V\": wordnet.VERB,\n",
    "                \"R\": wordnet.ADV}\n",
    "\n",
    "    return tag_dict.get(tag, wordnet.NOUN)"
   ]
  },
  {
   "cell_type": "markdown",
   "metadata": {},
   "source": [
    "Veamos finalmente como funciona en nuestro ejemplo."
   ]
  },
  {
   "cell_type": "code",
   "execution_count": 49,
   "metadata": {},
   "outputs": [
    {
     "name": "stdout",
     "output_type": "stream",
     "text": [
      "Palabra:            Tipo:               Lemma:              \n",
      "he                  n                   he                  \n",
      "was                 v                   be                  \n",
      "running             v                   run                 \n",
      "and                 n                   and                 \n",
      "eating              v                   eat                 \n",
      "at                  n                   at                  \n",
      "same                a                   same                \n",
      "time                n                   time                \n",
      "he                  n                   he                  \n",
      "has                 v                   have                \n",
      "bad                 a                   bad                 \n",
      "habit               n                   habit               \n",
      "of                  n                   of                  \n",
      "swimming            v                   swim                \n",
      "after               n                   after               \n",
      "playing             v                   play                \n",
      "long                r                   long                \n",
      "hours               n                   hour                \n",
      "in                  n                   in                  \n",
      "the                 n                   the                 \n",
      "sun                 n                   sun                 \n"
     ]
    }
   ],
   "source": [
    "frase_lemma = [wordnet_lemmatizer.lemmatize(w, get_wordnet_pos(w)) for w in nltk.word_tokenize(frase)]\n",
    "tipo_palabra = [get_wordnet_pos(w) for w in nltk.word_tokenize(frase)]\n",
    "\n",
    "# Veamos como cambiaron las palabras\n",
    "print(\"{0:20}{1:20}{2:20}\".format(\"Palabra:\",\"Tipo:\",\"Lemma:\"))\n",
    "for i in range(len(frase_tokens)):\n",
    "    print (\"{0:20}{1:20}{2:20}\".format(frase_tokens[i],tipo_palabra[i],frase_lemma[i]))"
   ]
  },
  {
   "cell_type": "markdown",
   "metadata": {},
   "source": [
    "matriz_titulosa. Ahora les toca aplicar todo esto a nuestro dataset. Vamos a volver a importarlo y hacer un procedimiento análogo al que hicimos para la parte de Stemming."
   ]
  },
  {
   "cell_type": "code",
   "execution_count": 50,
   "metadata": {},
   "outputs": [],
   "source": [
    "# Importamos el lemmatizar de NLTK, y creamos el objeto\n",
    "from nltk.stem import WordNetLemmatizer\n",
    "wordnet_lemmatizer = WordNetLemmatizer()\n",
    "\n",
    "# Importamos esta libreria que nos permite reemplzar caracteres\n",
    "import re\n",
    "\n",
    "dataset = pd.read_json('../DataSets/Sarcasm_Headlines_Dataset.json', lines= True)\n",
    "dataset = pd.concat([dataset.headline,dataset.is_sarcastic],axis=1)\n",
    "dataset.dropna(axis=0,inplace=True)\n",
    "\n",
    "# Traemos nuevamente las stopwords\n",
    "stopwords = nltk.corpus.stopwords.words('english')\n",
    "#stopword.remove('no')\n",
    "#stopword.remove('not')"
   ]
  },
  {
   "cell_type": "code",
   "execution_count": 51,
   "metadata": {},
   "outputs": [],
   "source": [
    "# Este proceso demora bastante!\n",
    "titular_list=[]\n",
    "for titular in dataset.headline:\n",
    "    # Vamos a reemplzar los caracteres que no sean leras por espacios\n",
    "    \n",
    "    # Pasamos todo a minúsculas\n",
    "    \n",
    "    # Tokenizamos para separar las palabras\n",
    "    \n",
    "    \n",
    "    # Aplicamos el Lemmatizer (Esto puede tardar un ratito)\n",
    "    \n",
    "    \n",
    "    \n",
    "    # Eliminamos las palabras d emenos de 3 letras\n",
    "    \n",
    "    # Sacamos las Stopwords\n",
    "    \n",
    "    \n",
    "    # Por ultimo volvemos a unir el titular\n",
    "    titular=\" \"\n",
    "    #dataset[\"titular_normalizado\"] = titular_list\n",
    "    titular_list.append(titular)"
   ]
  },
  {
   "cell_type": "markdown",
   "metadata": {},
   "source": [
    "b. Por último nos armamos un nuevo datasate llamado `dataset_lem` que tenga solo las columnas `titular_lemm` y `is_sarcastic`."
   ]
  },
  {
   "cell_type": "markdown",
   "metadata": {},
   "source": [
    "## 6. Vectorizar\n",
    "Tenemos un grupo de palabras por cada titular (bag of words). La idea ahora es representar esta lista de palabras como un vector. Para esto vamos a utilizar la función CountVectorizer de sklearn. Esta función nos permite representar cada título por un vector con un `1` en las palabras que contiene y un `0` en las que no. Además, vamos a trabajar únicamente con las palabras que aparecen más veces en el texto, ya que las que aparecen una única vez o pocas veces no nos van a brindar información que se pueda generalizar."
   ]
  },
  {
   "cell_type": "markdown",
   "metadata": {},
   "source": [
    "a. Tomamos la lista de palabras y el vector que nos dice si es o no sarcástico el título"
   ]
  },
  {
   "cell_type": "code",
   "execution_count": 55,
   "metadata": {},
   "outputs": [],
   "source": [
    "# Tomamos la lista de palabras y el vector que nos dice si es o no sarcastico el titulo\n",
    "#list_titulos = list(dataset_lemm['titular_lemm'].values)\n",
    "#is_sarc = dataset_lemm['is_sarcastic'].values\n",
    "\n",
    "## Para probar con Stemmizer:\n",
    "list_titulos = list(dataset_stem['titular_stem'].values)\n",
    "is_sarc = dataset_stem['is_sarcastic'].values"
   ]
  },
  {
   "cell_type": "markdown",
   "metadata": {},
   "source": [
    "b. Preparamos el conversor de bag of words a vectores que traemos de sklearn. `CountVectorizer` posee varias funcionalidades que pueden determinarse a partir de parámetros. Les recomendamos fuertemente leer su documentación."
   ]
  },
  {
   "cell_type": "code",
   "execution_count": 56,
   "metadata": {},
   "outputs": [],
   "source": [
    "from sklearn.feature_extraction.text import CountVectorizer\n",
    "\n",
    "# Usaremos solo las 1000 palabras con mas frecuencia en todo el corpus para generar los vectores\n",
    "max_features=1000\n",
    "\n",
    "# Es decir que cada instancia tendrá 1000 features\n",
    "cou_vec=CountVectorizer(max_features=max_features, stop_words=\"english\" , ngram_range=(1,2))"
   ]
  },
  {
   "cell_type": "markdown",
   "metadata": {},
   "source": [
    "Notemos que desde `CountVectorizer` se pueden quitar las stopwords (algo que ya hicimos con `nltk`) e incluir los n_gramas automáticamente.\n",
    "\n",
    "c. Ahora sí, vamos generarnos los vectores para cada título a partir del corpus total."
   ]
  },
  {
   "cell_type": "code",
   "execution_count": 57,
   "metadata": {},
   "outputs": [
    {
     "name": "stderr",
     "output_type": "stream",
     "text": [
      "C:\\Users\\lopez\\miniconda3\\envs\\datascience\\lib\\site-packages\\sklearn\\utils\\deprecation.py:87: FutureWarning: Function get_feature_names is deprecated; get_feature_names is deprecated in 1.0 and will be removed in 1.2. Please use get_feature_names_out instead.\n",
      "  warnings.warn(msg, category=FutureWarning)\n"
     ]
    }
   ],
   "source": [
    "matriz_titulos = cou_vec.fit_transform(list_titulos)\n",
    "\n",
    "# Tomamos las palabras\n",
    "all_words = cou_vec.get_feature_names()"
   ]
  },
  {
   "cell_type": "code",
   "execution_count": 58,
   "metadata": {},
   "outputs": [
    {
     "name": "stdout",
     "output_type": "stream",
     "text": [
      "50 palabras mas usadas:  ['abort', 'abus', 'accept', 'accident', 'accord', 'account', 'accus', 'action', 'activist', 'actor', 'actual', 'add', 'addict', 'address', 'administr', 'admit', 'ador', 'advic', 'age', 'agent', 'agre', 'aid', 'airlin', 'airport', 'album', 'alleg', 'allow', 'alreadi', 'alway', 'amaz', 'amazon', 'america', 'american', 'amid', 'angel', 'anim', 'anniversari', 'announc', 'announc plan', 'anoth', 'answer', 'anti', 'anyon', 'anyth', 'apart', 'apolog', 'appar', 'appear', 'appl', 'approv', 'area', 'area woman', 'arrest', 'artist', 'asian', 'ask', 'assault', 'assur', 'attack', 'attempt', 'attend', 'attract', 'audienc', 'author', 'avoid', 'award', 'away', 'babi', 'ball', 'band', 'bank', 'base', 'bathroom', 'battl', 'bear', 'beat', 'beauti', 'becom', 'begin', 'believ', 'benefit', 'berni', 'berni sander', 'best', 'better', 'biden', 'biggest', 'billion', 'bird', 'birth', 'birthday', 'black', 'blame', 'blast', 'block', 'blood', 'blow', 'blue', 'board', 'bodi', 'bomb', 'book', 'border', 'boss', 'bowl', 'boy', 'boyfriend', 'break', 'bring', 'brother', 'brown', 'budget', 'build', 'burn', 'bush', 'busi', 'buy', 'california', 'camp', 'campaign', 'cancel', 'cancer', 'candid', 'captur', 'card', 'care', 'career', 'carolina', 'carri', 'case', 'cast', 'catch', 'caus', 'celebr', 'center', 'ceremoni', 'chair', 'challeng', 'chanc', 'chang', 'charact', 'charg', 'check', 'chicago', 'chicken', 'chief', 'child', 'children', 'china', 'chines', 'choic', 'chri', 'christian', 'christma', 'church', 'citi', 'citizen', 'civil', 'claim', 'class', 'clean', 'clear', 'clearli', 'climat', 'climat chang', 'clinton', 'close', 'coffe', 'colbert', 'collect', 'colleg', 'color', 'come', 'comey', 'comfort', 'comment', 'commerci', 'commun', 'compani', 'complet', 'concern', 'confirm', 'congress', 'congressman', 'conserv', 'consid', 'consum', 'contain', 'continu', 'control', 'controversi', 'convers', 'cook', 'cool', 'cop', 'corpor', 'cost', 'countri', 'coupl', 'cours']\n"
     ]
    }
   ],
   "source": [
    "# Vizualizamos las 50 palabras mas usadas\n",
    "print(\"50 palabras mas usadas: \",all_words[0:200])"
   ]
  },
  {
   "cell_type": "markdown",
   "metadata": {},
   "source": [
    "## 7. Modelar\n",
    "\n",
    "Ahroa sí estamos listos para usar todo nuestro conocimiento de modelos en este set de datos. Tengamos en cuenta que, dependiendo el número de palabras (features) que hayamos elegido, los modelos pueden tardar un rato en entrenarse.\n",
    "\n",
    "a. Primero, como siempre, separamos en test y train."
   ]
  },
  {
   "cell_type": "code",
   "execution_count": 63,
   "metadata": {},
   "outputs": [],
   "source": [
    "from sklearn.model_selection import train_test_split\n",
    "xtrain, xtest, ytrain, ytest = train_test_split(x,y,test_size=0.2,random_state=42,stratify=y)"
   ]
  },
  {
   "cell_type": "markdown",
   "metadata": {},
   "source": [
    "Tambien definimos una función que nos permite plotear los resultados en una matriz de confusión."
   ]
  },
  {
   "cell_type": "code",
   "execution_count": 64,
   "metadata": {},
   "outputs": [],
   "source": [
    "from sklearn.metrics import confusion_matrix\n",
    "import seaborn as sns\n",
    "\n",
    "def confusion(ytest,y_pred):\n",
    "    names=[\"No Sarcastico\",\"Sarcastico\"]\n",
    "    cm=confusion_matrix(ytest,y_pred)\n",
    "    f,ax=plt.subplots(figsize=(5,5))\n",
    "    sns.heatmap(cm,annot=True,linewidth=.5,linecolor=\"r\",fmt=\".0f\",ax=ax)\n",
    "    plt.xlabel(\"y_pred\")\n",
    "    plt.ylabel(\"y_true\")\n",
    "    ax.set_xticklabels(names)\n",
    "    ax.set_yticklabels(names)\n",
    "    plt.show()\n",
    "\n",
    "    return"
   ]
  },
  {
   "cell_type": "markdown",
   "metadata": {},
   "source": [
    "### Naive Bayes\n",
    "a. Empecemos por un simple Naive Bayes para tener un benchmark de referencia para el accuracy."
   ]
  },
  {
   "cell_type": "code",
   "execution_count": null,
   "metadata": {},
   "outputs": [],
   "source": [
    "from sklearn.naive_bayes import GaussianNB\n",
    "nb = GaussianNB()"
   ]
  },
  {
   "cell_type": "markdown",
   "metadata": {},
   "source": [
    "b. Veamos cómo queda graficada la matriz de confusión:"
   ]
  },
  {
   "cell_type": "markdown",
   "metadata": {},
   "source": [
    "### Random Forest\n",
    "a. Veamos cómo funciona un random forest para predecir el sarcasmo de una nota en base a su titular."
   ]
  },
  {
   "cell_type": "code",
   "execution_count": null,
   "metadata": {},
   "outputs": [],
   "source": [
    "from sklearn.ensemble import RandomForestClassifier\n",
    "from sklearn.metrics import confusion_matrix"
   ]
  },
  {
   "cell_type": "markdown",
   "metadata": {},
   "source": [
    "b. Grafiquen su matriz de confusión:"
   ]
  },
  {
   "cell_type": "markdown",
   "metadata": {},
   "source": [
    "c. Algo muy bueno de Random Forest era poder preguntarle por la importancia de los features que uso para clasificar. Veamos en este caso cuales son las palabras que mayormente determinan el sarcasmo de una nota para este clasificador."
   ]
  },
  {
   "cell_type": "code",
   "execution_count": 69,
   "metadata": {},
   "outputs": [
    {
     "name": "stderr",
     "output_type": "stream",
     "text": [
      "C:\\Users\\lopez\\miniconda3\\envs\\datascience\\lib\\site-packages\\sklearn\\utils\\deprecation.py:87: FutureWarning: Function get_feature_names is deprecated; get_feature_names is deprecated in 1.0 and will be removed in 1.2. Please use get_feature_names_out instead.\n",
      "  warnings.warn(msg, category=FutureWarning)\n",
      "C:\\Users\\lopez\\miniconda3\\envs\\datascience\\lib\\site-packages\\seaborn\\_decorators.py:36: FutureWarning: Pass the following variables as keyword args: x, y. From version 0.12, the only valid positional argument will be `data`, and passing other arguments without an explicit keyword will result in an error or misinterpretation.\n",
      "  warnings.warn(\n"
     ]
    },
    {
     "data": {
      "image/png": "[encoded data removed]",
      "text/plain": [
       "<Figure size 1080x576 with 1 Axes>"
      ]
     },
     "metadata": {},
     "output_type": "display_data"
    }
   ],
   "source": [
    "# Le preguntamos la importancia de cada feature (cada palabra)\n",
    "importances = rf.feature_importances_\n",
    "# Tomamos la lista de palabras\n",
    "all_words = cou_vec.get_feature_names()\n",
    "columns = all_words\n",
    "\n",
    "# Ordenamos por importnacia y tomamos las 20 primeras\n",
    "indices = np.argsort(importances)[::-1]\n",
    "indices = indices[:20]\n",
    "selected_columns = [columns[i] for i in indices]\n",
    "selected_importances = importances[indices]\n",
    "\n",
    "# Por ultimo graficamos\n",
    "plt.figure(figsize = (15,8))\n",
    "sns.barplot(selected_columns, selected_importances)\n",
    "plt.show()"
   ]
  },
  {
   "cell_type": "markdown",
   "metadata": {},
   "source": [
    "### SVM\n",
    "Por último vamos a utilizar uno de los modelos mas prometedores para este tipo de datos donde el numero de features es comparable al número de instancias: SVM."
   ]
  },
  {
   "cell_type": "markdown",
   "metadata": {},
   "source": [
    "a. Entrene un modelo de SVM Lineal y calcule su accuracy para C = 1."
   ]
  },
  {
   "cell_type": "code",
   "execution_count": null,
   "metadata": {},
   "outputs": [],
   "source": [
    "# Notar que en vez de utilizar SVC, vamos a usar LinearSVC. \n",
    "# Para el Kernel Lineal, esta función es MUCHO mas rapida que la tradicional SVC.\n",
    "from sklearn.svm import LinearSVC"
   ]
  },
  {
   "cell_type": "markdown",
   "metadata": {},
   "source": [
    "b. Grafiquen su matrz de confusión:"
   ]
  },
  {
   "cell_type": "markdown",
   "metadata": {},
   "source": [
    "## 7. Explore las posibilidades\n",
    "\n",
    "Si llegaron hasta acá, ya cuentan con todas las herramientas para poder explorar que sucede con el poder predictivo cuando van cambiando la manera en que procesan y vectorizan el texto. Algunas sugerencias para explorar son las siguientes:\n",
    "\n",
    "a) Pruebe con Stemmizar en vez de lemmantizar\n",
    "\n",
    "b) Cambie el numero de features que esta tomando.\n",
    "\n",
    "c) Incluya los 2-gramas.\n",
    "\n",
    "d) Conserve los signos de exclamación y pregunta del texto."
   ]
  },
  {
   "cell_type": "markdown",
   "metadata": {},
   "source": [
    "## TF-IDF"
   ]
  },
  {
   "cell_type": "code",
   "execution_count": 72,
   "metadata": {},
   "outputs": [
    {
     "name": "stdout",
     "output_type": "stream",
     "text": [
      "['Los murciélagos usan la eco localización para navegar y encontrar comida en la oscuridad. ', 'Para eco localizar, los murciélagos emiten ondas sonoras por sus boca o nariz. ', 'Cuando las ondas sonoras impactan en un objeto, producen ecos. ', 'El eco rebota del objeto y vuelve a las orejas del murciélago.']\n"
     ]
    }
   ],
   "source": [
    "with open(\"../DataSets/EjemploPLN.txt\", \"r\") as file:\n",
    "    documents = file.read().splitlines()\n",
    "    \n",
    "print(documents)"
   ]
  },
  {
   "cell_type": "code",
   "execution_count": 73,
   "metadata": {},
   "outputs": [
    {
     "name": "stdout",
     "output_type": "stream",
     "text": [
      "  (0, 15)\t1\n",
      "  (0, 17)\t1\n",
      "  (0, 31)\t1\n",
      "  (0, 11)\t2\n",
      "  (0, 4)\t1\n",
      "  (0, 13)\t1\n",
      "  (0, 24)\t1\n",
      "  (0, 19)\t1\n",
      "  (0, 9)\t1\n",
      "  (0, 1)\t1\n",
      "  (0, 8)\t1\n",
      "  (0, 23)\t1\n",
      "  (1, 15)\t1\n",
      "  (1, 17)\t1\n",
      "  (1, 4)\t1\n",
      "  (1, 24)\t1\n",
      "  (1, 14)\t1\n",
      "  (1, 7)\t1\n",
      "  (1, 21)\t1\n",
      "  (1, 28)\t1\n",
      "  (1, 25)\t1\n",
      "  (1, 29)\t1\n",
      "  (1, 0)\t1\n",
      "  (1, 18)\t1\n",
      "  (2, 8)\t1\n",
      "  (2, 21)\t1\n",
      "  (2, 28)\t1\n",
      "  (2, 2)\t1\n",
      "  (2, 12)\t1\n",
      "  (2, 10)\t1\n",
      "  (2, 30)\t1\n",
      "  (2, 20)\t1\n",
      "  (2, 26)\t1\n",
      "  (2, 5)\t1\n",
      "  (3, 4)\t1\n",
      "  (3, 12)\t1\n",
      "  (3, 20)\t1\n",
      "  (3, 6)\t1\n",
      "  (3, 27)\t1\n",
      "  (3, 3)\t2\n",
      "  (3, 32)\t1\n",
      "  (3, 22)\t1\n",
      "  (3, 16)\t1\n"
     ]
    }
   ],
   "source": [
    "# Import the libraries we need\n",
    "from sklearn.feature_extraction.text import CountVectorizer\n",
    "import pandas as pd\n",
    "\n",
    "# Step 2. Design the Vocabulary\n",
    "# The default token pattern removes tokens of a single character. That's why we don't have the \"I\" and \"s\" tokens in the output\n",
    "count_vectorizer = CountVectorizer()\n",
    "\n",
    "# Step 3. Create the Bag-of-Words Model\n",
    "bag_of_words = count_vectorizer.fit_transform(documents)\n",
    "\n",
    "print(bag_of_words)"
   ]
  },
  {
   "cell_type": "code",
   "execution_count": 74,
   "metadata": {},
   "outputs": [
    {
     "name": "stderr",
     "output_type": "stream",
     "text": [
      "C:\\Users\\lopez\\miniconda3\\envs\\datascience\\lib\\site-packages\\sklearn\\utils\\deprecation.py:87: FutureWarning: Function get_feature_names is deprecated; get_feature_names is deprecated in 1.0 and will be removed in 1.2. Please use get_feature_names_out instead.\n",
      "  warnings.warn(msg, category=FutureWarning)\n"
     ]
    },
    {
     "data": {
      "text/plain": [
       "<4x33 sparse matrix of type '<class 'numpy.float64'>'\n",
       "\twith 43 stored elements in Compressed Sparse Row format>"
      ]
     },
     "execution_count": 74,
     "metadata": {},
     "output_type": "execute_result"
    }
   ],
   "source": [
    "# Show the Bag-of-Words Model as a pandas DataFrame\n",
    "feature_names = count_vectorizer.get_feature_names()\n",
    "pd.DataFrame(bag_of_words.toarray(), columns = feature_names)\n",
    "\n",
    "from sklearn.feature_extraction.text import TfidfVectorizer\n",
    "import pandas as pd\n",
    "\n",
    "tfidf_vectorizer = TfidfVectorizer()\n",
    "values = tfidf_vectorizer.fit_transform(documents)\n",
    "values"
   ]
  },
  {
   "cell_type": "code",
   "execution_count": 75,
   "metadata": {},
   "outputs": [
    {
     "data": {
      "text/html": [
       "<div>\n",
       "<style scoped>\n",
       "    .dataframe tbody tr th:only-of-type {\n",
       "        vertical-align: middle;\n",
       "    }\n",
       "\n",
       "    .dataframe tbody tr th {\n",
       "        vertical-align: top;\n",
       "    }\n",
       "\n",
       "    .dataframe thead th {\n",
       "        text-align: right;\n",
       "    }\n",
       "</style>\n",
       "<table border=\"1\" class=\"dataframe\">\n",
       "  <thead>\n",
       "    <tr style=\"text-align: right;\">\n",
       "      <th></th>\n",
       "      <th>boca</th>\n",
       "      <th>comida</th>\n",
       "      <th>cuando</th>\n",
       "      <th>del</th>\n",
       "      <th>eco</th>\n",
       "      <th>ecos</th>\n",
       "      <th>el</th>\n",
       "      <th>emiten</th>\n",
       "      <th>en</th>\n",
       "      <th>encontrar</th>\n",
       "      <th>...</th>\n",
       "      <th>oscuridad</th>\n",
       "      <th>para</th>\n",
       "      <th>por</th>\n",
       "      <th>producen</th>\n",
       "      <th>rebota</th>\n",
       "      <th>sonoras</th>\n",
       "      <th>sus</th>\n",
       "      <th>un</th>\n",
       "      <th>usan</th>\n",
       "      <th>vuelve</th>\n",
       "    </tr>\n",
       "  </thead>\n",
       "  <tbody>\n",
       "    <tr>\n",
       "      <th>0</th>\n",
       "      <td>0.000000</td>\n",
       "      <td>0.27849</td>\n",
       "      <td>0.000000</td>\n",
       "      <td>0.000000</td>\n",
       "      <td>0.177757</td>\n",
       "      <td>0.000000</td>\n",
       "      <td>0.000000</td>\n",
       "      <td>0.000000</td>\n",
       "      <td>0.219565</td>\n",
       "      <td>0.27849</td>\n",
       "      <td>...</td>\n",
       "      <td>0.27849</td>\n",
       "      <td>0.219565</td>\n",
       "      <td>0.000000</td>\n",
       "      <td>0.000000</td>\n",
       "      <td>0.000000</td>\n",
       "      <td>0.000000</td>\n",
       "      <td>0.000000</td>\n",
       "      <td>0.000000</td>\n",
       "      <td>0.27849</td>\n",
       "      <td>0.000000</td>\n",
       "    </tr>\n",
       "    <tr>\n",
       "      <th>1</th>\n",
       "      <td>0.324181</td>\n",
       "      <td>0.00000</td>\n",
       "      <td>0.000000</td>\n",
       "      <td>0.000000</td>\n",
       "      <td>0.206920</td>\n",
       "      <td>0.000000</td>\n",
       "      <td>0.000000</td>\n",
       "      <td>0.324181</td>\n",
       "      <td>0.000000</td>\n",
       "      <td>0.00000</td>\n",
       "      <td>...</td>\n",
       "      <td>0.00000</td>\n",
       "      <td>0.255588</td>\n",
       "      <td>0.324181</td>\n",
       "      <td>0.000000</td>\n",
       "      <td>0.000000</td>\n",
       "      <td>0.255588</td>\n",
       "      <td>0.324181</td>\n",
       "      <td>0.000000</td>\n",
       "      <td>0.00000</td>\n",
       "      <td>0.000000</td>\n",
       "    </tr>\n",
       "    <tr>\n",
       "      <th>2</th>\n",
       "      <td>0.000000</td>\n",
       "      <td>0.00000</td>\n",
       "      <td>0.351192</td>\n",
       "      <td>0.000000</td>\n",
       "      <td>0.000000</td>\n",
       "      <td>0.351192</td>\n",
       "      <td>0.000000</td>\n",
       "      <td>0.000000</td>\n",
       "      <td>0.276883</td>\n",
       "      <td>0.00000</td>\n",
       "      <td>...</td>\n",
       "      <td>0.00000</td>\n",
       "      <td>0.000000</td>\n",
       "      <td>0.000000</td>\n",
       "      <td>0.351192</td>\n",
       "      <td>0.000000</td>\n",
       "      <td>0.276883</td>\n",
       "      <td>0.000000</td>\n",
       "      <td>0.351192</td>\n",
       "      <td>0.00000</td>\n",
       "      <td>0.000000</td>\n",
       "    </tr>\n",
       "    <tr>\n",
       "      <th>3</th>\n",
       "      <td>0.000000</td>\n",
       "      <td>0.00000</td>\n",
       "      <td>0.000000</td>\n",
       "      <td>0.612834</td>\n",
       "      <td>0.195582</td>\n",
       "      <td>0.000000</td>\n",
       "      <td>0.306417</td>\n",
       "      <td>0.000000</td>\n",
       "      <td>0.000000</td>\n",
       "      <td>0.00000</td>\n",
       "      <td>...</td>\n",
       "      <td>0.00000</td>\n",
       "      <td>0.000000</td>\n",
       "      <td>0.000000</td>\n",
       "      <td>0.000000</td>\n",
       "      <td>0.306417</td>\n",
       "      <td>0.000000</td>\n",
       "      <td>0.000000</td>\n",
       "      <td>0.000000</td>\n",
       "      <td>0.00000</td>\n",
       "      <td>0.306417</td>\n",
       "    </tr>\n",
       "  </tbody>\n",
       "</table>\n",
       "<p>4 rows × 33 columns</p>\n",
       "</div>"
      ],
      "text/plain": [
       "       boca   comida    cuando       del       eco      ecos        el  \\\n",
       "0  0.000000  0.27849  0.000000  0.000000  0.177757  0.000000  0.000000   \n",
       "1  0.324181  0.00000  0.000000  0.000000  0.206920  0.000000  0.000000   \n",
       "2  0.000000  0.00000  0.351192  0.000000  0.000000  0.351192  0.000000   \n",
       "3  0.000000  0.00000  0.000000  0.612834  0.195582  0.000000  0.306417   \n",
       "\n",
       "     emiten        en  encontrar  ...  oscuridad      para       por  \\\n",
       "0  0.000000  0.219565    0.27849  ...    0.27849  0.219565  0.000000   \n",
       "1  0.324181  0.000000    0.00000  ...    0.00000  0.255588  0.324181   \n",
       "2  0.000000  0.276883    0.00000  ...    0.00000  0.000000  0.000000   \n",
       "3  0.000000  0.000000    0.00000  ...    0.00000  0.000000  0.000000   \n",
       "\n",
       "   producen    rebota   sonoras       sus        un     usan    vuelve  \n",
       "0  0.000000  0.000000  0.000000  0.000000  0.000000  0.27849  0.000000  \n",
       "1  0.000000  0.000000  0.255588  0.324181  0.000000  0.00000  0.000000  \n",
       "2  0.351192  0.000000  0.276883  0.000000  0.351192  0.00000  0.000000  \n",
       "3  0.000000  0.306417  0.000000  0.000000  0.000000  0.00000  0.306417  \n",
       "\n",
       "[4 rows x 33 columns]"
      ]
     },
     "execution_count": 75,
     "metadata": {},
     "output_type": "execute_result"
    }
   ],
   "source": [
    "feature_names = tfidf_vectorizer.get_feature_names()\n",
    "pd.DataFrame(values.toarray(), columns = feature_names)"
   ]
  },
  {
   "cell_type": "markdown",
   "metadata": {},
   "source": [
    "## Ejercicio Extra 1\n",
    "\n",
    "\"Scrapear\" una nota de algún medio digital y procesarla utilizando las herramientas que vimos. Para ver como importar el texto de la pagina de la noticia, ver video 1.6 'Frecuencia de palabras' de Procesamiento de Lenguaje Natural."
   ]
  },
  {
   "cell_type": "code",
   "execution_count": 77,
   "metadata": {
    "collapsed": true,
    "jupyter": {
     "outputs_hidden": true
    },
    "tags": []
   },
   "outputs": [],
   "source": [
    "# Librerias que van a precisar para esto\n",
    "# ejecutar: conda install -c anaconda beautifulsoup4\n",
    "from bs4 import BeautifulSoup\n",
    "import urllib.request\n",
    "\n",
    "response = urllib.request.urlopen('https://es.wikipedia.org/wiki/Prueba_de_Turing')"
   ]
  },
  {
   "cell_type": "code",
   "execution_count": 78,
   "metadata": {},
   "outputs": [
    {
     "data": {
      "text/plain": [
       "<http.client.HTTPResponse at 0x1e9a9fdc1f0>"
      ]
     },
     "execution_count": 78,
     "metadata": {},
     "output_type": "execute_result"
    }
   ],
   "source": [
    "response"
   ]
  },
  {
   "cell_type": "code",
   "execution_count": 79,
   "metadata": {},
   "outputs": [],
   "source": [
    "html = response.read()\n",
    "soup = BeautifulSoup(html, 'html.parser')\n",
    "text = soup.get_text()"
   ]
  },
  {
   "cell_type": "code",
   "execution_count": 80,
   "metadata": {
    "collapsed": true,
    "jupyter": {
     "outputs_hidden": true
    },
    "tags": []
   },
   "outputs": [
    {
     "data": {
      "text/plain": [
       "'\\n\\n\\n\\nPrueba de Turing - Wikipedia, la enciclopedia libre\\n\\n\\n\\n\\n\\n\\n\\n\\n\\n\\n\\n\\n\\n\\n\\n\\n\\n\\n\\n\\n\\n\\n\\n\\n\\n\\n\\n\\n\\n\\n\\n\\n\\n\\n\\n\\n\\n\\n\\n\\n\\n\\nPrueba de Turing\\n\\nDe Wikipedia, la enciclopedia libre\\n\\n\\n\\nIr a la navegación\\nIr a la búsqueda\\n Para otros usos de este término, véase Turing (desambiguación).\\n La \"interpretación estándar\" de la prueba de Turing, en la cual la entidad C, el interrogador, le es dada la tarea de tratar de determinar qué entidad —¿A o B?— es una computadora y cual un ser humano. El interrogador se limita a la utilización de las respuestas a las preguntas escritas para tomar la determinación. Imagen adaptada de Saygin, 2000.[1]\\u200b\\nLa prueba de Turing o test de Turing es un examen de la capacidad de una máquina para exhibir un comportamiento inteligente similar al de un ser humano o indistinguible de este. Alan Turing propuso que un humano evaluara conversaciones en lenguaje natural entre un humano y una máquina diseñada para generar respuestas similares a las de un humano. El evaluador sabría que uno de los participantes de la conversación es una máquina y los intervinientes serían separados unos de otros. La conversación estaría limitada a un medio únicamente textual como un teclado de computadora y un monitor por lo que sería irrelevante la capacidad de la máquina de transformar texto en habla.[2]\\u200b En el caso de que el evaluador no pueda distinguir entre el humano y la máquina acertadamente (Turing originalmente sugirió que la máquina debía convencer a un evaluador, después de 5 minutos de conversación, el 70\\xa0% del tiempo), la máquina habría pasado la prueba. Esta prueba no evalúa el conocimiento de la máquina en cuanto a su capacidad de responder preguntas correctamente, solo se toma en cuenta la capacidad de esta de generar respuestas similares a las que daría un humano.\\nTuring propuso esta prueba en su ensayo “Computing Machinery and Intelligence” de 1950 mientras trabajaba en la Universidad de Mánchester (Turing, 1950; p. 460).[3]\\u200b Inicia con las palabras: “Propongo que se considere la siguiente pregunta, ‘¿Pueden pensar las máquinas?’”. Como es difícil definir la palabra “pensar”, Turing decide “reemplazar la pregunta con otra que está estrechamente relacionada y en palabras no ambiguas.”, [4]\\u200b la nueva pregunta de Turing es: “¿Existirán computadoras digitales imaginables que tengan un buen desempeño en el juego de imitación?\".[5]\\u200b Turing creía que esta pregunta sí era posible de responder y en lo que resta de su ensayo se dedica a argumentar en contra de las objeciones principales a la idea de que “las máquinas pueden pensar”.[6]\\u200b\\nDesde que fue creada por Turing en 1950, la prueba ha demostrado ser altamente influyente y a la vez ampliamente criticada, además de transformarse en un concepto importante en la filosofía de la inteligencia artificial.[1]\\u200b[7]\\u200b\\n\\nÍndice\\n\\n1 Historia\\n\\n1.1 Contexto filosófico\\n1.2 Alan Turing\\n1.3 ELIZA y PARRY\\n1.4 La habitación china\\n1.5 Premio Loebner\\n1.6 Competición en la Universidad de Reading de 2014\\n\\n\\n2 Versiones de la prueba de Turing\\n\\n2.1 Juego de la imitación\\n2.2 Interpretación estándar\\n2.3 Juego de la imitación vs. Prueba de Turing Estándar\\n2.4 ¿Debería saber el interrogador de la computadora?\\n\\n\\n3 Fortalezas de la prueba\\n\\n3.1 Tratabilidad y simplicidad\\n3.2 Variedad de temas\\n3.3 Énfasis en la inteligencia emocional y estética\\n\\n\\n4 Debilidades de la prueba\\n\\n4.1 Inteligencia humana vs. Inteligencia en general\\n\\n4.1.1 Ciertos comportamientos inteligentes son inhumanos\\n\\n\\n4.2 Inteligencia real vs. Inteligencia simulada\\n4.3 Ingenuidad de los interrogadores y la falacia antropomórfica.\\n4.4 Errores en la identificación humana\\n4.5 Irrelevancia e impractibilidad: Turing y la investigación de IA.\\n\\n\\n5 Variantes de la prueba de Turing\\n\\n5.1 Prueba de Turing en reversa y CAPTCHA\\n5.2 Pruebas de Turing Experta en la Materia.\\n5.3 Prueba de Turing Total\\n5.4 Prueba de la Señal de Inteligencia Mínima\\n5.5 Premio Hutter\\n5.6 Otras pruebas basadas en la compresión o Complejidad de Kolmogorov\\n5.7 Prueba de Ebert\\n\\n\\n6 Predicciones\\n7 Conferencias\\n\\n7.1 Coloquio de Turing\\n7.2 Coloquio de Sistemas Conversacionales del 2005\\n7.3 Simposio de la Prueba de Turing IASC del 2008\\n7.4 Simposio de la Prueba de Turing IASC del 2010\\n7.5 El Año de Turing y Turing100 en el 2012\\n7.6 Simposio de la Prueba de Turing IASC/IACAP del 2012\\n\\n\\n8 Notas\\n9 Referencias\\n10 Otras lecturas\\n11 Enlaces externos\\n\\n\\nHistoria[editar]\\nContexto filosófico[editar]\\nLa incógnita sobre la capacidad de las máquinas de pensar tiene una larga historia, esta se divide entre las perspectivas materialista y dualista de la mente. René Descartes tuvo ideas similares a la prueba de Turing en su texto Discurso del Método (1637) donde escribió que los autómatas son capaces de reaccionar ante interacciones humanas pero argumenta que tal autómata carece de la capacidad de responder de manera adecuada ante lo que se diga en su presencia de la misma manera que un humano podría. Por lo tanto, Descartes abre las puertas para la prueba de Turing al identificar la insuficiencia de una respuesta lingüística apropiada lo que separa al humano del autómata. Descartes no llega a considerar que una respuesta lingüística apropiada puede ser producida por un autómata del futuro y por lo tanto no propone el test de Turing como tal aunque ya razonó los criterios y el marco conceptual.\\n\\n\\n\\nCuantos autómatas diferentes o máquinas móviles se pueden construir por la industria del hombre […] Podemos comprender con facilidad el hecho de que una máquina sea diseñada para pronunciar palabras, incluso responder ante acciones tangibles que produzca un cambio en sus órganos; por ejemplo, si se le tocara de una manera particular no preguntaría que le queremos decir; si se le toca en otra parte puede decir que se le está lastimando entre otras cosas. Pero nunca sucede que pueda ordenar su habla en distintas maneras para responder apropiadamente ante todo lo que se diga en su presencia, de la misma manera que la clase más baja de humanos puede hacerlo.[8]\\u200b \\n\\nDenis Diderot plantea en su Pensées philosophiques un criterio de la prueba de Turing:\\n“Si se encuentra un loro que puede responder a todo, se le consideraría un ser inteligente sin duda alguna.\"[9]\\u200b\\nEsto no significa que él esté de acuerdo pero muestra que ya era un argumento común usado por los materialistas de la época.\\nSegún el dualismo, la mente no tiene un estado físico (o al menos cuenta con propiedades no físicas)[10]\\u200b y por lo tanto no se puede explicar en términos estrictamente físicos. De acuerdo con el materialismo, la mente puede ser explicada físicamente lo que abre la posibilidad a la creación de mentes artificiales.[11]\\u200b\\nEn 1936, el filósofo Alfred Ayer consideraba la pregunta filosófica típica sobre otras mentes: ¿Cómo sabemos que otras personas experimentan el mismo nivel de conciencia que nosotros? En su libro Lenguaje, Verdad y Lógica, Ayer propuso un método para distinguir entre un hombre consciente y una máquina inconsciente: “El único argumento que tengo para asegurar que lo que parece ser consciente no es un ser consciente sino un muñeco o una máquina, es el hecho de que falle en las pruebas empíricas por medio de las cuales se determina la presencia o ausencia de la conciencia\"[12]\\u200b (Es una propuesta muy similar a la prueba de Turing pero esta se enfoca en la conciencia en vez de en la inteligencia). Además se desconoce si Turing estaba familiarizado con el clásico filosófico de Ayer. En otras palabras, algo no está consciente si reprueba una prueba de consciencia.\\n\\nAlan Turing[editar]\\nArtículo principal:  Alan Turing\\nLa “inteligencia maquinaria” ha sido un tema que investigadores del Reino Unido han seguido desde 10 años antes de que se fundara el campo de investigación de la inteligencia artificial (IA) en 1956.[13]\\u200b Era un tema comúnmente discutido por los miembros del “Club de la razón”, grupo informal de investigadores cibernéticos y electrónicos británicos que incluía a Alan Turing.[14]\\u200b\\nTuring, en particular, había estado trabajando con el concepto de la inteligencia maquinaria desde al menos 1941,[15]\\u200b una de las primeras menciones de la “inteligencia computacional” fue hecha por Turing en 1947.[16]\\u200b En el reporte de Turing llamado “maquinaria inteligente”,[17]\\u200b él investigó “la idea de si era, o no, posible para una máquina demostrar un comportamiento inteligente\"[18]\\u200b y como parte de su investigación, propuso lo que se puede considerar como un predecesor de sus pruebas futuras:\\n\\n\\n\\n\\nNo es difícil diseñar una máquina de papel que juegue bien ajedrez.[19]\\u200b Hay que conseguir 3 hombres como sujetos para el experimento. A,B y C. A y C son dos jugadores malos de ajedrez mientras que B es el operador de la máquina. … Se usan dos cuartos con algún arreglo para transmitir los movimientos y se lleva a cabo un juego entre C y ya sea A o la máquina. C puede tener dificultad al decidir contra quien está jugando.[20]\\u200b\\n\\n\\nEl primer texto publicado escrito por Turing y enfocado completamente en la inteligencia de las máquinas fue “Computing Machinery and Intelligence”. Turing inicia este texto diciendo “Me propongo tomar en cuenta la pregunta ‘¿Pueden pensar las máquinas?’”.[4]\\u200b Turing menciona que el acercamiento tradicional es empezar con definiciones de los términos “máquina” e “inteligencia”, decide ignorar esto y empieza reemplazando la pregunta con una nueva, “que está estrechamente relacionada y en palabras no ambiguas”.[4]\\u200b Él propone, en esencia, cambiar la pregunta de “¿pueden las máquinas pensar?” a “¿Pueden las máquinas hacer, lo que nosotros (como entidades pensantes) hacemos?”.[21]\\u200b La ventaja de esta nueva pregunta es que “dibuja un límite entre las capacidades físicas e intelectuales del hombre.\"[22]\\u200b\\nPara demostrar este acercamiento, Turing propone una prueba inspirada en el “Juego de imitación”, en este entraban un hombre y una mujer a cuartos separados y el resto de los jugadores intentaría distinguir entre cada uno por medio de preguntas y leyendo las respuestas (escritas a máquina) en voz alta. El objetivo del juego es que los participantes que se encuentran en los cuartos deben convencer al resto que son el otro. (Huma Shah argumenta que Turing incluye la explicación de este juego para introducir al lector a la prueba de pregunta y respuesta entre humano y máquina[23]\\u200b) Turing describe su versión del juego de la siguiente manera:\\n\\nNos hacemos la pregunta, “¿Qué pasaría si una máquina toma el papel de A en este juego?” ¿Se equivocaría tan frecuentemente el interrogador en esta nueva versión del juego que cuando era jugado por un hombre y una mujer? Estas preguntas sustituyen la pregunta original “¿Pueden pensar las máquinas?”.[22]\\u200b\\nMás adelante en el texto se propone una versión similar en la que un juez conversa con una computadora y un hombre.[24]\\u200b A pesar de que ninguna de las versiones propuestas es la misma que conocemos hoy en día, Turing propuso una tercera opción, la cual discutió en una transmisión de radio de la BBC, donde un jurado le hace preguntas a una computadora y el objetivo de la computadora es engañar a la mayoría del jurado haciéndolo creer que es un humano.[25]\\u200b\\nEl texto de Turing consideraba nueve objeciones putativas las cuales incluyen a todos los argumentos mayores, en contra de la inteligencia artificial, que habían surgido en los años posteriores a la publicación de su texto (ver “Computing Machinery and Intelligence”).[6]\\u200b\\n\\nELIZA y PARRY[editar]\\nEn 1966, Joseph Weizenbaum creó un programa que aseguraba pasar la prueba de Turing. Este programa era conocido como ELIZA y funcionaba a través del análisis de las palabras escritas por el usuario en busca de palabras clave. En el caso de encontrar una palabra clave, una regla que transformaba el comentario del usuario entra en acción y se regresaba una oración resultado. Si no se encontraba alguna palabra clave, ELIZA daba una respuesta genérica o repetía uno de los comentarios anteriores.[26]\\u200b Además, Weizenbaum desarrolló a ELIZA para replicar el comportamiento de un psicoterapeuta Rogeriano lo que permitía a ELIZA \"asumir el rol de alguien que no conoce nada del mundo real”.[27]\\u200b El programa fue capaz de engañar a algunas personas haciéndolas creer que hablaban con una persona real e incluso algunos sujetos fueron “muy difíciles de convencerles de que ELIZA no era humana”.[27]\\u200b Como resultado, ELIZA es aclamado como uno de los programas (probablemente el primero) en pasar la prueba de Turing,[27]\\u200b[28]\\u200b aunque esto es muy controvertido (ver más adelante).\\nPARRY fue creado por Kenneth Colby en 1972. Era un programa descrito como “ELIZA con carácter”.[29]\\u200b Este intentaba simular el comportamiento de un esquizofrénico paranoico usando un acercamiento similar (probablemente más avanzado) al de Weizenbaum. PARRY fue examinado usando una variación de la prueba de Turing con tal de validar el trabajo. Un grupo de psiquiatras experimentados analizaba a un grupo de pacientes reales y computadoras ejecutando el programa PARRY a través de teletipos. A otro grupo de 33 psiquiatras se les enseñaban transcripciones de las conversaciones. A ambos grupos se les pedía indicar qué pacientes eran humanos y cuáles eran computadoras. [30]\\u200b Los psiquiatras fueron capaces de responder correctamente solo 48% de las veces, un valor consistente con respuestas aleatorias.[31]\\u200b\\nEn el siglo XXI, versiones de estos programas (llamados “bots conversacionales”) siguieron engañando a la gente. “CyberLover”, un programa de malware, acechaba a usuarios convenciéndolos de “revelar información sobre sus identidades o de entrar a un sitio web que introduciría malware a sus equipos”.[32]\\u200b El programa surgió como un “riesgo de San Valentín”, coqueteando con la gente “buscando relaciones en línea para recabar información personal”.[33]\\u200b\\n\\nLa habitación china[editar]\\nArtículo principal:  Habitación china\\nEl texto “Minds, Brains, and Programs” de 1980 escrito por John Searle, proponía el experimento de la “habitación china” y argumentaba que la prueba de Turing no podía usarse para determinar si una máquina podía pensar. Searle observó que software (como ELIZA) podía aprobar la prueba de Turing a través de la manipulación de caracteres que no había entendido. Sin la comprensión no se les puede clasificar realmente como “pensantes” de la misma manera que los humanos, por lo tanto, Searle concluyó que la prueba de Turing no puede probar que una máquina puede pensar. [34]\\u200b Al igual que la prueba de Turing, el argumento de Searle ha sido ampliamente criticado[35]\\u200b al igual que respaldado.[36]\\u200b\\nArgumentos como los de Searle en la filosofía de mente desataron un debate más intenso sobre la naturaleza de la inteligencia, la posibilidad de máquinas inteligentes y el valor de la prueba de Turing que continuó durante las décadas de los 80s y 90s.[37]\\u200b El filósofo fisicalista William Lycan reconoció el avance de las inteligencias artificiales, comenzando a comportarse como si tuvieran mentes. Lycan usa el experimento mental de un robot humanoide llamado Harry que puede conversar, jugar golf, tocar la viola, escribir poesía y por consiguiente consigue engañar a la gente como si fuera una persona con mente. Si Harry fuera humano, sería perfectamente natural pensar que tiene pensamientos o sentimientos, lo que sugeriría que en realidad Harry pueda tener pensamientos o sentimientos aun si es un robot.[38]\\u200b[39]\\u200b Para Lycan \"no hay ningún problema ni objeción a la experiencia cualitativa en máquinas que no es igualmente un dilema para tal experiencia en humanos\"[40]\\u200b (ver Problema de otras mentes).\\n\\nPremio Loebner[editar]\\nArtículo principal:  Premio Loebner\\nEl Premio Loebner proporciona una plataforma anual para pruebas de Turing prácticas, siendo la primera competición en noviembre de 1991.[41]\\u200b Creada por Hugh Loebner, el Centro de Estudios Conductuales de Cambridge en Massachusetts, Estados Unidos, organizó los premios hasta el año 2003 incluido. Loebner dijo que un motivo por el que se creó la competición era para avanzar el estado de la investigación de IA, al menos en parte, ya que no se había intentado implementar la prueba de Turing después de 40 años de discusión.[42]\\u200b\\nLa primera competición del Premio Loebner en 1991, llevó a una discusión renovada sobre la viabilidad de la prueba de Turing y el valor de continuar persiguiéndola en la prensa[43]\\u200b y en la academia.[44]\\u200b El primer concurso lo ganó un programa inconsciente sin ninguna inteligencia identificable que logró engañar a interrogadores ingenuos. Esto sacó a la luz muchas de las deficiencias de la prueba de Turing (discutido más adelante): El programa ganó gracias a que fue capaz de “imitar errores humanos al escribir”;[43]\\u200b ”, los interrogadores poco sofisticados fueron fácilmente engañados[44]\\u200b y algunos investigados de IA sintieron que la prueba es una distracción de investigaciones más fructíferas.[45]\\u200b\\nLos premios de plata (únicamente textual) y de oro (visual y aural) no han sido ganados a la fecha, sin embargo, la competición ha entregado la medalla de bronce cada año al sistema computacional que, según la opinión de los jueces, demuestra el comportamiento conversacional “más humano” entre los otros participantes. A.L.I.C.E. (Artificial Linguistic Internet Computer Entity) ha ganado el premio de bronce en 3 ocasiones recientes (2000, 2001 y 2004). La IA aprendiz Jabberwacky ganó en el año 2005 y nuevamente en el 2006.[46]\\u200b\\nEl Premio Loebner evalúa la inteligencia conversacional, los ganadores son, típicamente, bots conversacionales. Las reglas de las primeras instancias de la competición, restringían las conversaciones: cada programa participante y un humano escondido conversaban de un solo tema[47]\\u200b y los interrogadores estaban limitados a una sola pregunta por cada interacción con la entidad. Las conversaciones restringidas fueron eliminadas en la competición de 1995. La interacción entre el evaluador y la entidad ha variado en las diferentes instancias del Premio Loebner. En el Premio Loebner de 2003 en la Universidad de Surrey, cada interrogador tenía permitido interactuar con la entidad por 5 minutos fuera humana o máquina. Entre 2004 y 2007, la interacción permitida era de más de 20 minutos. En 2008, la interacción permitida era de 5 minutos por par porque, el organizador Kevin Warwick, y el coordinador Huma Shah, consideraban que esta debía ser la duración de cualquier prueba por como Turing lo puso en su texto de 1950: “… la correcta identificación después de 5 minutos de cuestionamientos.”.[48]\\u200b Ellos sentían que las pruebas largas implementadas anteriormente eran inapropiadas para el estado de las tecnologías conversacionales artificiales.[49]\\u200b Es irónico que la competición del 2008 fue ganada por Elbot de Artificial Solutions, esta no simulaba una personalidad humana sino la de un robot y aun así logró engañar a tres jueces humanos de que era el humano actuando como robot.[50]\\u200b\\nDurante la competición del 2009. Con sede en Brighton, Reino Unido, la interacción permitida era de 10 minutos por ronda, 5 minutos para hablar con la máquina y 5 minutos para hablar con el humano. Se implementó de esta manera para probar la lectura alternativa sobre la predicción de Turing que la interacción de 5 minutos debía ser con la computadora. Para la competición del 2010, el patrocinador aumentó el tiempo de interacción entre interrogador y sistema a 25 minutos.[51]\\u200b\\n\\nCompetición en la Universidad de Reading de 2014[editar]\\nEl 7 de junio de 2014 se realizó una competición de la prueba de Turing organizada por Kevin Warwick y Huma Shah para el 60 aniversario de la muerte de Turing y fue llevado a cabo en la Real Sociedad de Londres. Fue ganada por el robot conversacional ruso Eugene Goostman. El robot, durante una serie de conversaciones de 5 minutos de duración, logró convencer al 33% de los jueces del concurso de que era humano. John Sharkley se incluía entre los jueces, patrocinador del proyecto de ley que promueve el perdón gubernamental a Turing, al profesor de IA Aaron Sloman y Robert Llewellyn, actor de Enano Rojo.[52]\\u200b[53]\\u200b[54]\\u200b[55]\\u200b\\nLos organizadores de la competición creyeron que la prueba había sido “aprobada por primera vez” en el evento diciendo: “algunos dirán que la prueba ya ha sido pasada. Las palabras ‘Prueba de Turing’ han sido aplicadas a competiciones similares alrededor del mundo. Sin embargo, este evento involucra más pruebas simultáneas de comparación al mismo tiempo como nunca antes visto, fue independientemente verificado y, crucialmente, no se restringieron las conversaciones. Una prueba de Turing verdadera no establece las preguntas ni los temas de las conversaciones.”[53]\\u200b\\nLa competición ha enfrentado críticas,[56]\\u200b primero, solo un tercio de los jueces fue engañado por la computadora. Segundo, el personaje de computadora aparentaba ser una niña ucraniana de 13 años de edad que aprendió inglés como segundo lenguaje. El premio requería que un 30% de los jueces fuera engañado lo que concuerda con el texto de Turing Computing Machinery and Intelligence. Joshua Tenenbaum, experto en psicología matemática en el MIT, calificó el resultado como nada impresionante.[57]\\u200b\\n\\nVersiones de la prueba de Turing[editar]\\n El juego de la imitación, como descrito por Alan Turing en “Computing Machinery and Intelligence”. El jugador C, por medio de preguntas escritas, intenta determinar cuál de los otros dos jugadores es mujer y cual hombre. El jugador A, el hombre, trata de engañar al jugador C para que yerre su decisión mientras que el jugador B trata de ayudarlo. Figura adaptada de Saygin, 2000.\\nSaul Traigner argumenta que hay al menos 3 versiones primarias de la prueba de Turing, de las cuales dos son propuestas en “Computing Machinery and Intelligence” y otra que el describe como “la interpretación estándar”.[58]\\u200b A pesar de que hay controversia en cuanto a si esta “interpretación estándar” fue descrita por Turing o si está basada en la mala interpretación del texto, estas tres versiones no se clasifican como equivalentes [58]\\u200b y sus fortalezas y debilidades son diferentes.[59]\\u200b\\nHuma Shah señala el hecho de que el mismo Turing estaba consternado con la posibilidad de que una máquina pudiera pensar y estaba proporcionando un método simple para examinar esto a través de sesiones de pregunta y respuesta entre humano y máquina.[60]\\u200b Shah argumenta que existe un juego de imitación que Turing pudo haber puesto en práctica de dos maneras diferentes: a) una prueba uno a uno entre el interrogador y la máquina o b) una comparación simultánea entre un humano y una máquina interrogados paralelamente por un mismo interrogador.[23]\\u200bDebido a que la prueba de Turing evalúa la indistinguibilidad en su capacidad de desempeño, la versión verbal naturalmente generaliza a toda la capacidad humana, verbal y no verbal (robótica).[61]\\u200b\\n\\nJuego de la imitación[editar]\\nEl juego original descrito por Turing proponía un juego de fiesta que involucraba a tres jugadores. El jugador A es un hombre, el jugador B es una mujer y el jugador C (quien tiene el rol de interrogador) es de cualquier sexo. En el juego, el jugador C no tiene contacto visual con ninguno de los otros jugadores y se puede comunicar con ellos por medio de notas escritas. Al hacerles preguntas a los jugadores, el jugador C intenta determinar cuál de los dos es el hombre y cual la mujer. El jugador A intentará engañar al interrogador haciéndole escoger erróneamente mientras que el jugador B le auxiliará al interrogador en escoger al jugador correcto.[1]\\u200b\\nSterret se refiere a este juego como “La Prueba del Juego Original De La Imitación”.[62]\\u200b Turing propuso que el rol del jugador A lo cumpliera una computadora para que esta tuviera que pretender ser mujer e intentara guiar al interrogador a la respuesta incorrecta. El éxito de la computadora sería determinado al comparar el resultado del juego cuando el jugador A es la computadora junto con el resultado del juego cuando el jugador A es un hombre. Turing afirmó que si “el interrogador decide erróneamente tan frecuentemente cuando el juego es jugado [con la computadora] como cuando el juego es jugado entre un hombre y una mujer”,[22]\\u200b se podrá argumentar que la computadora es inteligente.\\n\\n La prueba del Juego Original de la Imitación, en la cual el jugador A es reemplazado con una computadora. La computadora tiene el papel de un hombre mientras el jugador B tiene el papel de auxiliar al interrogador. Figura adaptada de Saygin, 2000.\\nLa segunda versión apareció posteriormente en el texto de 1950 de Turing. Similarmente a la Prueba del Juego Original de la Imitación, el papel del jugador A sería realizado por una computadora. Sin embargo, el papel del jugador B sería realizado por un hombre y no una mujer.\\n\\n“Dirijamos nuestra atención a una computadora digital en específico llamada C. ¿Será verdad que al modificar la computadora para que esta tenga un almacenamiento que aumentara su velocidad de reacción apropiadamente y proporcionándole un programa apropiado, C podrá realizar satisfactoriamente el rol de A en el juego de la imitación con el papel de B hecho por un hombre?”[22]\\u200b\\nEn esta versión ambos, el jugador A (la computadora) y el jugador B intentarán guiar al interrogador hacia la respuesta incorrecta.\\n\\nInterpretación estándar[editar]\\nLa comprensión general dicta que el propósito de la prueba de Turing no es determinar específicamente si una computadora podrá engañar al interrogador haciéndole creer que este es un humano sino su capacidad de imitar al humano.[1]\\u200b Aunque hay cierta disputa sobre cual interpretación es a la que Turing se refería, Sterret cree que era esta[62]\\u200b y por lo tanto combina la segunda versión con esta mientras que otros, como Traiger, no lo hacen[58]\\u200b sin embargo, esto no ha llevado a una interpretación estándar realmente. En esta versión el jugador A es una computadora y el sexo del jugador B es indiferente. El objetivo del interrogador no es determinar cuál de ellos es hombre y cual mujer sino cual es computadora y cual humano.[63]\\u200b El problema fundamental con la interpretación estándar es que el interrogador no puede diferenciar cual respondedor es humano y cual es una máquina. Hay otros problemas en cuanto a la duración pero la interpretación estándar generalmente considera esta limitación como algo que debería ser razonable.\\n\\nJuego de la imitación vs. Prueba de Turing Estándar[editar]\\nSe ha creado controversia sobre cuál de las fórmulas alternativas es la que Turing planteó.[62]\\u200b Sterret argumenta que se pueden obtener dos pruebas de la lectura del texto de Turing de 1950 y que, según Turing, no son equivalentes. Se le refiere a la prueba que consiste del juego de fiesta y compara frecuencias de éxito como la “Prueba del Juego de la Imitación Original” mientras que a la prueba que consiste de un juez humano conversando con un humano y una máquina se le conoce “Prueba Estándar de Turing”, nótese que Sterret trata por igual a esta con la “interpretación estándar” en vez de tratarle como la segunda versión del juego de la imitación. Sterret concuerda que la Prueba Estándar de Turing (PET) tiene los problemas que sus críticas citan pero siente que, en contraste, la Prueba del Juego de la Imitación Original (Prueba JIO) mostró ser inmune a muchas de estas debido a una diferencia crucial: A diferencia de la PET, esta no hace similitud con el desempeño humano, aunque emplea al desempeño humano al definir criterio para la inteligencia de la máquina. Un humano puede reprobar la Prueba de JIO pero se argumenta que esta prueba es de inteligencia y el hecho de reprobar solo indica falta de creatividad. La Prueba JIO requiere la creatividad asociada con la inteligencia y no la sola “simulación del comportamiento conversacional humano. La estructura general de la Prueba JIO puede ser usada con versiones no verbales de juegos de imitación.[64]\\u200b\\nOtros escritores[65]\\u200b continúan interpretando la propuesta de Turing como el mismo juego de la imitación sin especificar cómo tomar en cuenta la declaración de Turing de que la prueba que él propuso usando la versión festiva del juego de la imitación está basada en un criterio de comparación de frecuencias de éxito en el juego en vez de la capacidad de ganar en tan solo una ronda.\\nSaygin sugirió que, probablemente, el juego original es una manera de proponer un diseño experimental menos parcial, ya que esconde la participación de la computadora.[66]\\u200b El juego de la imitación incluye un “truco social” no encontrado en la interpretación estándar, ya que en el juego a ambos, la computadora y el hombre, se le requiere que pretendan ser alguien que no son.[67]\\u200b\\n\\n¿Debería saber el interrogador de la computadora?[editar]\\nUna pieza vital en cualquier prueba de laboratorio es la existencia de un control. Turing nunca aclara si el interrogador en sus pruebas está al tanto de que uno de los participantes es una computadora. Sin embargo, si hubiera una máquina que tuviera el potencial de pasar la prueba de Turing, sería mejor asumir que un control doble ciego es necesario.\\nRegresando al Juego Original de la Imitación, Turing establece que solo el jugador A será reemplazado con una máquina, no que el jugador C esté al tanto de este cambio.[22]\\u200b Cuando Colby, FD Hilf, S Weber y AD Kramer examinaron a PARRY, lo hicieron asumiendo que los interrogadores no necesitaban saber que uno o más de los interrogados era una computadora.[68]\\u200b Como Ayse Saygin, Peter Swirski[69]\\u200b y otros han resaltado, esto hace una gran diferencia en la implementación y el resultado de la prueba[1]\\u200b Un estudio experimental examinando violaciones a las máximas conversacionales de Grice usando transcripciones de los ganadores de la prueba (interlocutor escondido e interrogador) uno a uno entre 1994 y 1999, Ayse Saygin observó diferencias significativas entre las respuestas de los participante que sabían que había computadoras involucradas y los que no.[70]\\u200b\\nHuma Shah y Kevin Warwick, quienes organizaron el Premio Loebner del 2008 en la Universidad de Reading la cual fue sede de pruebas de comparativas simultáneas (un juez y dos interlocutores escondidos), demostraron que el conocimiento sobre los interlocutores no creó una diferencia significativa en la determinación de los jueces. A estos jueces no se les dijo explícitamente la naturaleza de las parejas de interlocutores escondidos que iban a interrogar. Los jueces fueron capaces de diferenciar entre humano y máquina, inclusivamente cuando estaban enfrentándose a parejas de control de dos máquinas o dos humanos infiltrados entre las parejas de máquina y humano. Los errores de ortografía delataban a los humanos escondidos, las máquinas eran identificadas por su velocidad de respuesta y expresiones de mayor tamaño.[50]\\u200b\\n\\nFortalezas de la prueba[editar]\\nTratabilidad y simplicidad[editar]\\nEl poder y atractivo de la prueba de Turing se deriva de su simplicidad. La filosofía de la mente, la psicología y la neurociencia moderna han sido incapaces de proporcionar definiciones para “inteligencia” y “pensamiento” que sean suficientemente precisas y generales como para ser aplicadas a máquinas. Sin estas definiciones, las incógnitas principales de la filosofía de la inteligencia artificial no pueden ser respondidas. La prueba de Turing, aunque imperfecta, al menos proporciona algo que puede ser medido y como tal, es una solución pragmática a una difícil pregunta filosófica.\\n\\nVariedad de temas[editar]\\nEl formato de la prueba permite al interrogador darle una gran variedad de tareas intelectuales a la máquina. Turing escribió que: “Los métodos de pregunta y respuesta parecen ser adecuados para introducir cualquiera de los campos de labor humana que queramos incluir.”.[71]\\u200b John Haugeland agregó: “la comprensión de las palabras no es suficiente, también se tiene que entender el tema.”.[72]\\u200b\\nPara aprobar una prueba de Turing diseñada correctamente, la máquina debe usar lenguaje natural, razón, tener conocimientos y aprender. La prueba puede ser extendida para incluir video como fuente de información junto con una “escotilla” por la que se pueden transferir objetos, esto forzaría a la máquina a probar su habilidad de visión y de robótica al mismo tiempo. En conjunto representan casi todos los problemas que la investigación de inteligencia artificial quisiera resolver.[73]\\u200b\\nLa prueba de Feigenbaum está diseñada para usar a su ventaja el rango de temas disponibles para una prueba de Turing. Es una forma limitada del juego de respuesta y pregunta de Turing el cual compara a la máquina contra la habilidad de expertos en campos específicos como la literatura y la química. La máquina Watson de IBM alcanzó el éxito en un show de televisión que hacia preguntas de conocimiento humano a concursantes humanos y a la máquina por igual y al mismo tiempo llamado Jeopardy!.[74]\\u200b\\n\\nÉnfasis en la inteligencia emocional y estética[editar]\\nSiendo un graduado de matemáticas con honores de Cambridge, se esperaba que Turing propusiera una prueba de inteligencia computacional que requiriera conocimiento experto de algún campo altamente técnico y como resultado necesitaría anticipar un acercamiento diferente. En vez de eso, la prueba que describió en su texto de 1950 solo requiere que la computadora sea capaz de competir exitosamente en un juego de fiestas común, con esto se refiere a que pueda compararse su desempeño con el de un humano típico al responder series de preguntas para aparentar ser la participante femenina.\\nDado el estatus de dimorfismo sexual humano como uno de los temas más antiguos, se tiene implícito, en el escenario anterior, que las preguntas realizadas no pueden involucrar conocimientos factuales especializados ni técnicos de procesamiento de información. El reto para la computadora será exhibir empatía por el papel de la mujer al igual que demostrar una característica de sensibilidad estética, cualidades las cuales se muestran en este extracto imaginado por Turing:\\n\\nInterrogador: ¿Podría X decirme el largo de su cabello?\\nParticipante: Mi cabello está en capas y las hebras más largas son de aproximadamente 9 pulgadas de largo.\\nCuando Turing introduce algo de conocimiento especializado a sus diálogos imaginarios, el tema no es matemáticas ni electrónica sino poesía:\\n\\nInterrogador: En la primera línea de tu soneto se lee: “Podré compararla con un día de verano”, ¿acaso no funcionaría “un día de primavera” de igual o mejor manera?\\nTestigo: No funcionaría.\\nInterrogador: ¿Qué tal “un día de invierno”? Eso debería funcionar.\\nTestigo: Si, pero nadie quiere ser comparado con un día de invierno.\\nTuring, nuevamente, demuestra su interés en la empatía y en la sensibilidad estética como componente de la inteligencia artificial y en luz de una preocupación creciente de una IA en descontrol,[75]\\u200b se ha sugerido[76]\\u200bque este enfoque puede representar una intuición crítica por parte de Turing, i.e. que la inteligencia y estética jugarán un rol clave en la creación de una “IA amigable”. Sin embargo, se ha observado que cualquiera que sea la dirección en la que Turing nos inspire, depende de la preservación de su visión original, o sea, la promulgación de una “Interpretación Estándar” de la prueba de Turing (i.e. una que se enfoque únicamente en la inteligencia discursiva) debe ser tomada con precaución.\\n\\nDebilidades de la prueba[editar]\\nTuring no afirmó explícitamente que la prueba de Turing podía ser usada como una medida de la inteligencia, o de cualquier otra cualidad humana. Él quería proporcionar una alternativa clara y comprensible a la palabra “pensar”, que posteriormente se pudiera usar para responder ante las críticas sobre la posibilidad de “máquinas pensantes”, y sugerir formas para que la investigación siga avanzando. Sin embargo, se ha propuesto el uso de la prueba de Turing como una medida de la “capacidad para pensar” o de la “inteligencia” de una máquina. Esta propuesta ha recibido las críticas de filósofos y científicos de la computación. Esta asume que un interrogador puede determinar si una máquina es “pensante” al comparar su comportamiento con el de un humano. Cada elemento de esta asunción ha sido cuestionado: la confiabilidad del juicio del interrogador, el valor de comparar únicamente el comportamiento y el valor de comparar a la máquina con el humano, es por estas asunciones y otras consideraciones que algunos investigadores de IA cuestionan la relevancia de la prueba de Turing en el campo.\\n\\nInteligencia humana vs. Inteligencia en general[editar]\\n \\nLa prueba de Turing no evalúa directamente si una computadora se comporta inteligentemente, solo si se comporta como un ser humano. Ya que el comportamiento humano y un comportamiento inteligente no son exactamente iguales, la prueba puede errar, al medir precisamente la inteligencia, de dos maneras:\\n\\nCiertos comportamientos humanos no son inteligentes\\nLa prueba de Turing requiere que la máquina despliegue todos los comportamientos humanos, sin importar el hecho de que sean inteligentes o no. Incluso examina en búsqueda de comportamientos que consideramos, en lo absoluto, inteligentes. Entre ellos se encuentra la susceptibilidad a insultos, la tentación de mentir o, simplemente, errores de escritura. Si una máquina falla al imitar estos comportamientos no inteligentes, reprobaría la prueba.: Esta objeción fue sacada a la luz en una publicación en “The Economist” titulada “Artificial Stupidity” (Estupidez artificial en inglés) poco después de la primera competencia del Premio de Loebner en 1992. El artículo afirmaba que el ganador de la competencia fue, en parte, por la habilidad de la máquina de \"imitar errores humanos de escritura.\"[43]\\u200b El mismo Turing sugirió que los programas añadieran errores a la información que transmitían para parecer “jugadores” del juego.[[77]\\u200b\\nCiertos comportamientos inteligentes son inhumanos[editar]\\nLa prueba de Turing no examina comportamientos altamente inteligentes como lo son la habilidad de resolver problemas difíciles o la ocurrencia de ideas originales. De hecho, requiere específicamente decepción por parte del interrogador: si la máquina es más inteligente que un humano, esta debe aparentar no ser “demasiado” inteligente. Si resolviera un problema computacional que es prácticamente imposible para un ser humano, el interrogador sabría que no es humano y como resultado la computadora reprobaría la prueba.\\nComo no se puede medir la inteligencia que está más allá de la humana, la prueba no puede ser usada para construir o evaluar sistemas que son más inteligentes que los humanos. Por esto se han propuesto varias pruebas alternativas capaces de evaluar un sistema súper inteligente[78]\\u200b\\nInteligencia real vs. Inteligencia simulada[editar]\\nVéase también: Inteligencia sintética\\nLa prueba de Turing evalúa única y estrictamente cómo se comporta el sujeto (o sea, el comportamiento externo de la máquina). En cuanto a esto, se toma una perspectiva conductista o fundamentalista al estudio de la inteligencia. El ejemplo de ELIZA sugiere que una máquina que pase la prueba podría simular el comportamiento conversacional humano siguiendo una simple (pero larga) lista de reglas mecánicas sin pensar o tener mente en lo absoluto.\\nJohn Searle ha argumentado que el comportamiento externo no puede ser usado para determinar si una máquina esta “realmente” pensando o simplemente “simulando el pensamiento”.[34]\\u200b Su habitación china pretende demostrar esto, aunque la prueba de Turing sea una buena definición operacional de la inteligencia, no indica si la máquina tiene una mente, conciencia o intencionalidad. (La intencionalidad es un término filosófico para el poder de los pensamientos de ser “sobre” algo.)\\nTuring anticipó esta crítica en su texto original[79]\\u200b escribiendo: \\n\\n\\n\\nNo deseo dar la impresión de que no creo en el misterio de la conciencia. Hay, por ejemplo, algo paradójico conectado a cualquier intento de localizarla. Pero no creo que estos misterios necesiten ser resueltos antes de poder responder la pregunta que tratamos en este texto.[80]\\u200b\\n\\n\\nIngenuidad de los interrogadores y la falacia antropomórfica.[editar]\\nEn la práctica, los resultados de la prueba pueden ser fácilmente dominados, no por la inteligencia de la computadora sino por, las actitudes, la habilidad o la ingenuidad del interrogador.\\nTuring no especifica las habilidades ni el conocimiento requeridos del integrador en la descripción de su prueba pero si incluyó el término “interrogador promedio”: “[el] interrogador promedio no debe tener más del 70% de oportunidad de acertar en la identificación después de cinco minutos de cuestionamiento.”[48]\\u200b\\nShah y Warwick (2009b) demostraron que los expertos son engañados y que la estrategia, “poder” vs “solidaridad” del interrogador influyen en la identificación con la última siendo más exitosa.\\nLos bots conversacionales como ELIZA han engañado, en repetidas ocasiones, a personas en creer que se comunican con seres humanos. En este caso, el interrogador no estaba al tanto de la posibilidad de que su interacción fuera con una computadora. Para aparentar ser un humano exitosamente, no hay necesidad de que la máquina tenga inteligencia alguna, solo se necesita una similitud superficial al comportamiento humano.\\nLas primeras competencias del Premio Loebner usaban interrogadores poco sofisticados que eran fácilmente engañados por las máquinas.[44]\\u200b  Desde el 2004, los organizadores del Premio Loebner han implementado filósofos, científicos de la computación y periodistas entre los interrogadores. Sin embargo, algunos de estos expertos han sido engañados por las máquinas.[81]\\u200b\\nMichael Shermer señala que los seres humanos consistentemente consideran objetos no humanos como humanos siempre que tenga la oportunidad de hacerlo, un error llamado “falacia antropomórfica”: hablan con sus vehículos, atribuyen deseos e intenciones a fuerzas naturales (e.g. “la naturaleza odia el vacío”) y veneran al solo como un ser humano con inteligencia. Si la prueba de Turing se aplicara a objetos religiosos, entonces las estatuas inanimadas, rocas y lugares aprobarían consistentemente la prueba a lo largo de la historia según Shermer.[cita\\xa0requerida] Esta tendencia humana hacia el antropomorfismo, efectivamente reduce la exigencia a la prueba de Turing a menos que se le entrene a los interrogadores a evitarlo.\\n\\nErrores en la identificación humana[editar]\\nUna característica interesante de la prueba de Turing es la frecuencia con la que investigadores confunden a los participantes humanos con máquinas.[82]\\u200bSe ha sugerido que esto es porque los investigadores buscan respuestas humanas esperadas en vez de respuestas típicas. Esto resulta en la categorización incorrecta de algunos individuos como máquinas lo que puede favorecer a esta.\\n\\nIrrelevancia e impractibilidad: Turing y la investigación de IA.[editar]\\nLos investigadores de IA famosos argumentan que el intentar pasar la prueba de Turing es una distracción de las investigaciones más fructíferas.[83]\\u200b La prueba no es un enfoque activo de investigación académica o de esfuerzo comercial, como Stuart Russel y Peter Norvig escribieron: “Los investigadores de IA han dedicado poca atención a pasar la prueba de Turing”.[84]\\u200b Hay varias razones para esto.\\nEn primera, hay formas más fáciles de probar un programa. La mayoría de las investigaciones en los campos relacionados con la IA están dedicados a metas más específicas y modestas como la planificación automatizada, reconocimiento de objetos o logísticas. Para probar la inteligencia de los programas al realizar estas tareas, los investigadores simplemente les dan la tarea directamente. Russell y Norvig propusieron una analogía con la historia del vuelo: Los aviones son probados según su habilidad para volar, no comparándolos con aves. Textos de “Ingeniería Aeronáutica” mencionan: “no se debe definir la meta del campo como máquinas voladoras que vuelan tan parecidamente a las palomas que podrían engañar a estas.”.[84]\\u200b\\nEn segunda, la creación de simulaciones de humanos es un problema difícil que no necesita resolverse para cumplir las metas básicas de la investigación de IA. Caracteres humanos creíbles son interesantes para una obra de arte, un juego o una interfaz de usuario sofisticada pero no tienen lugar en la ciencia de la creación de máquinas inteligentes que resuelven problemas con esta inteligencia.\\nTuring quería proporcionar un ejemplo claro y comprensible para ayudar en la discusión de la filosofía de la inteligencia artificial.[85]\\u200b John McCarthy menciona que la filosofía de IA es “poco probable que tenga más efecto en la práctica de la investigación de IA que la filosofía de la ciencia tienen en la práctica de la ciencia.”.[86]\\u200b\\n\\nVariantes de la prueba de Turing[editar]\\nNumerosos versiones de la prueba de Turing, incluidas las mencionadas anteriormente, han sido debatidas a través de los años.\\n\\nPrueba de Turing en reversa y CAPTCHA[editar]\\nArtículo principal:  CaptchaUna modificación de la prueba de Turing donde los objetivos entre las máquinas y los humanos es una prueba de Turing en reversa. Un ejemplo es empleado por el psicoanalista Wilfren Bion,[87]\\u200b quien tiene una fascinación particular por la “tormenta” que resultó del encuentro de una mente por otra. En su libro del 2000,[69]\\u200b entre otras ideas originales sobre la prueba de Turing, Swirski discute a detalle lo que define como la Prueba de Swirski (básicamente la prueba de Turing en reversa). Él señala que esta supera todas las objeciones comunes de la versión estándar.\\nR.D. Hinshelwood[88]\\u200b continuó con el desarrollo de esta idea al describir a la mente como un “aparato para reconocer mentes”. El reto sería que la computadora determine si está interactuando con un humano o con otra computadora. Esta es una extensión de la pregunta original que Turing intentaba responder y, probablemente, ofrece un estándar lo suficientemente alto para definir que una máquina puede “pensar” de la misma manera que nosotros describimos como humana.\\nCAPTCHA es una forma de la prueba de Turing en reversa. Antes de ser capaz de realizar una acción en un sitio web, se le presenta al usuario una serie de caracteres alfanuméricos en una imagen distorsionada y se le pide que lo ingrese en un campo de texto. Esto tiene como propósito la prevención de la entrada de sistemas automatizados comúnmente usados para el abuso del sitio web. La razón detrás de esto es que el software suficientemente sofisticado para leer y reproducir la imagen con precisión no existe aún (o no está disponible para el usuario promedio) por lo que cualquier sistema capaz de pasar la prueba debe ser humano.\\nEl software capaz de solucionar CAPTCHA con precisión al analizar patrones en la plataforma generadora está siendo desarrollado activamente.[89]\\u200b Reconocimiento de Caracteres Ópticos o OCR (por sus siglas en inglés) se encuentra bajo en desarrollo como una solución para la inaccesibilidad de sistemas de CAPTCHA para humanos con discapacidades.\\n\\nPruebas de Turing Experta en la Materia.[editar]\\nOtra variación es descrita como la variación de la Prueba de Turing Experta en la Materia en la cual no se puede distinguir entre la respuesta de una máquina de una respuesta dada por un experto en la materia. Se le conoce como la Prueba Feigenbaum y fue propuesta por Edward Feigenbaum en un texto del 2003.[90]\\u200b\\n\\nPrueba de Turing Total[editar]\\nLa “Prueba de Turing Total”[61]\\u200b es una variación que añade requerimientos a la prueba tradicional. El interrogador también evalúa las capacidades de percepción del sujeto (requiriendo visión computacional) y la habilidad del sujeto de manipular objetos (requiriendo robótica).[91]\\u200b\\n\\nPrueba de la Señal de Inteligencia Mínima[editar]\\nLa Prueba de la Señal de Inteligencia Mínima fue propuesta por Chris McKinstry como la “abstracción máxima de la prueba de Turing”,[92]\\u200b en la cual solo se permiten entradas en binario (verdadero/falso o si/no) con el objetivo de enfocarse en la capacidad de pensar. Se eliminan problemas de la conversación textual como la parcialidad antropomorfa, y no requiere la simulación de comportamientos humanos no inteligentes permitiéndole la entrada a sistemas que superan la inteligencia humana. Las preguntas no dependen de otras, sin embargo, esto es similar a una prueba de CI que una interrogación. Típicamente es usada para recolectar información estadística contra la cual se mide el rendimiento de los programas de IA.[93]\\u200b\\n\\nPremio Hutter[editar]\\nLos organizadores del Premio Hutter creen que la compresión del lenguaje natural es un problema difícil para las inteligencias artificiales equivalente a pasar la prueba de Turing.\\nLa prueba de compresión de información tiene ciertas ventajas sobre la mayoría de las versiones de la prueba de Turing incluyendo:\\n\\nDa un único número que puede ser usado directamente para comparar cuál de las dos máquinas en más inteligente.\\nNo requiere que la computadora le mienta al juez.\\nLas desventajas principales de esta prueba son:\\n\\nNo es posible evaluar a los humanos de esta manera.\\nSe desconoce que puntuación de esta prueba equivale a pasar la prueba de Turing.\\nOtras pruebas basadas en la compresión o Complejidad de Kolmogorov[editar]\\nUn acercamiento similar al del Premio Hutter que apareció mucho antes al final de la década de los noventa es la inclusión de problemas de compresión en una prueba de Turing extendida,[94]\\u200b o por pruebas completamente derivadas de la Complejidad de Kolmogórov[95]\\u200b Otras pruebas relacionadas son presentadas por Hernandez-Orallo y Dowe.[96]\\u200b\\nCI algorítmico, o CIA, es un intento de convertir la teórica Medida de la Inteligencia universal de Legg y Hutter (basada en la indiferencia inductiva de Solomonoff) en una prueba práctica funcional de la inteligencia de las máquinas.[97]\\u200b\\nDos de las mayores ventajas de estas pruebas son su aplicabilidad a inteligencias no humanas y la ausencia de la necesidad de interrogadores humanos.\\n\\nPrueba de Ebert[editar]\\nLa prueba de Turing inspiró la prueba de Ebert propuesta en el 2011 por el crítico de cine Robert Ebert la cual evalúa si una voz sintetizada por computadora es capaz de producir las entonaciones, inflexiones, la sincronización entre otras cosas para hacer a la gente reír.[98]\\u200b\\n\\nPredicciones[editar]\\nTuring predijo que las máquinas pasarían la prueba eventualmente, de hecho, el estimaba que para el año 2000, las máquinas con al menos 100 MB de almacenamiento podrían engañar a un 30% de los jueces humanos en una prueba de 5 minutos y que la gente no consideraría la frase “máquina pensante” como contradictoria.[4]\\u200b (En la práctica, desde 2009 a 2012, los robots conversacionales que participaron en el Premio Loebner solo lograron engañar una vez a un juez[99]\\u200b y esto era debido a que el participante humano pretendía ser un robot conversacional)[100]\\u200b Turing también predijo que el aprendizaje de las máquinas serían una parte esencial al construir máquinas poderosas, esta afirmación se considera posible en la actualidad por los investigadores en IA.[48]\\u200b\\nEn un texto del 2008 enviado a la decimonovena Conferencia de Inteligencia Artificial y Ciencia Cognitiva del Medio Oeste, el doctor Shane T. Mueller predijo que una variante de la prueba de Turing llamada “Decatlón Cognitivo” sería completada en 5 años.[101]\\u200b\\nAl extrapolar el crecimiento exponencial de la tecnología a lo largo de varias décadas, el futurista Ray Kurzweil predijo que las máquinas que aprobaran la prueba de Turing serían fabricadas en el futuro próximo. En 1990, Kurzweil definió este futuro próximo alrededor del año 2020,[102]\\u200b para el 2005 cambió su estimado para el año 2029.[103]\\u200b\\nEl proyecto “Long Bet Project Nr. 1” es una apuesta de $20,000 USD entre Mitch Kapor (pesimista) y Ray Kurzweil (optimista) sobre la posibilidad de que una máquina pase la prueba de Turing para el año 2029. Durante la prueba de Turing de Long Now, cada uno de los tres jueces realizara entrevistas a cada uno de los cuatro participantes (p.e. la computadora y tres humanos) durante dos horas para un total de 8 horas de entrevistas. La apuesta especifica condiciones a detalle.[104]\\u200b\\n\\nConferencias[editar]\\nColoquio de Turing[editar]\\nEl año 1990 marcó el 40 aniversario de la primera publicación del texto de Turing “Computing Machinery and Intelligence” por lo que se reavivó el interés en este. Dos eventos importantes se llevaron a cabo ese año, el primero fue el Coloquio de Turing con sede en la Universidad de Sussex en abril, este reunió a académicos e investigadores de disciplinas diferentes para discutir sobre la Prueba de Turing en cuanto a su pasado, presente y futuro; el segundo evento fue la competencia anual del Premio Loebner.\\nBlay Whitby en listo 4 puntos clave en la historia de la prueba de Turing siendo esto: la publicación de “Computing Machinery and Intelligence” en 1950, el anuncio de ELIZA en 1966 por Joseph Weizenbaum, la creación de PARRY por Kenneth Colby y el Coloquio de Turing de 1990.[105]\\u200b\\n\\nColoquio de Sistemas Conversacionales del 2005[editar]\\nEn noviembre de 2005, la Universidad de Surrey fue sede de una junta de desarrolladores de entidades conversacionales artificiales[106]\\u200b a la que atendieron los ganadores del Premio Loebner: Robby Garner, Richard Wallace y Rollo Carpenter. Oradores invitados incluyeron a David Hamill, Hugh Loebner (patrocinador del Premio Loebner) Huma Shah.\\n\\nSimposio de la Prueba de Turing IASC del 2008[editar]\\nEn paralelo con el Premio Loebner del 2008 con sede en la Universidad de Reading[107]\\u200b la Sociedad para el Estudio de la Inteligencia Artificial y la Simulación del Comportamiento (IASC) fueron anfitriones de un simposio dedicado a discutir la Prueba de Turing, fue organizado por John Barnden, Mark Bishop, Huma Shah y Kevin Warwick[108]\\u200b Los oradores incluían al director de la Institución Real Susan Greenfield, Selmer Bringsjord, Andrew Hodges (biógrafo de Turing) y Owen Holland (científico de la conciencia). No se llegó a un acuerdo para una prueba de Turing canónica pero Bringsjord señaló que un premio mayor resultaría en la aprobación de la prueba de Turing más rápidamente.\\n\\nSimposio de la Prueba de Turing IASC del 2010[editar]\\n60 años después de su introducción, el debate sobre el experimento de Turing sobre si “¿Pueden las máquinas pensar?” llevó a su reconsideración para la Convención de AISB del Siglo XXI, llevada a cabo del 29 de marzo al 1 de abril de 2010 en la Universidad De Monthfort, Reino unido. La IASC es la Sociedad para el Estudio de la Inteligencia Artificial y la Simulación del Comportamiento.[109]\\u200b\\n\\nEl Año de Turing y Turing100 en el 2012[editar]\\nA lo largo del 2012, una cantidad considerable de eventos para celebrar la vida de Turing y su impacto científico se llevaron a cabo. El grupo Turing100 apoyó estos eventos y organizó una prueba de Turing especial en Bletchley Park el 23 de junio de 2012 para celebrar el aniversario número 100 del natalicio de Turing.\\n\\nSimposio de la Prueba de Turing IASC/IACAP del 2012[editar]\\nLas últimas discusiones sobre la Prueba de Turing en un simposio con 11 oradores, organizada por Vincent C. Müller (ACT y Oxford) y Aladdin Ayeshm (De Montfort) con Mark Bishop, John Barnden, Alessio Piebe y Pietro Perconti.\\n\\nNotas[editar]\\n\\n↑ a b c d e Saygin, 2000.\\n\\n↑ Turing originally suggested a teleprinter, one of the few text-only communication systems available in 1950. (Turing, 1950, p.\\xa0433)\\n\\n↑ http://www.turing.org.uk/scrapbook/test.html\\n\\n↑ a b c d Turing, 1950, p.\\xa0433.\\n\\n↑ (Turing, 1950, p.\\xa0442) Turing does not call his idea \"Turing test\", but rather the \"Imitation Game\"; however, later literature has reserved the term \"Imitation game\" to describe a particular version of the test. See #Versions of the Turing test, below. Turing gives a more precise version of the question later in the paper: \"[T]hese questions [are] equivalent to this, \\'Let us fix our attention on one particular digital computer C. Is it true that by modifying this computer to have an adequate storage, suitably increasing its speed of action, and providing it with an appropriate programme, C can be made to play satisfactorily the part of A in the imitation game, the part of B being taken by a man?\\'\" (Turing, 1950, p.\\xa0442)\\n\\n↑ a b Turing, 1950, pp.\\xa0442–454 and see Russell\\xa0y Norvig (2003, p.\\xa0948), where they comment, \"Turing examined a wide variety of possible objections to the possibility of intelligent machines, including virtually all of those that have been raised in the half century since his paper appeared.\"\\n\\n↑ Russell y Norvig, 2003, pp.\\xa02–3 and 948.\\n\\n↑ Descartes, René (1996). Discourse on Method and Meditations on First Philosophy. New Haven & London: Yale University Press. pp.\\xa034–5. ISBN\\xa00300067720.\\xa0\\n\\n↑ Diderot, D. (2007), Pensees Philosophiques, Addition aux Pensees Philosophiques, [Flammarion], p.\\xa068, ISBN\\xa0978-2-0807-1249-3\\xa0.\\n\\n↑ For an example of property dualism, see Qualia.\\n\\n↑ Noting that materialism does not necessitate the possibility of artificial minds (for example, Roger Penrose), any more than dualism necessarily precludes the possibility. (See, for example, Property dualism.)\\n\\n↑ Ayer, A. J. (2001), «Language, Truth and Logic», Nature (Penguin) 138 (3498): 140, Bibcode:1936Natur.138..823G, ISBN\\xa00-334-04122-8, doi:10.1038/138823a0\\xa0.\\n\\n↑ The Dartmouth conferences of 1956 are widely considered the \"birth of AI\". (Crevier, 1993, p.\\xa049)\\n\\n↑ McCorduck, 2004, p.\\xa095.\\n\\n↑ Copeland, 2003, p.\\xa01.\\n\\n↑ Copeland, 2003, p.\\xa02.\\n\\n↑ \"Intelligent Machinery\" (1948) was not published by Turing, and did not see publication until 1968 in:\\n\\nEvans, A. D. J.; Robertson (1968), Cybernetics: Key Papers, University Park Press\\xa0.\\n\\n↑ Turing, 1948, p.\\xa0412.\\n\\n↑ En 1948, trabajando con su antiguo compañero de universidad, DG Champernowne, Turing comenzó a escribir un programa de ajedrez para una computadora que aún no existía y, en 1952, careciendo de una computadora lo suficientemente poderosa para ejecutar el programa, jugó un juego en el que lo simuló, demorando aproximadamente media hora en cada movimiento. El juego fue grabado y el programa perdió frente al colega de Turing, Alick Glennie, aunque se dice que ganó un juego contra la esposa de Champernowne.\\n\\n↑ Turing, 1948.\\n\\n↑ Harnad, 2004, p.\\xa01.\\n\\n↑ a b c d e Turing, 1950, p.\\xa0434.\\n\\n↑ a b Shah, 2010.\\n\\n↑ Turing, 1950, p.\\xa0446.\\n\\n↑ Turing, 1952, pp.\\xa0524–525. Al parecer, Turing no distingue entre \"hombre\" como género y \"hombre\" como ser humano. En el primer caso, esta formulación estaría más cerca del juego de imitación, mientras que en el segundo se acercaría más a las descripciones actuales de la prueba.\\n\\n↑ Weizenbaum, 1966, p.\\xa037.\\n\\n↑ a b c Weizenbaum, 1966, p.\\xa042.\\n\\n↑ Thomas, 1995, p.\\xa0112.\\n\\n↑ Bowden, 2006, p.\\xa0370.\\n\\n↑ Colby et al., 1972, p.\\xa042.\\n\\n↑ Saygin, 2000, p.\\xa0501.\\n\\n↑ \\nWithers, Steven (11 de diciembre de 2007), «Flirty Bot Passes for Human», iTWire\\xa0.\\n\\n↑ \\nWilliams, Ian (10 de diciembre de 2007), «Online Love Seerkers Warned Flirt Bots», V3\\xa0.\\n\\n↑ a b Searle, 1980.\\n\\n↑ There are a large number of arguments against Searle\\'s Chinese room. A few are:\\n\\n[[Larry Hauser\\n Larry Hauser|Hauser, Larry]] (1997), «Searle\\'s Chinese Box: Debunking the Chinese Room Argument», Minds and Machines 7 (2): 199-226, doi:10.1023/A:1008255830248\\xa0..\\nRehman, Warren. (19 de julio de 2009), Argument against the Chinese Room Argument, archivado desde el original el 19 de julio de 2010, consultado el 6 de junio de 2015\\xa0..\\nThornley, David H. (1997), Why the Chinese Room Doesn\\'t Work, archivado desde el original el 26 de abril de 2009, consultado el 6 de junio de 2015\\xa0.\\n\\n↑ M. Bishop & J. Preston (eds.) (2001) Essays on Searle\\'s Chinese Room Argument. Oxford University Press.\\n\\n↑ Saygin, 2000, p.\\xa0479.\\n\\n↑ Lycan, William G. (1995). Consciousness (en inglés). MIT Press. ISBN\\xa0978-0-262-62096-3. Consultado el 27 de enero de 2020.\\xa0\\n\\n↑ «GRIN - A.I. and Morality». www.grin.com (en inglés). Consultado el 27 de enero de 2020.\\xa0\\n\\n↑ «Qualitative Experience in Machines «\\xa0On the Human». nationalhumanitiescenter.org. Consultado el 27 de enero de 2020.\\xa0\\n\\n↑ Sundman, 2003.\\n\\n↑ Loebner, 1994.\\n\\n↑ a b c \"Artificial Stupidity\", 1992.\\n\\n↑ a b c Shapiro, 1992 and Shieber, 1994, amongst others.\\n\\n↑ Shieber, 1994.\\n\\n↑ Jabberwacky is discussed in Shah y Warwick, 2009a.\\n\\n↑ «Prueba de Turing, on season 4, episode 3». Scientific American Frontiers. PBS. 1993–1994. Archivado desde el original el 2006.\\xa0\\n\\n↑ a b c Turing, 1950, p.\\xa0442.\\n\\n↑ Shah, 2009.\\n\\n↑ a b 2008 Loebner Prize.\\n\\nShah\\xa0y Warwick (2010).\\nResults and report can be found in: «Can a machine think? – results from the 18th Loebner Prize contest», University of Reading\\xa0..\\nTranscripts can be found at «Loebner Prize», Loebner.net, consultado el 29 de marzo de 2009\\xa0.\\n\\n↑ «Rules for the 20th Loebner Prize contest», Loebner.net\\xa0.\\n\\n↑ «Computer passes Turing Test for first time by convincing judges it is a 13-year-old boy». The Verge. Consultado el 8 de junio de 2014.\\xa0 |sitioweb= y |publicación= redundantes (ayuda)\\n\\n↑ a b «Turing Test success marks milestone in computing history». University of Reading. Consultado el 8 de junio de 2014.\\xa0\\n\\n↑ http://www.washingtonpost.com/news/morning-mix/wp/2014/06/09/a-computer-just-passed-the-turing-test-in-landmark-trial/\\n\\n↑ http://www.pcworld.com/article/2361220/computer-said-to-pass-turing-test-by-posing-as-a-teenager.html\\n\\n↑ Debunking Eugene: Montreal cognitive scientist doubts UK university\\'s Turing test claim CBC Canada \"As It Happens\" June 10, 2014\\n\\n↑ Adam Mann (9 de junio de 2014). «That Computer Actually Got an F on the Turing Test». Wired. Consultado el 9 de junio de 2014.\\xa0\\n\\n↑ a b c Traiger, 2000.\\n\\n↑ Saygin, 2008.\\n\\n↑ Shah, 2011.\\n\\n↑ a b Oppy, Graham & Dowe, David (2011) The Turing Test. Stanford Encyclopedia of Philosophy.\\n\\n↑ a b c Moor, 2003.\\n\\n↑ Traiger, 2000, p.\\xa099.\\n\\n↑ Sterrett, 2000.\\n\\n↑ Genova, 1994, Hayes y Ford, 1995, Heil, 1998, Dreyfus, 1979\\n\\n↑ R.Epstein, G. Roberts, G. Poland, (eds.) Parsing the Turing Test: Philosophical and Methodological Issues in the Quest for the Thinking Computer. Springer: Dordrecht, Netherlands\\n\\n↑ Thompson, Clive (16 de julio de 2005). «The Other Turing Test». Issue 13.07 (WIRED magazine). Consultado el 10 de septiembre de 2011. «As a gay man who spent nearly his whole life in the closet, Turing must have been keenly aware of the social difficulty of constantly faking your real identity. And there\\'s a delicious irony in the fact that decades of AI scientists have chosen to ignore Turing\\'s gender-twisting test – only to have it seized upon by three college-age women».\\xa0. (Full version).\\n\\n↑ Colby et al., 1972.\\n\\n↑ a b Swirski, 2000.\\n\\n↑ Saygin y Cicekli, 2002.\\n\\n↑ Turing, 1950, under \"Critique of the New Problem\".\\n\\n↑ Haugeland, 1985, p.\\xa08.\\n\\n↑ \"These six disciplines,\" write Stuart J. Russell and Peter Norvig, \"represent most of AI.\" Russell y Norvig, 2003, p.\\xa03\\n\\n↑ Watson:\\n\\n«Watson Wins \\'Jeopardy!\\' The IBM Challenge», Sony Pictures, 16 de febrero de 2011, archivado desde el original el 22 de mayo de 2011, consultado el 6 de junio de 2015\\xa0.\\nShah, Huma (5 de abril de 2011), Turing\\'s misunderstood imitation game and IBM\\'s Watson success\\xa0.\\n\\n↑ Urban, Tim (16 de febrero de 2015). «The AI Revolution: Our Immortality or Extinction». Wait But Why. Consultado el 5 de abril de 2015.\\xa0\\n\\n↑ Smith, G. W. (27 de marzo de 2015). «Art and Artificial Intelligence». ArtEnt. Archivado desde el original el 25 de junio de 2017. Consultado el 27 de marzo de 2015.\\xa0\\n\\n↑ Turing, 1950, p.\\xa0448.\\n\\n↑ Several alternatives to the Turing test, designed to evaluate machines more intelligent than humans:\\n\\nJose Hernandez-Orallo (2000), «Beyond the Turing Test», Journal of Logic, Language and Information 9 (4): 447-466, doi:10.1023/A:1008367325700, consultado el 21 de julio de 2009.\\xa0.\\nD L Dowe and A R Hajek (1997), «A computational extension to the Turing Test», Proceedings of the 4th Conference of the Australasian Cognitive Science Society, archivado desde el original el 28 de junio de 2011, consultado el 21 de julio de 2009.\\xa0.\\nShane Legg and Marcus Hutter (2007), «Universal Intelligence: A Definition of Machine Intelligence» (PDF), Minds and Machines 17 (4): 391-444, doi:10.1007/s11023-007-9079-x, archivado desde el original el 18 de junio de 2009, consultado el 21 de julio de 2009.\\xa0.\\nHernandez-Orallo, J; Dowe, D L (2010), «Measuring Universal Intelligence: Towards an Anytime Intelligence Test», Artificial Intelligence Journal 174 (18): 1508-1539, doi:10.1016/j.artint.2010.09.006.\\xa0.\\n\\n↑ Russell\\xa0y Norvig (2003, pp.\\xa0958–960) identify Searle\\'s argument with the one Turing answers.\\n\\n↑ Turing, 1950.\\n\\n↑ Shah y Warwick, 2010.\\n\\n↑ Warwick,K. and Shah,H., \"Human Misidentification in Turing Tests\", Journal of Experimental and Theoretical Artificial Intelligence, DOI:10.1080/0952813X.2014.921734, 2014\\n\\n↑ Shieber, 1994, p.\\xa077.\\n\\n↑ a b Russell y Norvig, 2003, p.\\xa03.\\n\\n↑ Turing, 1950, under the heading \"The Imitation Game,\" where he writes, \"Instead of attempting such a definition I shall replace the question by another, which is closely related to it and is expressed in relatively unambiguous words.\"\\n\\n↑ [[John McCarthy (computer scientist)\\n John McCarthy (computer scientist)|McCarthy, John]] (1996), «The Philosophy of Artificial Intelligence», What has AI in Common with Philosophy?\\xa0.\\n\\n↑ Bion, 1979.\\n\\n↑ Hinshelwood, 2001.\\n\\n↑ [[Jitendra Malik\\n Jitendra Malik|Malik, Jitendra]]; Mori, Greg, Breaking a Visual CAPTCHA\\xa0.\\n\\n↑ McCorduck, 2004, pp.\\xa0503–505, Feigenbaum, 2003. The subject matter expert test is also mentioned in Kurzweil\\xa0(2005)\\n\\n↑ Russell y Norvig, 2010, p.\\xa03.\\n\\n↑ http://tech.groups.yahoo.com/group/arcondev/message/337\\n\\n↑ [[Chris McKinstry\\n Chris McKinstry|McKinstry, Chris]] (1997), «Minimum Intelligent Signal Test: An Alternative Turing Test», Canadian Artificial Intelligence (41)\\xa0.\\n\\n↑ D L Dowe and A R Hajek (1997), «A computational extension to the Turing Test», Proceedings of the 4th Conference of the Australasian Cognitive Science Society, archivado desde el original el 28 de junio de 2011, consultado el 21 de julio de 2009.\\xa0.\\n\\n↑ Jose Hernandez-Orallo (2000), «Beyond the Turing Test», Journal of Logic, Language and Information 9 (4): 447-466, doi:10.1023/A:1008367325700, consultado el 21 de julio de 2009.\\xa0.\\n\\n↑ Hernandez-Orallo y Dowe, 2010.\\n\\n↑ An Approximation of the Universal Intelligence Measure, Shane Legg and Joel Veness, 2011 Solomonoff Memorial Conference\\n\\n↑ Alex_Pasternack (18 de abril de 2011). «A MacBook May Have Given Roger Ebert His Voice, But An iPod Saved His Life (Video)». Motherboard. Archivado desde el original el 6 de septiembre de 2011. Consultado el 12 de septiembre de 2011. «He calls it the \"Ebert Test,\" after Turing\\'s AI standard...»\\xa0\\n\\n↑ http://www.loebner.net/Prizef/loebner-prize.html\\n\\n↑ http://www.newscientist.com/article/dn19643-prizewinning-chatbot-steers-the-conversation.html\\n\\n↑ Shane T. Mueller, PhD (2008), «Is the Turing Test Still Relevant? A Plan for Developing the Cognitive Decathlon to Test Intelligent Embodied Behavior», Paper submitted to the 19th Midwest Artificial Intelligence and Cognitive Science Conference: 8pp, consultado el 8 de septiembre de 2010\\xa0.\\n\\n↑ Kurzweil, 1990.\\n\\n↑ Kurzweil, 2005.\\n\\n↑ Kapor, Mitchell; Kurzweil, Ray, «By 2029 no computer – or \"machine intelligence\" – will have passed the Turing Test», The Arena for Accountable Predictions: A Long Bet\\xa0.\\n\\n↑ Whitby, 1996, p.\\xa053.\\n\\n↑ ALICE Anniversary and Colloquium on Conversation, A.L.I.C.E. Artificial Intelligence Foundation, archivado desde el original el 16 de abril de 2009, consultado el 29 de marzo de 2009\\xa0.\\n\\n↑ Loebner Prize 2008, University of Reading, consultado el 29 de marzo de 2009\\xa0.\\n\\n↑ AISB 2008 Symposium on the Turing Test, Society for the Study of Artificial Intelligence and the Simulation of Behaviour, archivado desde el original el 18 de marzo de 2009, consultado el 29 de marzo de 2009\\xa0.\\n\\n↑ Towards a Comprehensive Intelligence Test (TCIT): Reconsidering the Turing Test for the 21st Century Symposium, archivado desde el original el 11 de febrero de 2016, consultado el 6 de junio de 2015\\xa0.\\n\\n\\nReferencias[editar]\\n«Artificial Stupidity», The Economist 324 (7770), 1 de septiembre de 1992: 14\\xa0.\\nBion, W.S. (1979), «Making the best of a bad job», Clinical Seminars and Four Papers, Abingdon: Fleetwood Press.\\xa0.\\nBowden, Margaret A. (2006), Mind As Machine: A History of Cognitive Science, Oxford University Press, ISBN\\xa0978-0-19-924144-6\\xa0.\\nColby, K. M.; Hilf, F. D.; Weber, S.; Kraemer, H. (1972), «Turing-like indistinguishability tests for the validation of a computer simulation of paranoid processes», Artificial Intelligence 3: 199-221, doi:10.1016/0004-3702(72)90049-5\\xa0.\\nCopeland, Jack (2003), «The Turing Test»,  en Moor Moor, James James, ed., The Turing Test: The Elusive Standard of Artificial Intelligence (Springer), ISBN\\xa01-4020-1205-5\\xa0.\\nCrevier, Daniel (1993), AI: The Tumultuous Search for Artificial Intelligence, New York, NY: BasicBooks, ISBN\\xa00-465-02997-3\\xa0.\\nDreyfus, Hubert (1979), What Computers Still Can\\'t Do, New York: MIT Press, ISBN\\xa00-06-090613-8\\xa0.\\n«Some challenges and grand challenges for computational intelligence», Journal of the ACM 50 (1), 2003: 32-40, doi:10.1145/602382.602400\\xa0.\\nGenova, J. (1994), «Turing\\'s Sexual Guessing Game», Social Epistemology 8 (4): 314-326, doi:10.1080/02691729408578758\\xa0.\\nHarnad, Stevan (2004), «The Annotation Game: On Turing (1950) on Computing, Machinery, and Intelligence»,  en Epstein Epstein, Robert Robert; Peters, Grace, eds., The Turing Test Sourcebook: Philosophical and Methodological Issues in the Quest for the Thinking Computer, Klewer\\xa0.\\nHaugeland, John (1985), Artificial Intelligence: The Very Idea, Cambridge, Mass.: MIT Press\\xa0..\\nHayes, Patrick; Ford, Kenneth (1995), «Turing Test Considered Harmful», Proceedings of the Fourteenth International Joint Conference on Artificial Intelligence (IJCAI95-1), Montreal, Quebec, Canada.: 972-997\\xa0.\\nHeil, John (1998), Philosophy of Mind: A Contemporary Introduction, London and New York: Routledge, ISBN\\xa00-415-13060-3\\xa0.\\nHinshelwood, R.D. (2001), Group Mentality and Having a Mind: Reflections on Bion\\'s work on groups and on psychosis\\xa0.\\nKurzweil, Ray (1990), The Age of Intelligent Machines, Cambridge, Mass.: MIT Press, ISBN\\xa00-262-61079-5\\xa0.\\nKurzweil, Ray (2005), The Singularity is Near, Penguin Books, ISBN\\xa00-670-03384-7\\xa0.\\nLoebner, Hugh Gene (1994), «In response», Communications of the ACM 37 (6): 79-82, doi:10.1145/175208.175218, consultado el 22 de marzo de 2008\\xa0.\\nPlantilla:McCorduck 2004\\nMoor Moor, James James, ed. (2003), The Turing Test: The Elusive Standard of Artificial Intelligence, Dordrecht: Kluwer Academic Publishers, ISBN\\xa01-4020-1205-5\\xa0.\\nPenrose, Roger (1989), The Emperor\\'s New Mind: Concerning Computers, Minds, and The Laws of Physics, Oxford University Press, ISBN\\xa00-14-014534-6\\xa0.\\nPlantilla:Cite AIMA\\nRussell, Stuart J.; Norvig, Peter (2010), Artificial Intelligence: A Modern Approach (3ª edición), Upper Saddle River, NJ: Prentice Hall, ISBN\\xa00-13-604259-7\\xa0.\\nSaygin, A. P.; Cicekli, I.; Akman, V. (2000), «Turing Test: 50 Years Later», Minds and Machines 10 (4): 463-518, doi:10.1023/A:1011288000451, archivado desde el original el 9 de abril de 2011, consultado el 6 de junio de 2015\\xa0.. Reprinted in Moor\\xa0(2003, pp.\\xa023–78).\\nSaygin, A. P.; Cicekli, I. (2002), «Pragmatics in human-computer conversation», Journal of Pragmatics 34 (3): 227-258, doi:10.1016/S0378-2166(02)80001-7\\xa0..\\nSaygin, A.P.; Roberts, Gary; Beber, Grace (2008), Comments on \"Computing Machinery and Intelligence\" by Alan Turing.,  en Epstein, R.; Roberts, G.; Poland, G., eds., «Parsing the Turing Test», Parsing the Turing Test: Philosophical and Methodological Issues in the Quest for the Thinking Computer (Dordrecht, Netherlands: Springer), Bibcode:2009pttt.book.....E, ISBN\\xa0978-1-4020-9624-2, doi:10.1007/978-1-4020-6710-5\\xa0.\\nSearle, John (1980), «Minds, Brains and Programs», Behavioral and Brain Sciences 3 (3): 417-457, doi:10.1017/S0140525X00005756\\xa0.. Page numbers above refer to a standard pdf print of the article. See also Searle\\'s original draft.\\nShah, Huma (15 de enero de 2009), Winner of 2008 Loebner Prize for Artificial Intelligence, Conversation, Deception and Intelligence, consultado el 29 de marzo de 2009\\xa0..\\nShah, Huma (16 de octubre de 2010), Deception-detection and machine intelligence in practical Turing tests\\xa0.\\nShah, Huma (2011), Turing\\'s Misunderstood Imitation Game and IBM\\'s Watson Success\\xa0.\\nShah, Huma; Warwick, Kevin (2009a), «Emotion in the Turing Test: A Downward Trend for Machines in Recent Loebner Prizes»,  en Vallverdú, Jordi Jordi; Casacuberta, David, eds., Handbook of Research on Synthetic Emotions and Sociable Robotics: New Applications in Affective Computing and Artificial Intelligence, Information Science, IGI, ISBN\\xa0978-1-60566-354-8\\xa0.\\nShah, Huma; Warwick, Kevin (16 de junio de 2010), «Hidden Interlocutor Misidentification in Practical Turing Tests», Minds and Machines 20 (3): 441-454, doi:10.1007/s11023-010-9219-6\\xa0.\\nShah, Huma; Warwick, Kevin (16 de abril de 2010), «Testing Turing\\'s Five Minutes Parallel-paired Imitation Game», Kybernetes Turing Test Special Issue 4 (3): 449, doi:10.1108/03684921011036178\\xa0.\\nShapiro, Stuart C. (1992), «The Turing Test and the economist», ACM SIGART Bulletin 3 (4): 10-11, doi:10.1145/141420.141423\\xa0.\\nShieber, Stuart M. (1994), «Lessons from a Restricted Turing Test», Communications of the ACM 37 (6): 70-78, doi:10.1145/175208.175217, consultado el 25 de marzo de 2008\\xa0.\\nSterrett, S. G. (2000), «Turing\\'s Two Test of Intelligence», Minds and Machines 10 (4): 541, doi:10.1023/A:1011242120015\\xa0. (reprinted in The Turing Test: The Elusive Standard of Artificial Intelligence edited by James H. Moor, Kluwer Academic 2003) ISBN 1-4020-1205-5\\nSundman, John (26 de febrero de 2003), «Artificial stupidity», Salon.com, archivado desde el original el 7 de marzo de 2008, consultado el 22 de marzo de 2008\\xa0.\\nThomas, Peter J. (1995), The Social and Interactional Dimensions of Human-Computer Interfaces, Cambridge University Press, ISBN\\xa00-521-45302-X\\xa0.\\nSwirski, Peter (2000), Between Literature and Science: Poe, Lem, and Explorations in Aesthetics, Cognitive Science, and Literary Knowledge, McGill-Queen\\'s University Press, ISBN\\xa00-7735-2078-3\\xa0.\\nTraiger, Saul (2000), «Making the Right Identification in the Turing Test», Minds and Machines 10 (4): 561, doi:10.1023/A:1011254505902\\xa0. (reprinted in The Turing Test: The Elusive Standard of Artificial Intelligence edited by James H. Moor, Kluwer Academic 2003) ISBN 1-4020-1205-5\\nTuring, Alan (1948), «Machine Intelligence»,  en Copeland, B. Jack, ed., The Essential Turing: The ideas that gave birth to the computer age, Oxford: Oxford University Press, ISBN\\xa00-19-825080-0\\xa0.\\nPlantilla:Turing 1950\\nTuring, Alan (1952), «Can Automatic Calculating Machines be Said to Think?»,  en Copeland, B. Jack, ed., The Essential Turing: The ideas that gave birth to the computer age, Oxford: Oxford University Press, ISBN\\xa00-19-825080-0\\xa0.\\nZylberberg, A.; Calot, E. (2007), «Optimizing Lies in State Oriented Domains based on Genetic Algorithms», Proceedings VI Ibero-American Symposium on Software Engineering: 11-18, ISBN\\xa0978-9972-2885-1-7\\xa0.\\nWeizenbaum, Joseph (16 de enero de 1966), «ELIZA – A Computer Program For the Study of Natural Language Communication Between Man And Machine», Communications of the ACM 9 (1): 36-45, doi:10.1145/365153.365168\\xa0.\\nWhitby, Blay (1996), «The Turing Test: AI\\'s Biggest Blind Alley?»,  en Millican, Peter & Clark, Andy, ed., Machines and Thought: The Legacy of Alan Turing 1, Oxford University Press, pp.\\xa053-62, ISBN\\xa00-19-823876-2\\xa0.\\nOtras lecturas[editar]\\nCohen, Paul R. (2006), «\\'If Not Turing\\'s Test, Then What?», AI Magazine 26 (4), archivado desde el original el 8 de junio de 2011, consultado el 6 de junio de 2015\\xa0..\\nMoor, James H. (2001), «The Status and Future of the Turing Test», Minds and Machines 11 (1): 77-93, ISSN\\xa00924-6495, doi:10.1023/A:1011218925467.\\xa0.\\nEnlaces externos[editar]\\n Wikimedia Commons alberga una categoría multimedia sobre Prueba de Turing.\\nTuring Test Page\\nThe Turing Test – an Opera by Julian Wagstaff\\nThe Turing Test- How accurate could the turing test really be?\\n\\nThe Turing test  en la Stanford Encyclopedia of Philosophy.\\nTuring Test: 50 Years Later reviews a half-century of work on the Turing Test, from the vantage point of 2000.\\nBet between Kapor and Kurzweil, including detailed justifications of their respective positions.\\nWhy The Turing Test is AI\\'s Biggest Blind Alley by Blay Witby\\nTuringHub.com Take the Turing Test, live, online\\nJabberwacky.com An AI chatterbot that learns from and imitates humans\\nNew York Times essays on machine intelligence part 1 and [ part 2]\\nComputer Science Unplugged teaching activity for the Turing Test.\\nWiki News: \"Talk:Computer professionals celebrate 10th birthday of A.L.I.C.E.\"\\nComputing Machinery and intelligence Artículo original de Turing (1950) en la revista Mind\\n¿Qué es un CAPTCHA? Origen y uso. Vídeo que explica qué es un captcha y su relación con el test de Turing\\nTest de Turing y Conciencia Artificial. Vídeo sobre el test de Turing y su relación con la conciencia.\\nUn ordenador pasa por primera vez el test de Turing y convence a los jueces de que es humano, diario ABC, 10 de junio de 2014.\\nControl de autoridades\\nProyectos Wikimedia\\n Datos: Q189223\\n Multimedia: Turing test\\n\\nIdentificadores\\nBNF: 16644546h (data)\\nGND: 4770569-3\\nLCCN: sh93008808\\nSUDOC: 166106372\\nDiccionarios y enciclopedias\\nBritannica: url\\n\\n Datos: Q189223\\n Multimedia: Turing test\\n\\n\\n\\n\\n\\nObtenido de «https://es.wikipedia.org/w/index.php?title=Prueba_de_Turing&oldid=143684987»\\nCategorías: Prueba de TuringÉtica de la ciencia y la tecnologíaIntroducciones relacionadas a la ciencia de la computación de 1950Informática de 1950Historia de la inteligencia artificialInteracción persona-ordenadorAlan TuringCategorías ocultas: Wikipedia:Páginas con referencias con parámetros redundantesWikipedia:Artículos con pasajes que requieren referenciasWikipedia:Artículos con identificadores BNFWikipedia:Artículos con identificadores GNDWikipedia:Artículos con identificadores LCCNWikipedia:Páginas con enlaces mágicos de ISBN\\n\\n\\n\\nMenú de navegación\\n\\n\\n\\nHerramientas personales\\n\\n\\nNo has accedidoDiscusiónContribucionesCrear una cuentaAcceder\\n\\n\\n\\n\\n\\nEspacios de nombres\\n\\n\\nArtículoDiscusión\\n\\n\\n\\n\\n\\nespañol\\n\\n\\n\\n\\n\\n\\n\\n\\n\\nVistas\\n\\n\\nLeerEditarVer historial\\n\\n\\n\\n\\n\\nMás\\n\\n\\n\\n\\n\\n\\n\\n\\nBuscar\\n\\n\\n\\n\\n\\n\\n\\n\\n\\n\\n\\n\\n\\n\\n\\n\\n\\n\\n\\nNavegación\\n\\n\\nPortadaPortal de la comunidadActualidadCambios recientesPáginas nuevasPágina aleatoriaAyudaDonacionesNotificar un error\\n\\n\\n\\n\\nHerramientas\\n\\n\\nLo que enlaza aquíCambios en enlazadasSubir archivoPáginas especialesEnlace permanenteInformación de la páginaCitar esta páginaElemento de Wikidata\\n\\n\\n\\n\\nImprimir/exportar\\n\\n\\nCrear un libroDescargar como PDFVersión para imprimir\\n\\n\\n\\n\\nEn otros proyectos\\n\\n\\nWikimedia Commons\\n\\n\\n\\n\\nEn otros idiomas\\n\\n\\nالعربيةঅসমীয়াAzərbaycancaБеларускаяБългарскиবাংলাCatalàČeštinaCymraegDanskDeutschEnglishEsperantoEestiEuskaraفارسیSuomiFrançaisNordfriiskGaeilgeGalegoעבריתहिन्दीHrvatskiMagyarՀայերենBahasa IndonesiaÍslenskaItaliano日本語ქართულიҚазақша한국어LatinaLietuviųLatviešuമലയാളംМонголBahasa MelayuNederlandsNorsk bokmålPolskiPortuguêsRomânăРусскийScotsSrpskohrvatski / српскохрватскиSimple EnglishSlovenčinaSlovenščinaShqipСрпски / srpskiSvenskaไทยTürkçeУкраїнськаTiếng Việt吴语中文粵語\\nEditar enlaces\\n\\n\\n\\n\\n\\n\\n Esta página se editó por última vez el 21 may 2022 a las 17:15.\\nEl texto está disponible bajo la Licencia Creative Commons Atribución Compartir Igual\\xa03.0;\\npueden aplicarse cláusulas adicionales. Al usar este sitio, usted acepta nuestros términos de uso y nuestra política de privacidad. Wikipedia® es una marca registrada de la Fundación Wikimedia, Inc., una organización sin ánimo de lucro.\\n\\n\\nPolítica de privacidad\\nAcerca de Wikipedia\\nLimitación de responsabilidad\\nVersión para móviles\\nDesarrolladores\\nEstadísticas\\nDeclaración de cookies\\n\\n\\n\\n\\n\\n\\n\\n\\n\\n\\n'"
      ]
     },
     "execution_count": 80,
     "metadata": {},
     "output_type": "execute_result"
    }
   ],
   "source": [
    "text"
   ]
  },
  {
   "cell_type": "markdown",
   "metadata": {},
   "source": [
    "## Ejercicio Extra 2\n",
    "\n",
    "La búsqueda difusa consiste en encontrar grados de similaridad entre cadenas de caracteres, esto se utiliza cuando el dato que tenemos tiene bajo nivel de calidad. Hay diversos algoritmos, uno de ellos es la \"Distancia de Levenshtein\""
   ]
  },
  {
   "cell_type": "code",
   "execution_count": 81,
   "metadata": {},
   "outputs": [],
   "source": [
    "def levenshtein_ratio_and_distance(s, t, ratio_calc = False):\n",
    "    \"\"\" levenshtein_ratio_and_distance:\n",
    "        Esta función calcula la distancia de Levenshtein entre dos cadenas de caracteres\n",
    "        Si ratio_calc = True, la función computa la distancia de Levenshtein o similaridad entre dos cadenas de caracteres\n",
    "        Para todas las 'i' y 'j', distance[i,j] contendrá la distancia de Levenshtein entre los primeros 'i' caracteres de 's'\n",
    "        y el primer 'j' de 't'\n",
    "        Fuente: https://www.datacamp.com/community/tutorials/fuzzy-string-python\n",
    "    \"\"\"\n",
    "    import numpy as np\n",
    "    # Initialize matrix of zeros\n",
    "    s = str(s)\n",
    "    t = str(t)\n",
    "    rows = len(s)+1\n",
    "    cols = len(t)+1\n",
    "    if (rows == 1 | cols == 1):\n",
    "        return 0\n",
    "    col = 0\n",
    "    row = 0\n",
    "    distance = np.zeros((rows,cols),dtype = int)\n",
    "\n",
    "    # Populate matrix of zeros with the indeces of each character of both strings\n",
    "    for i in range(1, rows):\n",
    "        for k in range(1,cols):\n",
    "            distance[i][0] = i\n",
    "            distance[0][k] = k\n",
    "\n",
    "    # Iterate over the matrix to compute the cost of deletions,insertions and/or substitutions    \n",
    "    for col in range(1, cols):\n",
    "        for row in range(1, rows):\n",
    "            if s[row-1] == t[col-1]:\n",
    "                cost = 0 # If the characters are the same in the two strings in a given position [i,j] then the cost is 0\n",
    "            else:\n",
    "                # In order to align the results with those of the Python Levenshtein package, if we choose to calculate the ratio\n",
    "                # the cost of a substitution is 2. If we calculate just distance, then the cost of a substitution is 1.\n",
    "                if ratio_calc == True:\n",
    "                    cost = 2\n",
    "                else:\n",
    "                    cost = 1\n",
    "            distance[row][col] = min(distance[row-1][col] + 1,      # Cost of deletions\n",
    "                                 distance[row][col-1] + 1,          # Cost of insertions\n",
    "                                 distance[row-1][col-1] + cost)     # Cost of substitutions\n",
    "    if ratio_calc == True:\n",
    "        # Computation of the Levenshtein Distance Ratio\n",
    "        Ratio = ((len(s)+len(t)) - distance[row][col]) / (len(s)+len(t))\n",
    "        return Ratio\n",
    "    else:\n",
    "        # print(distance) # Uncomment if you want to see the matrix showing how the algorithm computes the cost of deletions,\n",
    "        # insertions and/or substitutions\n",
    "        # This is the minimum number of edits needed to convert string a to string b\n",
    "        return \"Las cadenas de caracteres están a {} ediciones de distancia\".format(distance[row][col])"
   ]
  },
  {
   "cell_type": "code",
   "execution_count": 82,
   "metadata": {},
   "outputs": [],
   "source": [
    "valor1 = 'Capital Federal'"
   ]
  },
  {
   "cell_type": "code",
   "execution_count": 83,
   "metadata": {},
   "outputs": [],
   "source": [
    "valor2 = 'Cap. Federal'"
   ]
  },
  {
   "cell_type": "code",
   "execution_count": 84,
   "metadata": {},
   "outputs": [
    {
     "data": {
      "text/plain": [
       "0.8148148148148148"
      ]
     },
     "execution_count": 84,
     "metadata": {},
     "output_type": "execute_result"
    }
   ],
   "source": [
    "levenshtein_ratio_and_distance(valor1, valor2, ratio_calc = True)"
   ]
  },
  {
   "cell_type": "code",
   "execution_count": 85,
   "metadata": {},
   "outputs": [
    {
     "data": {
      "text/plain": [
       "'Las cadenas de caracteres están a 4 ediciones de distancia'"
      ]
     },
     "execution_count": 85,
     "metadata": {},
     "output_type": "execute_result"
    }
   ],
   "source": [
    "levenshtein_ratio_and_distance(valor1, valor2)"
   ]
  }
 ],
 "metadata": {
  "kernelspec": {
   "display_name": "Python 3 (ipykernel)",
   "language": "python",
   "name": "python3"
  },
  "language_info": {
   "codemirror_mode": {
    "name": "ipython",
    "version": 3
   },
   "file_extension": ".py",
   "mimetype": "text/x-python",
   "name": "python",
   "nbconvert_exporter": "python",
   "pygments_lexer": "ipython3",
   "version": "3.9.12"
  }
 },
 "nbformat": 4,
 "nbformat_minor": 4
}
