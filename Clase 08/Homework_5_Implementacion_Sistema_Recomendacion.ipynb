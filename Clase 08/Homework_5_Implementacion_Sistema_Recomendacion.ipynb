{
 "cells": [
  {
   "cell_type": "markdown",
   "id": "90902c42-418d-4dfd-aaf9-abe19a672b22",
   "metadata": {},
   "source": [
    "La empresa cuenta con un sitio web y para fomentar el uso del canal de venta online, se requiere la implementación de un sistema de recomendación."
   ]
  },
  {
   "cell_type": "code",
   "execution_count": 1,
   "id": "ec1f8e3d-348e-4874-a388-ea59af8de393",
   "metadata": {},
   "outputs": [],
   "source": [
    "import pandas as pd\n",
    "import matplotlib.pyplot as plt\n",
    "import seaborn as sns\n",
    "import numpy as np\n",
    "sns.set()"
   ]
  },
  {
   "cell_type": "code",
   "execution_count": 2,
   "id": "c18b5d39-4225-452f-be07-fdd9350e8a10",
   "metadata": {},
   "outputs": [],
   "source": [
    "from IPython.display import clear_output"
   ]
  },
  {
   "cell_type": "markdown",
   "id": "810ed94a-99d9-4f77-ade4-7a66ae03c76a",
   "metadata": {},
   "source": [
    "Se utiliza el archivo de encuestas de ventas:"
   ]
  },
  {
   "cell_type": "code",
   "execution_count": 3,
   "id": "cb4b85fa-5517-41e7-8831-a9ce45bde56d",
   "metadata": {},
   "outputs": [],
   "source": [
    "df_encuestas = pd.read_csv(\"../Datasets/Venta_Encuestas.csv\", sep=\",\")"
   ]
  },
  {
   "cell_type": "code",
   "execution_count": 4,
   "id": "2838a6d2-9764-40f3-80e3-f1fb0617dddd",
   "metadata": {},
   "outputs": [
    {
     "data": {
      "text/html": [
       "<div>\n",
       "<style scoped>\n",
       "    .dataframe tbody tr th:only-of-type {\n",
       "        vertical-align: middle;\n",
       "    }\n",
       "\n",
       "    .dataframe tbody tr th {\n",
       "        vertical-align: top;\n",
       "    }\n",
       "\n",
       "    .dataframe thead th {\n",
       "        text-align: right;\n",
       "    }\n",
       "</style>\n",
       "<table border=\"1\" class=\"dataframe\">\n",
       "  <thead>\n",
       "    <tr style=\"text-align: right;\">\n",
       "      <th></th>\n",
       "      <th>IdCliente</th>\n",
       "      <th>IdProducto</th>\n",
       "      <th>Ponderacion</th>\n",
       "    </tr>\n",
       "  </thead>\n",
       "  <tbody>\n",
       "    <tr>\n",
       "      <th>0</th>\n",
       "      <td>1.0</td>\n",
       "      <td>42786</td>\n",
       "      <td>1</td>\n",
       "    </tr>\n",
       "    <tr>\n",
       "      <th>1</th>\n",
       "      <td>1.0</td>\n",
       "      <td>42787</td>\n",
       "      <td>4</td>\n",
       "    </tr>\n",
       "    <tr>\n",
       "      <th>2</th>\n",
       "      <td>1.0</td>\n",
       "      <td>42823</td>\n",
       "      <td>4</td>\n",
       "    </tr>\n",
       "    <tr>\n",
       "      <th>3</th>\n",
       "      <td>1.0</td>\n",
       "      <td>42881</td>\n",
       "      <td>1</td>\n",
       "    </tr>\n",
       "    <tr>\n",
       "      <th>4</th>\n",
       "      <td>1.0</td>\n",
       "      <td>42884</td>\n",
       "      <td>5</td>\n",
       "    </tr>\n",
       "  </tbody>\n",
       "</table>\n",
       "</div>"
      ],
      "text/plain": [
       "   IdCliente  IdProducto  Ponderacion\n",
       "0        1.0       42786            1\n",
       "1        1.0       42787            4\n",
       "2        1.0       42823            4\n",
       "3        1.0       42881            1\n",
       "4        1.0       42884            5"
      ]
     },
     "execution_count": 4,
     "metadata": {},
     "output_type": "execute_result"
    }
   ],
   "source": [
    "df_encuestas.head()"
   ]
  },
  {
   "cell_type": "code",
   "execution_count": 5,
   "id": "a708d4f2-290d-4b30-99a5-edd2b00ac862",
   "metadata": {},
   "outputs": [
    {
     "name": "stdout",
     "output_type": "stream",
     "text": [
      "<class 'pandas.core.frame.DataFrame'>\n",
      "RangeIndex: 17207 entries, 0 to 17206\n",
      "Data columns (total 3 columns):\n",
      " #   Column       Non-Null Count  Dtype  \n",
      "---  ------       --------------  -----  \n",
      " 0   IdCliente    17122 non-null  float64\n",
      " 1   IdProducto   17207 non-null  int64  \n",
      " 2   Ponderacion  17207 non-null  int64  \n",
      "dtypes: float64(1), int64(2)\n",
      "memory usage: 403.4 KB\n"
     ]
    }
   ],
   "source": [
    "df_encuestas.info()"
   ]
  },
  {
   "cell_type": "markdown",
   "id": "574fbc4a-0b42-4864-9606-4a1ac309e938",
   "metadata": {},
   "source": [
    "Se filtran solo los registros nulos:"
   ]
  },
  {
   "cell_type": "markdown",
   "id": "2591fc10-de27-405c-a373-4c9f48f5efcd",
   "metadata": {},
   "source": [
    "Cantidad de clientes:"
   ]
  },
  {
   "cell_type": "markdown",
   "id": "2e2aec19-e3a2-46c9-96d1-89e742ec24a9",
   "metadata": {},
   "source": [
    "Cantidad de productos:"
   ]
  },
  {
   "cell_type": "markdown",
   "id": "d4e57b4f-b897-40db-8d81-d13a2e5c069c",
   "metadata": {},
   "source": [
    "Distribución de las ponderaciones"
   ]
  },
  {
   "cell_type": "code",
   "execution_count": 12,
   "id": "e35c0ecd-0099-48c3-b660-48370eab633e",
   "metadata": {},
   "outputs": [],
   "source": [
    "from surprise import Dataset\n",
    "from surprise import Reader\n",
    "from surprise.model_selection import train_test_split\n",
    "from surprise.model_selection import cross_validate"
   ]
  },
  {
   "cell_type": "code",
   "execution_count": 1,
   "id": "1a6ff98a-4bcf-4b10-ae9d-08036b9ca16e",
   "metadata": {
    "collapsed": true,
    "jupyter": {
     "outputs_hidden": true
    },
    "tags": []
   },
   "outputs": [],
   "source": [
    "from surprise import SVD"
   ]
  },
  {
   "cell_type": "markdown",
   "id": "d18202f3-3ede-4f54-bed1-7df62853d353",
   "metadata": {},
   "source": [
    "Se visualiza la predicción para un cliente/producto en particular"
   ]
  },
  {
   "cell_type": "code",
   "execution_count": 22,
   "id": "a4bfac37-e485-4b1c-af4d-77e16dbb7f3c",
   "metadata": {},
   "outputs": [],
   "source": [
    "def generar_recommendacion(algo, id_cliente, top=5):\n",
    "    \"\"\"\n",
    "    Muestra los top productos recomendados\n",
    "    \"\"\"\n",
    "    lista_productos_id = []\n",
    "    lista_productos_desc = []\n",
    "    lista_productos_pond = []\n",
    "    \n",
    "    df_productos = pd.read_csv(\"../Datasets/Productos.csv\", sep=\",\", encoding=\"ansi\")\n",
    "    df_productos.drop(['Tipo','Precio'], axis=1,inplace=True)\n",
    "    df_productos.rename(columns = {'ID_PRODUCTO': 'IdProducto'}, inplace = True)\n",
    "    df_productos.dropna(inplace=True)\n",
    "    for prod in df_productos.IdProducto.unique():\n",
    "        lista_productos_id.append(prod)\n",
    "        lista_productos_pond.append(algo.predict(id_cliente,prod)[3])\n",
    "            \n",
    "    lst = list(zip(lista_productos_id, lista_productos_pond))\n",
    "    df = pd.DataFrame(lst , columns = ['IdProducto','Ponderacion'])\n",
    "    df = df.sort_values(by=['Ponderacion'], ascending=False).reset_index()\n",
    "    df.drop(columns=['index'],inplace=True)\n",
    "    df = pd.merge(df, df_productos, on='IdProducto', how='left')\n",
    "    \n",
    "    return df.head(top)"
   ]
  },
  {
   "cell_type": "markdown",
   "id": "ffdee52b-afd7-4c7b-9584-b092cfe7162a",
   "metadata": {},
   "source": [
    "Recomendaciones para el cliente N_cli"
   ]
  },
  {
   "cell_type": "code",
   "execution_count": null,
   "id": "63f7a643",
   "metadata": {},
   "outputs": [],
   "source": [
    "N_cli = 1\n",
    "generar_recommendacion(svd, N_cli)"
   ]
  },
  {
   "cell_type": "markdown",
   "id": "6af31a09-e0d3-42fc-847a-28c19c28c3d7",
   "metadata": {},
   "source": [
    "Enlace recomendado:\n",
    "\n",
    "https://towardsdatascience.com/how-you-can-build-simple-recommender-systems-with-surprise-b0d32a8e4802"
   ]
  }
 ],
 "metadata": {
  "kernelspec": {
   "display_name": "Python 3 (ipykernel)",
   "language": "python",
   "name": "python3"
  },
  "language_info": {
   "codemirror_mode": {
    "name": "ipython",
    "version": 3
   },
   "file_extension": ".py",
   "mimetype": "text/x-python",
   "name": "python",
   "nbconvert_exporter": "python",
   "pygments_lexer": "ipython3",
   "version": "3.9.12"
  }
 },
 "nbformat": 4,
 "nbformat_minor": 5
}
